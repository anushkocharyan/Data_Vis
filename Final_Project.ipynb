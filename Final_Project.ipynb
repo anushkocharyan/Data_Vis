{
 "cells": [
  {
   "cell_type": "code",
   "execution_count": 267,
   "metadata": {},
   "outputs": [],
   "source": [
    "import numpy as np\n",
    "import pandas as pd\n",
    "#import plotly.plotly as py\n",
    "#import plotly.graph_objs as go\n",
    "import warnings\n",
    "warnings.filterwarnings('ignore')"
   ]
  },
  {
   "cell_type": "code",
   "execution_count": 268,
   "metadata": {},
   "outputs": [],
   "source": [
    "import plotly.graph_objs as go\n",
    "from plotly.offline import download_plotlyjs, init_notebook_mode, plot, iplot"
   ]
  },
  {
   "cell_type": "code",
   "execution_count": 269,
   "metadata": {},
   "outputs": [
    {
     "data": {
      "text/html": [
       "<script type=\"text/javascript\">window.PlotlyConfig = {MathJaxConfig: 'local'};</script><script type=\"text/javascript\">if (window.MathJax) {MathJax.Hub.Config({SVG: {font: \"STIX-Web\"}});}</script><script>requirejs.config({paths: { 'plotly': ['https://cdn.plot.ly/plotly-latest.min']},});if(!window._Plotly) {require(['plotly'],function(plotly) {window._Plotly=plotly;});}</script>"
      ],
      "text/vnd.plotly.v1+html": [
       "<script type=\"text/javascript\">window.PlotlyConfig = {MathJaxConfig: 'local'};</script><script type=\"text/javascript\">if (window.MathJax) {MathJax.Hub.Config({SVG: {font: \"STIX-Web\"}});}</script><script>requirejs.config({paths: { 'plotly': ['https://cdn.plot.ly/plotly-latest.min']},});if(!window._Plotly) {require(['plotly'],function(plotly) {window._Plotly=plotly;});}</script>"
      ]
     },
     "metadata": {},
     "output_type": "display_data"
    }
   ],
   "source": [
    "init_notebook_mode(connected=True)"
   ]
  },
  {
   "cell_type": "markdown",
   "metadata": {},
   "source": [
    "For my final project, I will explore a dataset on the number of refugees around the world from 1975 until 2016 which I obtained from the United Nations data portal. I chose to analyze data on refugees since I majored in international relations in undergraduate school and studied  history of political regimes, conflict and war which are the main causes of why people become refugees. In addition, I feel very strongly about the refugee crisis because I worked directly with refugees from multple countries in Africa, Europe and Asia to help them rebuild their life in the United States. As I explore this data, I will also use auxiliary datasets, including world population and 2016 GDP data from the World Bank's website and geographic coordinates data which I found on simplemap.com. I believe these supplementary datasets will help me make more interesting and insightful plots.  "
   ]
  },
  {
   "cell_type": "markdown",
   "metadata": {},
   "source": [
    "# What types of questions were you hoping to explore with this data?"
   ]
  },
  {
   "cell_type": "markdown",
   "metadata": {},
   "source": [
    "First of all, I would like to take a look at the historic trend for the number of refugees worldwide."
   ]
  },
  {
   "cell_type": "code",
   "execution_count": 270,
   "metadata": {},
   "outputs": [],
   "source": [
    "df = pd.read_csv('UN_refugees_data.csv')"
   ]
  },
  {
   "cell_type": "code",
   "execution_count": 271,
   "metadata": {},
   "outputs": [
    {
     "data": {
      "text/html": [
       "<div>\n",
       "<style scoped>\n",
       "    .dataframe tbody tr th:only-of-type {\n",
       "        vertical-align: middle;\n",
       "    }\n",
       "\n",
       "    .dataframe tbody tr th {\n",
       "        vertical-align: top;\n",
       "    }\n",
       "\n",
       "    .dataframe thead th {\n",
       "        text-align: right;\n",
       "    }\n",
       "</style>\n",
       "<table border=\"1\" class=\"dataframe\">\n",
       "  <thead>\n",
       "    <tr style=\"text-align: right;\">\n",
       "      <th></th>\n",
       "      <th>Country or territory of asylum or residence</th>\n",
       "      <th>Country or territory of origin</th>\n",
       "      <th>Year</th>\n",
       "      <th>Total Refugees</th>\n",
       "    </tr>\n",
       "  </thead>\n",
       "  <tbody>\n",
       "    <tr>\n",
       "      <th>0</th>\n",
       "      <td>Afghanistan</td>\n",
       "      <td>Iraq</td>\n",
       "      <td>2016</td>\n",
       "      <td>1.0</td>\n",
       "    </tr>\n",
       "    <tr>\n",
       "      <th>1</th>\n",
       "      <td>Afghanistan</td>\n",
       "      <td>Islamic Rep. of Iran</td>\n",
       "      <td>2016</td>\n",
       "      <td>33.0</td>\n",
       "    </tr>\n",
       "    <tr>\n",
       "      <th>2</th>\n",
       "      <td>Afghanistan</td>\n",
       "      <td>Pakistan</td>\n",
       "      <td>2016</td>\n",
       "      <td>59737.0</td>\n",
       "    </tr>\n",
       "    <tr>\n",
       "      <th>3</th>\n",
       "      <td>Albania</td>\n",
       "      <td>China</td>\n",
       "      <td>2016</td>\n",
       "      <td>11.0</td>\n",
       "    </tr>\n",
       "    <tr>\n",
       "      <th>4</th>\n",
       "      <td>Albania</td>\n",
       "      <td>Dem. Rep. of the Congo</td>\n",
       "      <td>2016</td>\n",
       "      <td>3.0</td>\n",
       "    </tr>\n",
       "  </tbody>\n",
       "</table>\n",
       "</div>"
      ],
      "text/plain": [
       "  Country or territory of asylum or residence Country or territory of origin  \\\n",
       "0                                 Afghanistan                           Iraq   \n",
       "1                                 Afghanistan           Islamic Rep. of Iran   \n",
       "2                                 Afghanistan                       Pakistan   \n",
       "3                                     Albania                          China   \n",
       "4                                     Albania         Dem. Rep. of the Congo   \n",
       "\n",
       "   Year  Total Refugees  \n",
       "0  2016             1.0  \n",
       "1  2016            33.0  \n",
       "2  2016         59737.0  \n",
       "3  2016            11.0  \n",
       "4  2016             3.0  "
      ]
     },
     "execution_count": 271,
     "metadata": {},
     "output_type": "execute_result"
    }
   ],
   "source": [
    "df.head()"
   ]
  },
  {
   "cell_type": "code",
   "execution_count": 272,
   "metadata": {},
   "outputs": [],
   "source": [
    "df_tseries = df.groupby('Year')['Total Refugees'].sum().reset_index()"
   ]
  },
  {
   "cell_type": "code",
   "execution_count": 273,
   "metadata": {},
   "outputs": [
    {
     "data": {
      "application/vnd.plotly.v1+json": {
       "config": {
        "linkText": "Export to plot.ly",
        "plotlyServerURL": "https://plot.ly",
        "showLink": false
       },
       "data": [
        {
         "line": {
          "color": "#F28D28"
         },
         "mode": "lines",
         "opacity": 1,
         "type": "scatter",
         "uid": "be274d57-cc9f-40cb-88a8-6c8733f92f0d",
         "x": [
          1975,
          1976,
          1977,
          1978,
          1979,
          1980,
          1981,
          1982,
          1983,
          1984,
          1985,
          1986,
          1987,
          1988,
          1989,
          1990,
          1991,
          1992,
          1993,
          1994,
          1995,
          1996,
          1997,
          1998,
          1999,
          2000,
          2001,
          2002,
          2003,
          2004,
          2005,
          2006,
          2007,
          2008,
          2009,
          2010,
          2011,
          2012,
          2013,
          2014,
          2015,
          2016
         ],
         "y": [
          3529434,
          4270631,
          4518659,
          5065844,
          6279912,
          8454937,
          9714306,
          10319369,
          10620803,
          10728326,
          11863562,
          12633974,
          13128347,
          14347051,
          14732934,
          17395979,
          16854795,
          17838074,
          16325525,
          15753690,
          14896086,
          13357087,
          12015350,
          11480860,
          11687225,
          12129572,
          12116835,
          10594055,
          9592795,
          9573397,
          8661994,
          9877695,
          9679646,
          9061589,
          8806865,
          9952409,
          9800860,
          9879254,
          11000167,
          13690829,
          15479355,
          16533413
         ]
        }
       ],
       "layout": {
        "title": {
         "text": "<b>Number of Refugees Worldwide </b>"
        },
        "xaxis": {
         "title": {
          "font": {
           "color": "#7f7f7f",
           "size": 18
          },
          "text": "Year"
         }
        },
        "yaxis": {
         "title": {
          "font": {
           "color": "#7f7f7f",
           "size": 18
          },
          "text": "Number of Refugees"
         }
        }
       }
      },
      "text/html": [
       "<div id=\"362ace69-e9bf-49a5-b893-e0c6f412c144\" style=\"height: 525px; width: 100%;\" class=\"plotly-graph-div\"></div><script type=\"text/javascript\">require([\"plotly\"], function(Plotly) { window.PLOTLYENV=window.PLOTLYENV || {};window.PLOTLYENV.BASE_URL=\"https://plot.ly\";\n",
       "if (document.getElementById(\"362ace69-e9bf-49a5-b893-e0c6f412c144\")) {\n",
       "    Plotly.newPlot(\"362ace69-e9bf-49a5-b893-e0c6f412c144\", [{\"line\": {\"color\": \"#F28D28\"}, \"mode\": \"lines\", \"opacity\": 1, \"x\": [1975, 1976, 1977, 1978, 1979, 1980, 1981, 1982, 1983, 1984, 1985, 1986, 1987, 1988, 1989, 1990, 1991, 1992, 1993, 1994, 1995, 1996, 1997, 1998, 1999, 2000, 2001, 2002, 2003, 2004, 2005, 2006, 2007, 2008, 2009, 2010, 2011, 2012, 2013, 2014, 2015, 2016], \"y\": [3529434.0, 4270631.0, 4518659.0, 5065844.0, 6279912.0, 8454937.0, 9714306.0, 10319369.0, 10620803.0, 10728326.0, 11863562.0, 12633974.0, 13128347.0, 14347051.0, 14732934.0, 17395979.0, 16854795.0, 17838074.0, 16325525.0, 15753690.0, 14896086.0, 13357087.0, 12015350.0, 11480860.0, 11687225.0, 12129572.0, 12116835.0, 10594055.0, 9592795.0, 9573397.0, 8661994.0, 9877695.0, 9679646.0, 9061589.0, 8806865.0, 9952409.0, 9800860.0, 9879254.0, 11000167.0, 13690829.0, 15479355.0, 16533413.0], \"type\": \"scatter\", \"uid\": \"be274d57-cc9f-40cb-88a8-6c8733f92f0d\"}], {\"title\": {\"text\": \"<b>Number of Refugees Worldwide </b>\"}, \"xaxis\": {\"title\": {\"font\": {\"color\": \"#7f7f7f\", \"size\": 18}, \"text\": \"Year\"}}, \"yaxis\": {\"title\": {\"font\": {\"color\": \"#7f7f7f\", \"size\": 18}, \"text\": \"Number of Refugees\"}}}, {\"showLink\": false, \"linkText\": \"Export to plot.ly\", \"plotlyServerURL\": \"https://plot.ly\"}); \n",
       "}\n",
       "});</script><script type=\"text/javascript\">window.addEventListener(\"resize\", function(){if (document.getElementById(\"362ace69-e9bf-49a5-b893-e0c6f412c144\")) {window._Plotly.Plots.resize(document.getElementById(\"362ace69-e9bf-49a5-b893-e0c6f412c144\"));};})</script>"
      ],
      "text/vnd.plotly.v1+html": [
       "<div id=\"362ace69-e9bf-49a5-b893-e0c6f412c144\" style=\"height: 525px; width: 100%;\" class=\"plotly-graph-div\"></div><script type=\"text/javascript\">require([\"plotly\"], function(Plotly) { window.PLOTLYENV=window.PLOTLYENV || {};window.PLOTLYENV.BASE_URL=\"https://plot.ly\";\n",
       "if (document.getElementById(\"362ace69-e9bf-49a5-b893-e0c6f412c144\")) {\n",
       "    Plotly.newPlot(\"362ace69-e9bf-49a5-b893-e0c6f412c144\", [{\"line\": {\"color\": \"#F28D28\"}, \"mode\": \"lines\", \"opacity\": 1, \"x\": [1975, 1976, 1977, 1978, 1979, 1980, 1981, 1982, 1983, 1984, 1985, 1986, 1987, 1988, 1989, 1990, 1991, 1992, 1993, 1994, 1995, 1996, 1997, 1998, 1999, 2000, 2001, 2002, 2003, 2004, 2005, 2006, 2007, 2008, 2009, 2010, 2011, 2012, 2013, 2014, 2015, 2016], \"y\": [3529434.0, 4270631.0, 4518659.0, 5065844.0, 6279912.0, 8454937.0, 9714306.0, 10319369.0, 10620803.0, 10728326.0, 11863562.0, 12633974.0, 13128347.0, 14347051.0, 14732934.0, 17395979.0, 16854795.0, 17838074.0, 16325525.0, 15753690.0, 14896086.0, 13357087.0, 12015350.0, 11480860.0, 11687225.0, 12129572.0, 12116835.0, 10594055.0, 9592795.0, 9573397.0, 8661994.0, 9877695.0, 9679646.0, 9061589.0, 8806865.0, 9952409.0, 9800860.0, 9879254.0, 11000167.0, 13690829.0, 15479355.0, 16533413.0], \"type\": \"scatter\", \"uid\": \"be274d57-cc9f-40cb-88a8-6c8733f92f0d\"}], {\"title\": {\"text\": \"<b>Number of Refugees Worldwide </b>\"}, \"xaxis\": {\"title\": {\"font\": {\"color\": \"#7f7f7f\", \"size\": 18}, \"text\": \"Year\"}}, \"yaxis\": {\"title\": {\"font\": {\"color\": \"#7f7f7f\", \"size\": 18}, \"text\": \"Number of Refugees\"}}}, {\"showLink\": false, \"linkText\": \"Export to plot.ly\", \"plotlyServerURL\": \"https://plot.ly\"}); \n",
       "}\n",
       "});</script><script type=\"text/javascript\">window.addEventListener(\"resize\", function(){if (document.getElementById(\"362ace69-e9bf-49a5-b893-e0c6f412c144\")) {window._Plotly.Plots.resize(document.getElementById(\"362ace69-e9bf-49a5-b893-e0c6f412c144\"));};})</script>"
      ]
     },
     "metadata": {},
     "output_type": "display_data"
    }
   ],
   "source": [
    "trace = go.Scatter(\n",
    "                x=df_tseries ['Year'],\n",
    "                y=df_tseries ['Total Refugees'],\n",
    "                mode = 'lines',\n",
    "                line = dict(color = \"#F28D28\"),\n",
    "                opacity = 1)\n",
    "\n",
    "data = [trace]\n",
    "\n",
    "layout = dict(\n",
    "    title='<b>Number of Refugees Worldwide </b>',\n",
    "        xaxis=go.layout.XAxis(\n",
    "        title=go.layout.xaxis.Title(\n",
    "            text='Year',\n",
    "            font=dict(\n",
    "\n",
    "                size=18,\n",
    "                color='#7f7f7f'\n",
    "            )\n",
    "        )\n",
    "    ),\n",
    "    yaxis=go.layout.YAxis(\n",
    "        title=go.layout.yaxis.Title(\n",
    "            text='Number of Refugees',\n",
    "            font=dict(\n",
    "\n",
    "                size=18,\n",
    "                color='#7f7f7f'\n",
    "            )\n",
    "        )\n",
    "    )\n",
    "    \n",
    ")\n",
    "\n",
    "        \n",
    "fig = go.Figure(data=data, layout=layout)\n",
    "\n",
    "iplot(fig, filename='Refugees in the World')\n"
   ]
  },
  {
   "cell_type": "markdown",
   "metadata": {},
   "source": [
    "Although there is an upward trend in the number of refugees since the year of 2015, we also observe that number of refugees in the world was at its maximum in early 1990s. "
   ]
  },
  {
   "cell_type": "markdown",
   "metadata": {},
   "source": [
    "Next, I will take a look at the distribution of refugees from 1995 to 2015 by country of origin. "
   ]
  },
  {
   "cell_type": "code",
   "execution_count": 274,
   "metadata": {},
   "outputs": [],
   "source": [
    "total_ref_by_origin = df.groupby(['Country or territory of origin', 'Year'])['Total Refugees'].sum().reset_index()\n",
    "\n",
    "total_ref_by_asylum = df.groupby(['Country or territory of asylum or residence', 'Year'])['Total Refugees'].\\\n",
    "sum().reset_index()\n",
    "\n",
    "total_ref_by_origin = total_ref_by_origin.rename(index=str, columns={'Total Refugees': 'Total Refugees Abroad',\n",
    "                                                        \"Country or territory of origin\" : 'Country'})\n",
    "total_ref_by_asylum = total_ref_by_asylum.rename(index=str, columns={'Total Refugees': 'Total Refugees in Country',\n",
    "                                                        \"Country or territory of asylum or residence\" : 'Country'})\n",
    "\n",
    "combined = pd.merge(total_ref_by_asylum, total_ref_by_origin, on = ['Country', 'Year'],  how='inner')"
   ]
  },
  {
   "cell_type": "code",
   "execution_count": 275,
   "metadata": {},
   "outputs": [
    {
     "data": {
      "application/vnd.plotly.v1+json": {
       "config": {
        "linkText": "Export to plot.ly",
        "plotlyServerURL": "https://plot.ly",
        "showLink": false
       },
       "data": [
        {
         "name": "1995",
         "type": "box",
         "uid": "7a6bc155-d738-488c-8e89-c2d9afa8c8e6",
         "y": [
          2679133,
          246657,
          201442,
          200520,
          350582,
          104693,
          245572,
          286712,
          100987,
          718719,
          112364,
          744637,
          125562,
          1819366,
          379495,
          638698,
          107589,
          445280,
          543541
         ]
        },
        {
         "name": "2000",
         "type": "box",
         "uid": "f44af13d-a478-4138-9901-6906732ea8ed",
         "y": [
          433760,
          284277,
          504981,
          568084,
          110975,
          335199,
          371713,
          376851,
          526179,
          266930,
          119056,
          146748,
          402807,
          475655,
          124160,
          494363,
          370758
         ]
        },
        {
         "name": "2005",
         "type": "box",
         "uid": "d6fe3e14-06c0-4a0c-b005-31da43ce855a",
         "y": [
          2166149,
          215827,
          233675,
          109930,
          438706,
          124101,
          119148,
          430929,
          144066,
          262299,
          231139,
          103037,
          100264,
          189989,
          395553,
          108139,
          693632,
          170567,
          358268
         ]
        },
        {
         "name": "2010",
         "type": "box",
         "uid": "5544597f-5897-4c9b-911e-f51521bbada3",
         "y": [
          3054709,
          134858,
          162755,
          184602,
          113233,
          476693,
          205460,
          1683579,
          108255,
          115524,
          182871,
          770152,
          141062,
          379151,
          146793,
          338698
         ]
        },
        {
         "name": "2015",
         "type": "box",
         "uid": "78722fd7-42ef-4cc5-afd7-1572cf1489a3",
         "y": [
          2663005,
          292764,
          471105,
          212912,
          541288,
          379774,
          261094,
          154213,
          152137,
          277408,
          286366,
          1123126,
          778650,
          121443,
          622483,
          4851450,
          321132
         ]
        }
       ],
       "layout": {
        "title": {
         "text": "<b>Distribution of Refugees Between 1995 and 2015</b>"
        },
        "xaxis": {
         "title": {
          "text": "Year"
         }
        },
        "yaxis": {
         "title": {
          "text": "Number of Refugees from Each Country"
         }
        }
       }
      },
      "text/html": [
       "<div id=\"61795b22-3cd9-44eb-b966-45ec8a8babf6\" style=\"height: 525px; width: 100%;\" class=\"plotly-graph-div\"></div><script type=\"text/javascript\">require([\"plotly\"], function(Plotly) { window.PLOTLYENV=window.PLOTLYENV || {};window.PLOTLYENV.BASE_URL=\"https://plot.ly\";\n",
       "if (document.getElementById(\"61795b22-3cd9-44eb-b966-45ec8a8babf6\")) {\n",
       "    Plotly.newPlot(\"61795b22-3cd9-44eb-b966-45ec8a8babf6\", [{\"name\": \"1995\", \"y\": [2679133.0, 246657.0, 201442.0, 200520.0, 350582.0, 104693.0, 245572.0, 286712.0, 100987.0, 718719.0, 112364.0, 744637.0, 125562.0, 1819366.0, 379495.0, 638698.0, 107589.0, 445280.0, 543541.0], \"type\": \"box\", \"uid\": \"7a6bc155-d738-488c-8e89-c2d9afa8c8e6\"}, {\"name\": \"2000\", \"y\": [433760.0, 284277.0, 504981.0, 568084.0, 110975.0, 335199.0, 371713.0, 376851.0, 526179.0, 266930.0, 119056.0, 146748.0, 402807.0, 475655.0, 124160.0, 494363.0, 370758.0], \"type\": \"box\", \"uid\": \"f44af13d-a478-4138-9901-6906732ea8ed\"}, {\"name\": \"2005\", \"y\": [2166149.0, 215827.0, 233675.0, 109930.0, 438706.0, 124101.0, 119148.0, 430929.0, 144066.0, 262299.0, 231139.0, 103037.0, 100264.0, 189989.0, 395553.0, 108139.0, 693632.0, 170567.0, 358268.0], \"type\": \"box\", \"uid\": \"d6fe3e14-06c0-4a0c-b005-31da43ce855a\"}, {\"name\": \"2010\", \"y\": [3054709.0, 134858.0, 162755.0, 184602.0, 113233.0, 476693.0, 205460.0, 1683579.0, 108255.0, 115524.0, 182871.0, 770152.0, 141062.0, 379151.0, 146793.0, 338698.0], \"type\": \"box\", \"uid\": \"5544597f-5897-4c9b-911e-f51521bbada3\"}, {\"name\": \"2015\", \"y\": [2663005.0, 292764.0, 471105.0, 212912.0, 541288.0, 379774.0, 261094.0, 154213.0, 152137.0, 277408.0, 286366.0, 1123126.0, 778650.0, 121443.0, 622483.0, 4851450.0, 321132.0], \"type\": \"box\", \"uid\": \"78722fd7-42ef-4cc5-afd7-1572cf1489a3\"}], {\"title\": {\"text\": \"<b>Distribution of Refugees Between 1995 and 2015</b>\"}, \"xaxis\": {\"title\": {\"text\": \"Year\"}}, \"yaxis\": {\"title\": {\"text\": \"Number of Refugees from Each Country\"}}}, {\"showLink\": false, \"linkText\": \"Export to plot.ly\", \"plotlyServerURL\": \"https://plot.ly\"}); \n",
       "}\n",
       "});</script><script type=\"text/javascript\">window.addEventListener(\"resize\", function(){if (document.getElementById(\"61795b22-3cd9-44eb-b966-45ec8a8babf6\")) {window._Plotly.Plots.resize(document.getElementById(\"61795b22-3cd9-44eb-b966-45ec8a8babf6\"));};})</script>"
      ],
      "text/vnd.plotly.v1+html": [
       "<div id=\"61795b22-3cd9-44eb-b966-45ec8a8babf6\" style=\"height: 525px; width: 100%;\" class=\"plotly-graph-div\"></div><script type=\"text/javascript\">require([\"plotly\"], function(Plotly) { window.PLOTLYENV=window.PLOTLYENV || {};window.PLOTLYENV.BASE_URL=\"https://plot.ly\";\n",
       "if (document.getElementById(\"61795b22-3cd9-44eb-b966-45ec8a8babf6\")) {\n",
       "    Plotly.newPlot(\"61795b22-3cd9-44eb-b966-45ec8a8babf6\", [{\"name\": \"1995\", \"y\": [2679133.0, 246657.0, 201442.0, 200520.0, 350582.0, 104693.0, 245572.0, 286712.0, 100987.0, 718719.0, 112364.0, 744637.0, 125562.0, 1819366.0, 379495.0, 638698.0, 107589.0, 445280.0, 543541.0], \"type\": \"box\", \"uid\": \"7a6bc155-d738-488c-8e89-c2d9afa8c8e6\"}, {\"name\": \"2000\", \"y\": [433760.0, 284277.0, 504981.0, 568084.0, 110975.0, 335199.0, 371713.0, 376851.0, 526179.0, 266930.0, 119056.0, 146748.0, 402807.0, 475655.0, 124160.0, 494363.0, 370758.0], \"type\": \"box\", \"uid\": \"f44af13d-a478-4138-9901-6906732ea8ed\"}, {\"name\": \"2005\", \"y\": [2166149.0, 215827.0, 233675.0, 109930.0, 438706.0, 124101.0, 119148.0, 430929.0, 144066.0, 262299.0, 231139.0, 103037.0, 100264.0, 189989.0, 395553.0, 108139.0, 693632.0, 170567.0, 358268.0], \"type\": \"box\", \"uid\": \"d6fe3e14-06c0-4a0c-b005-31da43ce855a\"}, {\"name\": \"2010\", \"y\": [3054709.0, 134858.0, 162755.0, 184602.0, 113233.0, 476693.0, 205460.0, 1683579.0, 108255.0, 115524.0, 182871.0, 770152.0, 141062.0, 379151.0, 146793.0, 338698.0], \"type\": \"box\", \"uid\": \"5544597f-5897-4c9b-911e-f51521bbada3\"}, {\"name\": \"2015\", \"y\": [2663005.0, 292764.0, 471105.0, 212912.0, 541288.0, 379774.0, 261094.0, 154213.0, 152137.0, 277408.0, 286366.0, 1123126.0, 778650.0, 121443.0, 622483.0, 4851450.0, 321132.0], \"type\": \"box\", \"uid\": \"78722fd7-42ef-4cc5-afd7-1572cf1489a3\"}], {\"title\": {\"text\": \"<b>Distribution of Refugees Between 1995 and 2015</b>\"}, \"xaxis\": {\"title\": {\"text\": \"Year\"}}, \"yaxis\": {\"title\": {\"text\": \"Number of Refugees from Each Country\"}}}, {\"showLink\": false, \"linkText\": \"Export to plot.ly\", \"plotlyServerURL\": \"https://plot.ly\"}); \n",
       "}\n",
       "});</script><script type=\"text/javascript\">window.addEventListener(\"resize\", function(){if (document.getElementById(\"61795b22-3cd9-44eb-b966-45ec8a8babf6\")) {window._Plotly.Plots.resize(document.getElementById(\"61795b22-3cd9-44eb-b966-45ec8a8babf6\"));};})</script>"
      ]
     },
     "metadata": {},
     "output_type": "display_data"
    }
   ],
   "source": [
    "b1 = combined[(combined['Year'] == 1995) & (combined['Total Refugees Abroad'] >100000)]['Total Refugees Abroad']\n",
    "b2 = combined[(combined['Year'] == 2000) & (combined['Total Refugees Abroad'] >100000)]['Total Refugees Abroad']\n",
    "b3 = combined[(combined['Year'] == 2005) & (combined['Total Refugees Abroad'] >100000)]['Total Refugees Abroad']\n",
    "b4 = combined[(combined['Year'] == 2010) & (combined['Total Refugees Abroad'] >100000)]['Total Refugees Abroad']\n",
    "b5 = combined[(combined['Year'] == 2015) & (combined['Total Refugees Abroad'] >100000)]['Total Refugees Abroad']\n",
    "\n",
    "trace1 = go.Box(\n",
    "    y=b1,\n",
    "    name = '1995',            \n",
    "\n",
    ")\n",
    "trace2 = go.Box(\n",
    "    y=b2,\n",
    "    name = '2000',\n",
    "\n",
    ")\n",
    "trace3 = go.Box(\n",
    "    y=b3,\n",
    "    name = '2005',\n",
    "\n",
    ")\n",
    "trace4 = go.Box(\n",
    "    y=b4,\n",
    "    name = '2010',\n",
    "\n",
    ")\n",
    "trace5 = go.Box(\n",
    "    y=b5,\n",
    "    name = '2015',\n",
    "\n",
    ")\n",
    "\n",
    "layout = go.Layout(\n",
    "    title = go.layout.Title(\n",
    "        text = '<b>Distribution of Refugees Between 1995 and 2015</b>'\n",
    "    ),\n",
    "    xaxis=dict(\n",
    "        title='Year'\n",
    "    ),\n",
    "    yaxis=dict(\n",
    "        title='Number of Refugees from Each Country'\n",
    "    ),\n",
    "    \n",
    ")\n",
    "\n",
    "data = [trace1, trace2, trace3, trace4, trace5]\n",
    "\n",
    "fig = go.Figure(data=data, layout=layout)\n",
    "\n",
    "iplot(fig, filename='boxplot')"
   ]
  },
  {
   "cell_type": "markdown",
   "metadata": {},
   "source": [
    "Based on the boxplot above, the year of 2000 has no outliers suggesting that there was no major influx of refugees in 2000. Looking at the outliers for the rest of the years, we observe that there were almost 5 millions of refugees from one country in 2015 which demonstates that the refugee crisis has aggravated since 2000. "
   ]
  },
  {
   "cell_type": "markdown",
   "metadata": {},
   "source": [
    "Let's focus now on countries of origin (where refugees came from) and countries of asylum (where refugees reside). I would like to explore the spread of refugees throughout the world. Specifically, I am interested in finding out which countries of asylum accepted refugees from the most countries in the world and which countries of origin have their denizens spread to the most countries in the world. "
   ]
  },
  {
   "cell_type": "code",
   "execution_count": 276,
   "metadata": {},
   "outputs": [],
   "source": [
    "df_barplot = df[(df['Country or territory of asylum or residence'] != \"Various\") & \n",
    "   (df['Country or territory of origin'] != \"Various\") ]\n",
    "\n",
    "countries_origin = df_barplot['Country or territory of origin'].unique().tolist()\n",
    "countries_asylum = df_barplot['Country or territory of asylum or residence'].unique().tolist()\n",
    "\n",
    "num_countries = []\n",
    "for c in countries_asylum:\n",
    "    num_countries.append((c,df_barplot[df_barplot['Country or territory of asylum or residence'] == c]\\\n",
    "            ['Country or territory of origin'].unique().shape[0]))\n",
    "\n",
    "\n",
    "num_countries_asylum = sorted(num_countries, key=lambda x:x[1], reverse=True)\n",
    "top_20_asylum = num_countries_asylum[0:20] # Looking at the top 20 countries only\n",
    "\n",
    "country_asylum = []\n",
    "num_asylum = []\n",
    "\n",
    "for c in top_20_asylum:\n",
    "    country_asylum.append(c[0])\n",
    "    num_asylum.append(c[1])"
   ]
  },
  {
   "cell_type": "code",
   "execution_count": 277,
   "metadata": {},
   "outputs": [
    {
     "data": {
      "application/vnd.plotly.v1+json": {
       "config": {
        "linkText": "Export to plot.ly",
        "plotlyServerURL": "https://plot.ly",
        "showLink": false
       },
       "data": [
        {
         "marker": {
          "color": "rgb(95, 149, 111)"
         },
         "type": "bar",
         "uid": "ecb2d962-0dea-4c37-aa85-c3a4a5e42266",
         "x": [
          "United States",
          "Canada",
          "Germany",
          "United Kingdom",
          "Australia",
          "Sweden",
          "Netherlands",
          "France",
          "Switzerland",
          "Belgium",
          "Italy",
          "Norway",
          "Ireland",
          "Denmark",
          "Austria",
          "Finland",
          "Spain",
          "Argentina",
          "Greece",
          "Brazil"
         ],
         "y": [
          191,
          189,
          188,
          166,
          157,
          155,
          149,
          146,
          144,
          140,
          139,
          126,
          122,
          117,
          111,
          103,
          103,
          95,
          94,
          92
         ]
        }
       ],
       "layout": {
        "title": {
         "text": "<b>Countries that Accepted Refugees from the Most Countries of Origin</b>"
        },
        "xaxis": {
         "title": {
          "text": "Country of Asylum"
         }
        },
        "yaxis": {
         "title": {
          "text": "Number of Countries Refugees Came from"
         }
        }
       }
      },
      "text/html": [
       "<div id=\"86cc831a-8c50-4ab5-ad77-d424b0731b0f\" style=\"height: 525px; width: 100%;\" class=\"plotly-graph-div\"></div><script type=\"text/javascript\">require([\"plotly\"], function(Plotly) { window.PLOTLYENV=window.PLOTLYENV || {};window.PLOTLYENV.BASE_URL=\"https://plot.ly\";\n",
       "if (document.getElementById(\"86cc831a-8c50-4ab5-ad77-d424b0731b0f\")) {\n",
       "    Plotly.newPlot(\"86cc831a-8c50-4ab5-ad77-d424b0731b0f\", [{\"marker\": {\"color\": \"rgb(95, 149, 111)\"}, \"x\": [\"United States\", \"Canada\", \"Germany\", \"United Kingdom\", \"Australia\", \"Sweden\", \"Netherlands\", \"France\", \"Switzerland\", \"Belgium\", \"Italy\", \"Norway\", \"Ireland\", \"Denmark\", \"Austria\", \"Finland\", \"Spain\", \"Argentina\", \"Greece\", \"Brazil\"], \"y\": [191, 189, 188, 166, 157, 155, 149, 146, 144, 140, 139, 126, 122, 117, 111, 103, 103, 95, 94, 92], \"type\": \"bar\", \"uid\": \"ecb2d962-0dea-4c37-aa85-c3a4a5e42266\"}], {\"title\": {\"text\": \"<b>Countries that Accepted Refugees from the Most Countries of Origin</b>\"}, \"xaxis\": {\"title\": {\"text\": \"Country of Asylum\"}}, \"yaxis\": {\"title\": {\"text\": \"Number of Countries Refugees Came from\"}}}, {\"showLink\": false, \"linkText\": \"Export to plot.ly\", \"plotlyServerURL\": \"https://plot.ly\"}); \n",
       "}\n",
       "});</script><script type=\"text/javascript\">window.addEventListener(\"resize\", function(){if (document.getElementById(\"86cc831a-8c50-4ab5-ad77-d424b0731b0f\")) {window._Plotly.Plots.resize(document.getElementById(\"86cc831a-8c50-4ab5-ad77-d424b0731b0f\"));};})</script>"
      ],
      "text/vnd.plotly.v1+html": [
       "<div id=\"86cc831a-8c50-4ab5-ad77-d424b0731b0f\" style=\"height: 525px; width: 100%;\" class=\"plotly-graph-div\"></div><script type=\"text/javascript\">require([\"plotly\"], function(Plotly) { window.PLOTLYENV=window.PLOTLYENV || {};window.PLOTLYENV.BASE_URL=\"https://plot.ly\";\n",
       "if (document.getElementById(\"86cc831a-8c50-4ab5-ad77-d424b0731b0f\")) {\n",
       "    Plotly.newPlot(\"86cc831a-8c50-4ab5-ad77-d424b0731b0f\", [{\"marker\": {\"color\": \"rgb(95, 149, 111)\"}, \"x\": [\"United States\", \"Canada\", \"Germany\", \"United Kingdom\", \"Australia\", \"Sweden\", \"Netherlands\", \"France\", \"Switzerland\", \"Belgium\", \"Italy\", \"Norway\", \"Ireland\", \"Denmark\", \"Austria\", \"Finland\", \"Spain\", \"Argentina\", \"Greece\", \"Brazil\"], \"y\": [191, 189, 188, 166, 157, 155, 149, 146, 144, 140, 139, 126, 122, 117, 111, 103, 103, 95, 94, 92], \"type\": \"bar\", \"uid\": \"ecb2d962-0dea-4c37-aa85-c3a4a5e42266\"}], {\"title\": {\"text\": \"<b>Countries that Accepted Refugees from the Most Countries of Origin</b>\"}, \"xaxis\": {\"title\": {\"text\": \"Country of Asylum\"}}, \"yaxis\": {\"title\": {\"text\": \"Number of Countries Refugees Came from\"}}}, {\"showLink\": false, \"linkText\": \"Export to plot.ly\", \"plotlyServerURL\": \"https://plot.ly\"}); \n",
       "}\n",
       "});</script><script type=\"text/javascript\">window.addEventListener(\"resize\", function(){if (document.getElementById(\"86cc831a-8c50-4ab5-ad77-d424b0731b0f\")) {window._Plotly.Plots.resize(document.getElementById(\"86cc831a-8c50-4ab5-ad77-d424b0731b0f\"));};})</script>"
      ]
     },
     "metadata": {},
     "output_type": "display_data"
    }
   ],
   "source": [
    "data = [go.Bar(\n",
    "            x=country_asylum,\n",
    "            y=num_asylum,\n",
    "            marker=dict(\n",
    "            color='rgb(95, 149, 111)'\n",
    "            )\n",
    "    )]\n",
    "\n",
    "layout = go.Layout(\n",
    "    title='<b>Countries that Accepted Refugees from the Most Countries of Origin</b>',\n",
    "    xaxis=dict(\n",
    "        title='Country of Asylum'\n",
    "    ),\n",
    "    yaxis=dict(\n",
    "        title='Number of Countries Refugees Came from'\n",
    "    ),\n",
    "    \n",
    ")\n",
    "\n",
    "fig = go.Figure(data=data, layout=layout)\n",
    "iplot(fig, filename='barplot')"
   ]
  },
  {
   "cell_type": "code",
   "execution_count": 278,
   "metadata": {},
   "outputs": [],
   "source": [
    "num_countries = []\n",
    "for c in countries_origin:\n",
    "    num_countries.append((c,df_barplot[df_barplot['Country or territory of origin'] == c]\\\n",
    "            ['Country or territory of asylum or residence'].unique().shape[0]))\n",
    "\n",
    "num_countries_origin = sorted(num_countries, key=lambda x:x[1], reverse=True)\n",
    "top_20_origin = num_countries_origin[0:20] # Looking at the top 20 countries only\n",
    "\n",
    "country_origin = []\n",
    "num_origin = []\n",
    "\n",
    "for c in top_20_origin:\n",
    "    country_origin.append(c[0])\n",
    "    num_origin.append(c[1])\n",
    "\n",
    "country_origin = ['DRC (Congo)' if c== 'Dem. Rep. of the Congo' else c for c in country_origin]"
   ]
  },
  {
   "cell_type": "code",
   "execution_count": 279,
   "metadata": {},
   "outputs": [
    {
     "data": {
      "application/vnd.plotly.v1+json": {
       "config": {
        "linkText": "Export to plot.ly",
        "plotlyServerURL": "https://plot.ly",
        "showLink": false
       },
       "data": [
        {
         "marker": {
          "color": "rgb(95, 149, 111)"
         },
         "type": "bar",
         "uid": "db38ae98-dc55-4833-b62e-13c99d4f0f12",
         "x": [
          "Somalia",
          "Syrian Arab Rep.",
          "Ethiopia",
          "Sudan",
          "Iraq",
          "Islamic Rep. of Iran",
          "DRC (Congo)",
          "Eritrea",
          "Nigeria",
          "Afghanistan",
          "Liberia",
          "State of Palestine",
          "Sri Lanka",
          "Rwanda",
          "Cameroon",
          "Congo",
          "Sierra Leone",
          "Pakistan",
          "Burundi",
          "Côte d'Ivoire"
         ],
         "y": [
          133,
          131,
          129,
          128,
          126,
          120,
          119,
          111,
          109,
          108,
          108,
          104,
          104,
          102,
          100,
          98,
          97,
          96,
          96,
          92
         ]
        }
       ],
       "layout": {
        "title": {
         "text": "<b>Countries Refugees from which Reside in the Most Countries of Asylum </b>"
        },
        "xaxis": {
         "title": {
          "text": "Country of Origin"
         }
        },
        "yaxis": {
         "title": {
          "text": "Number of Countries Refugees Live in"
         }
        }
       }
      },
      "text/html": [
       "<div id=\"4fb59791-eaf7-4eba-b6a6-69aec8154097\" style=\"height: 525px; width: 100%;\" class=\"plotly-graph-div\"></div><script type=\"text/javascript\">require([\"plotly\"], function(Plotly) { window.PLOTLYENV=window.PLOTLYENV || {};window.PLOTLYENV.BASE_URL=\"https://plot.ly\";\n",
       "if (document.getElementById(\"4fb59791-eaf7-4eba-b6a6-69aec8154097\")) {\n",
       "    Plotly.newPlot(\"4fb59791-eaf7-4eba-b6a6-69aec8154097\", [{\"marker\": {\"color\": \"rgb(95, 149, 111)\"}, \"x\": [\"Somalia\", \"Syrian Arab Rep.\", \"Ethiopia\", \"Sudan\", \"Iraq\", \"Islamic Rep. of Iran\", \"DRC (Congo)\", \"Eritrea\", \"Nigeria\", \"Afghanistan\", \"Liberia\", \"State of Palestine\", \"Sri Lanka\", \"Rwanda\", \"Cameroon\", \"Congo\", \"Sierra Leone\", \"Pakistan\", \"Burundi\", \"C\\u00f4te d'Ivoire\"], \"y\": [133, 131, 129, 128, 126, 120, 119, 111, 109, 108, 108, 104, 104, 102, 100, 98, 97, 96, 96, 92], \"type\": \"bar\", \"uid\": \"db38ae98-dc55-4833-b62e-13c99d4f0f12\"}], {\"title\": {\"text\": \"<b>Countries Refugees from which Reside in the Most Countries of Asylum </b>\"}, \"xaxis\": {\"title\": {\"text\": \"Country of Origin\"}}, \"yaxis\": {\"title\": {\"text\": \"Number of Countries Refugees Live in\"}}}, {\"showLink\": false, \"linkText\": \"Export to plot.ly\", \"plotlyServerURL\": \"https://plot.ly\"}); \n",
       "}\n",
       "});</script><script type=\"text/javascript\">window.addEventListener(\"resize\", function(){if (document.getElementById(\"4fb59791-eaf7-4eba-b6a6-69aec8154097\")) {window._Plotly.Plots.resize(document.getElementById(\"4fb59791-eaf7-4eba-b6a6-69aec8154097\"));};})</script>"
      ],
      "text/vnd.plotly.v1+html": [
       "<div id=\"4fb59791-eaf7-4eba-b6a6-69aec8154097\" style=\"height: 525px; width: 100%;\" class=\"plotly-graph-div\"></div><script type=\"text/javascript\">require([\"plotly\"], function(Plotly) { window.PLOTLYENV=window.PLOTLYENV || {};window.PLOTLYENV.BASE_URL=\"https://plot.ly\";\n",
       "if (document.getElementById(\"4fb59791-eaf7-4eba-b6a6-69aec8154097\")) {\n",
       "    Plotly.newPlot(\"4fb59791-eaf7-4eba-b6a6-69aec8154097\", [{\"marker\": {\"color\": \"rgb(95, 149, 111)\"}, \"x\": [\"Somalia\", \"Syrian Arab Rep.\", \"Ethiopia\", \"Sudan\", \"Iraq\", \"Islamic Rep. of Iran\", \"DRC (Congo)\", \"Eritrea\", \"Nigeria\", \"Afghanistan\", \"Liberia\", \"State of Palestine\", \"Sri Lanka\", \"Rwanda\", \"Cameroon\", \"Congo\", \"Sierra Leone\", \"Pakistan\", \"Burundi\", \"C\\u00f4te d'Ivoire\"], \"y\": [133, 131, 129, 128, 126, 120, 119, 111, 109, 108, 108, 104, 104, 102, 100, 98, 97, 96, 96, 92], \"type\": \"bar\", \"uid\": \"db38ae98-dc55-4833-b62e-13c99d4f0f12\"}], {\"title\": {\"text\": \"<b>Countries Refugees from which Reside in the Most Countries of Asylum </b>\"}, \"xaxis\": {\"title\": {\"text\": \"Country of Origin\"}}, \"yaxis\": {\"title\": {\"text\": \"Number of Countries Refugees Live in\"}}}, {\"showLink\": false, \"linkText\": \"Export to plot.ly\", \"plotlyServerURL\": \"https://plot.ly\"}); \n",
       "}\n",
       "});</script><script type=\"text/javascript\">window.addEventListener(\"resize\", function(){if (document.getElementById(\"4fb59791-eaf7-4eba-b6a6-69aec8154097\")) {window._Plotly.Plots.resize(document.getElementById(\"4fb59791-eaf7-4eba-b6a6-69aec8154097\"));};})</script>"
      ]
     },
     "metadata": {},
     "output_type": "display_data"
    }
   ],
   "source": [
    "data = [go.Bar(\n",
    "            x=country_origin,\n",
    "            y=num_origin,\n",
    "            marker=dict(\n",
    "            color='rgb(95, 149, 111)'\n",
    "            )\n",
    "    )]\n",
    "\n",
    "layout = go.Layout(\n",
    "    title='<b>Countries Refugees from which Reside in the Most Countries of Asylum </b>',\n",
    "    xaxis=dict(\n",
    "        title='Country of Origin'\n",
    "    ),\n",
    "    yaxis=dict(\n",
    "        title='Number of Countries Refugees Live in'\n",
    "    ),\n",
    "    \n",
    ")\n",
    "\n",
    "fig = go.Figure(data=data, layout=layout)\n",
    "iplot(fig, filename='barplot')"
   ]
  },
  {
   "cell_type": "markdown",
   "metadata": {},
   "source": [
    "Let's now focus on the latest data from 2016. Is there are relatinship between the number of refugees living in a country of asylum and the GDP of that country?"
   ]
  },
  {
   "cell_type": "code",
   "execution_count": 280,
   "metadata": {},
   "outputs": [],
   "source": [
    "combined_2016 = combined[combined['Year'] == 2016]\n",
    "gdp = pd.read_csv('gdp_data.csv')\n",
    "gdp_2016 = pd.merge(combined_2016,gdp, how='inner', on='Country')\n",
    "gdp_2016 = gdp_2016.dropna()"
   ]
  },
  {
   "cell_type": "code",
   "execution_count": 281,
   "metadata": {},
   "outputs": [
    {
     "data": {
      "text/html": [
       "<div>\n",
       "<style scoped>\n",
       "    .dataframe tbody tr th:only-of-type {\n",
       "        vertical-align: middle;\n",
       "    }\n",
       "\n",
       "    .dataframe tbody tr th {\n",
       "        vertical-align: top;\n",
       "    }\n",
       "\n",
       "    .dataframe thead th {\n",
       "        text-align: right;\n",
       "    }\n",
       "</style>\n",
       "<table border=\"1\" class=\"dataframe\">\n",
       "  <thead>\n",
       "    <tr style=\"text-align: right;\">\n",
       "      <th></th>\n",
       "      <th>Country</th>\n",
       "      <th>Year</th>\n",
       "      <th>Total Refugees in Country</th>\n",
       "      <th>Total Refugees Abroad</th>\n",
       "      <th>GDP</th>\n",
       "    </tr>\n",
       "  </thead>\n",
       "  <tbody>\n",
       "    <tr>\n",
       "      <th>0</th>\n",
       "      <td>Afghanistan</td>\n",
       "      <td>2016</td>\n",
       "      <td>59771.0</td>\n",
       "      <td>2488689.0</td>\n",
       "      <td>1.954398e+10</td>\n",
       "    </tr>\n",
       "    <tr>\n",
       "      <th>1</th>\n",
       "      <td>Albania</td>\n",
       "      <td>2016</td>\n",
       "      <td>138.0</td>\n",
       "      <td>11065.0</td>\n",
       "      <td>1.303854e+10</td>\n",
       "    </tr>\n",
       "    <tr>\n",
       "      <th>2</th>\n",
       "      <td>Algeria</td>\n",
       "      <td>2016</td>\n",
       "      <td>94232.0</td>\n",
       "      <td>3726.0</td>\n",
       "      <td>1.680000e+11</td>\n",
       "    </tr>\n",
       "    <tr>\n",
       "      <th>3</th>\n",
       "      <td>Angola</td>\n",
       "      <td>2016</td>\n",
       "      <td>15555.0</td>\n",
       "      <td>8404.0</td>\n",
       "      <td>1.220000e+11</td>\n",
       "    </tr>\n",
       "    <tr>\n",
       "      <th>4</th>\n",
       "      <td>Antigua and Barbuda</td>\n",
       "      <td>2016</td>\n",
       "      <td>4.0</td>\n",
       "      <td>83.0</td>\n",
       "      <td>1.510085e+09</td>\n",
       "    </tr>\n",
       "  </tbody>\n",
       "</table>\n",
       "</div>"
      ],
      "text/plain": [
       "               Country  Year  Total Refugees in Country  \\\n",
       "0          Afghanistan  2016                    59771.0   \n",
       "1              Albania  2016                      138.0   \n",
       "2              Algeria  2016                    94232.0   \n",
       "3               Angola  2016                    15555.0   \n",
       "4  Antigua and Barbuda  2016                        4.0   \n",
       "\n",
       "   Total Refugees Abroad           GDP  \n",
       "0              2488689.0  1.954398e+10  \n",
       "1                11065.0  1.303854e+10  \n",
       "2                 3726.0  1.680000e+11  \n",
       "3                 8404.0  1.220000e+11  \n",
       "4                   83.0  1.510085e+09  "
      ]
     },
     "execution_count": 281,
     "metadata": {},
     "output_type": "execute_result"
    }
   ],
   "source": [
    "gdp_2016.head()"
   ]
  },
  {
   "cell_type": "code",
   "execution_count": 282,
   "metadata": {},
   "outputs": [
    {
     "data": {
      "application/vnd.plotly.v1+json": {
       "config": {
        "linkText": "Export to plot.ly",
        "plotlyServerURL": "https://plot.ly",
        "showLink": false
       },
       "data": [
        {
         "mode": "markers",
         "type": "scatter",
         "uid": "ebfd8efe-8bf9-4b6a-8155-7b1fe33fc87a",
         "x": [
          59771,
          138,
          94232,
          15555,
          4,
          3293,
          3313,
          42188,
          93250,
          1193,
          271,
          33207,
          1650,
          42168,
          809,
          5271,
          2093,
          9689,
          17814,
          32552,
          57469,
          66,
          348672,
          97332,
          391251,
          1737,
          317255,
          258,
          4180,
          304,
          316,
          8484,
          33507,
          17683,
          60524,
          45,
          322,
          791631,
          12,
          18401,
          304546,
          931,
          1513,
          669482,
          11865,
          21484,
          1,
          300,
          5068,
          9263,
          11,
          5,
          16,
          110,
          4748,
          197851,
          7827,
          261888,
          5731,
          411,
          147370,
          15,
          2514,
          685197,
          653,
          451099,
          939,
          349,
          1012969,
          45,
          18990,
          9310,
          1093,
          2046,
          28,
          9392,
          92054,
          17512,
          48148,
          6202,
          8,
          974,
          4771,
          4671,
          1757,
          25249,
          101744,
          1421,
          331,
          166093,
          1367,
          59522,
          317,
          1352560,
          1,
          2350,
          4955,
          204,
          1649,
          408,
          11747,
          1194,
          177,
          2905,
          228990,
          156065,
          3,
          133,
          14584,
          2,
          683,
          462,
          11574,
          91043,
          12989,
          604,
          421466,
          1,
          230164,
          82681,
          2729,
          54251,
          12491,
          109,
          649,
          2869421,
          27,
          940835,
          3302,
          895,
          118995,
          272959,
          312,
          27,
          29350,
          7426
         ],
         "y": [
          19543976895,
          13038538300,
          168000000000,
          122000000000,
          1510084751,
          637000000000,
          11536590636,
          1320000000000,
          417000000000,
          40747792238,
          35432686170,
          250000000000,
          54456465473,
          495000000000,
          9246696924,
          18054854789,
          17406565823,
          2050000000000,
          58220973783,
          12322864245,
          3172416146,
          22158209503,
          34922782311,
          1650000000000,
          9871247732,
          277000000000,
          12200000000000,
          314000000000,
          57285984448,
          55213087271,
          96851000000,
          22054225828,
          330000000000,
          1844674435,
          104000000000,
          24805439600,
          26611651599,
          80561496134,
          5061202767,
          252000000000,
          2580000000000,
          15013950984,
          15081338092,
          3690000000000,
          58996776238,
          203000000000,
          1126882296,
          75620095538,
          10472514515,
          1346841897,
          3621046005,
          8408150518,
          22978532897,
          341000000000,
          140000000000,
          2650000000000,
          1020000000000,
          192000000000,
          331000000000,
          353000000000,
          1940000000000,
          14781107822,
          4870000000000,
          40068308451,
          163000000000,
          79263075749,
          120000000000,
          30463302414,
          53576985687,
          2578265358,
          3285455000,
          38107728083,
          47544459559,
          62316359824,
          11499803807,
          6303292264,
          315000000000,
          15334336144,
          5024708656,
          1150000000000,
          11433635876,
          4844592067,
          110000000000,
          12645508634,
          13253698015,
          24880266905,
          831000000000,
          204000000000,
          13814261536,
          8119710126,
          376000000000,
          399000000000,
          70783875163,
          305000000000,
          289823500,
          62283756584,
          20536314601,
          39667400816,
          211000000000,
          314000000000,
          526000000000,
          219000000000,
          167000000000,
          212000000000,
          1580000000000,
          9135454442,
          840927996.6,
          687000000000,
          21070225735,
          1497959569,
          3775047334,
          48769655479,
          7052000000,
          349000000000,
          1310000000000,
          87357205923,
          117000000000,
          2995827901,
          536000000000,
          679000000000,
          7146449583,
          455000000000,
          4757776485,
          22079017627,
          39952095561,
          852000000000,
          37926285714,
          25995031850,
          112000000000,
          383000000000,
          2640000000000,
          19500000000000,
          56156972158,
          49677172714,
          25868142073,
          22040902300
         ]
        }
       ],
       "layout": {
        "title": {
         "text": "<b> Relationship between GDP and Number of Refugees in Countries of Asylum </b>"
        },
        "xaxis": {
         "title": {
          "text": "Number of Refugees"
         }
        },
        "yaxis": {
         "title": {
          "text": "GDP"
         }
        }
       }
      },
      "text/html": [
       "<div id=\"49b21749-05c4-4a9a-bc0c-eff01d6655d8\" style=\"height: 525px; width: 100%;\" class=\"plotly-graph-div\"></div><script type=\"text/javascript\">require([\"plotly\"], function(Plotly) { window.PLOTLYENV=window.PLOTLYENV || {};window.PLOTLYENV.BASE_URL=\"https://plot.ly\";\n",
       "if (document.getElementById(\"49b21749-05c4-4a9a-bc0c-eff01d6655d8\")) {\n",
       "    Plotly.newPlot(\"49b21749-05c4-4a9a-bc0c-eff01d6655d8\", [{\"mode\": \"markers\", \"x\": [59771.0, 138.0, 94232.0, 15555.0, 4.0, 3293.0, 3313.0, 42188.0, 93250.0, 1193.0, 271.0, 33207.0, 1650.0, 42168.0, 809.0, 5271.0, 2093.0, 9689.0, 17814.0, 32552.0, 57469.0, 66.0, 348672.0, 97332.0, 391251.0, 1737.0, 317255.0, 258.0, 4180.0, 304.0, 316.0, 8484.0, 33507.0, 17683.0, 60524.0, 45.0, 322.0, 791631.0, 12.0, 18401.0, 304546.0, 931.0, 1513.0, 669482.0, 11865.0, 21484.0, 1.0, 300.0, 5068.0, 9263.0, 11.0, 5.0, 16.0, 110.0, 4748.0, 197851.0, 7827.0, 261888.0, 5731.0, 411.0, 147370.0, 15.0, 2514.0, 685197.0, 653.0, 451099.0, 939.0, 349.0, 1012969.0, 45.0, 18990.0, 9310.0, 1093.0, 2046.0, 28.0, 9392.0, 92054.0, 17512.0, 48148.0, 6202.0, 8.0, 974.0, 4771.0, 4671.0, 1757.0, 25249.0, 101744.0, 1421.0, 331.0, 166093.0, 1367.0, 59522.0, 317.0, 1352560.0, 1.0, 2350.0, 4955.0, 204.0, 1649.0, 408.0, 11747.0, 1194.0, 177.0, 2905.0, 228990.0, 156065.0, 3.0, 133.0, 14584.0, 2.0, 683.0, 462.0, 11574.0, 91043.0, 12989.0, 604.0, 421466.0, 1.0, 230164.0, 82681.0, 2729.0, 54251.0, 12491.0, 109.0, 649.0, 2869421.0, 27.0, 940835.0, 3302.0, 895.0, 118995.0, 272959.0, 312.0, 27.0, 29350.0, 7426.0], \"y\": [19543976895.0, 13038538300.0, 168000000000.0, 122000000000.0, 1510084751.0, 637000000000.0, 11536590636.0, 1320000000000.0, 417000000000.0, 40747792238.0, 35432686170.0, 250000000000.0, 54456465473.0, 495000000000.0, 9246696924.0, 18054854789.0, 17406565823.0, 2050000000000.0, 58220973783.0, 12322864245.0, 3172416146.0, 22158209503.0, 34922782311.0, 1650000000000.0, 9871247732.0, 277000000000.0, 12200000000000.0, 314000000000.0, 57285984448.0, 55213087271.0, 96851000000.0, 22054225828.0, 330000000000.0, 1844674435.0, 104000000000.0, 24805439600.0, 26611651599.0, 80561496134.0, 5061202767.0, 252000000000.0, 2580000000000.0, 15013950984.0, 15081338092.0, 3690000000000.0, 58996776238.0, 203000000000.0, 1126882296.0, 75620095538.0, 10472514515.0, 1346841897.0, 3621046005.0, 8408150518.0, 22978532897.0, 341000000000.0, 140000000000.0, 2650000000000.0, 1020000000000.0, 192000000000.0, 331000000000.0, 353000000000.0, 1940000000000.0, 14781107822.0, 4870000000000.0, 40068308451.0, 163000000000.0, 79263075749.0, 120000000000.0, 30463302414.0, 53576985687.0, 2578265358.0, 3285455000.0, 38107728083.0, 47544459559.0, 62316359824.0, 11499803807.0, 6303292264.0, 315000000000.0, 15334336144.0, 5024708656.0, 1150000000000.0, 11433635876.0, 4844592067.0, 110000000000.0, 12645508634.0, 13253698015.0, 24880266905.0, 831000000000.0, 204000000000.0, 13814261536.0, 8119710126.0, 376000000000.0, 399000000000.0, 70783875163.0, 305000000000.0, 289823500.0, 62283756584.0, 20536314601.0, 39667400816.0, 211000000000.0, 314000000000.0, 526000000000.0, 219000000000.0, 167000000000.0, 212000000000.0, 1580000000000.0, 9135454442.0, 840927996.6, 687000000000.0, 21070225735.0, 1497959569.0, 3775047334.0, 48769655479.0, 7052000000.0, 349000000000.0, 1310000000000.0, 87357205923.0, 117000000000.0, 2995827901.0, 536000000000.0, 679000000000.0, 7146449583.0, 455000000000.0, 4757776485.0, 22079017627.0, 39952095561.0, 852000000000.0, 37926285714.0, 25995031850.0, 112000000000.0, 383000000000.0, 2640000000000.0, 19500000000000.0, 56156972158.0, 49677172714.0, 25868142073.0, 22040902300.0], \"type\": \"scatter\", \"uid\": \"ebfd8efe-8bf9-4b6a-8155-7b1fe33fc87a\"}], {\"title\": {\"text\": \"<b> Relationship between GDP and Number of Refugees in Countries of Asylum </b>\"}, \"xaxis\": {\"title\": {\"text\": \"Number of Refugees\"}}, \"yaxis\": {\"title\": {\"text\": \"GDP\"}}}, {\"showLink\": false, \"linkText\": \"Export to plot.ly\", \"plotlyServerURL\": \"https://plot.ly\"}); \n",
       "}\n",
       "});</script><script type=\"text/javascript\">window.addEventListener(\"resize\", function(){if (document.getElementById(\"49b21749-05c4-4a9a-bc0c-eff01d6655d8\")) {window._Plotly.Plots.resize(document.getElementById(\"49b21749-05c4-4a9a-bc0c-eff01d6655d8\"));};})</script>"
      ],
      "text/vnd.plotly.v1+html": [
       "<div id=\"49b21749-05c4-4a9a-bc0c-eff01d6655d8\" style=\"height: 525px; width: 100%;\" class=\"plotly-graph-div\"></div><script type=\"text/javascript\">require([\"plotly\"], function(Plotly) { window.PLOTLYENV=window.PLOTLYENV || {};window.PLOTLYENV.BASE_URL=\"https://plot.ly\";\n",
       "if (document.getElementById(\"49b21749-05c4-4a9a-bc0c-eff01d6655d8\")) {\n",
       "    Plotly.newPlot(\"49b21749-05c4-4a9a-bc0c-eff01d6655d8\", [{\"mode\": \"markers\", \"x\": [59771.0, 138.0, 94232.0, 15555.0, 4.0, 3293.0, 3313.0, 42188.0, 93250.0, 1193.0, 271.0, 33207.0, 1650.0, 42168.0, 809.0, 5271.0, 2093.0, 9689.0, 17814.0, 32552.0, 57469.0, 66.0, 348672.0, 97332.0, 391251.0, 1737.0, 317255.0, 258.0, 4180.0, 304.0, 316.0, 8484.0, 33507.0, 17683.0, 60524.0, 45.0, 322.0, 791631.0, 12.0, 18401.0, 304546.0, 931.0, 1513.0, 669482.0, 11865.0, 21484.0, 1.0, 300.0, 5068.0, 9263.0, 11.0, 5.0, 16.0, 110.0, 4748.0, 197851.0, 7827.0, 261888.0, 5731.0, 411.0, 147370.0, 15.0, 2514.0, 685197.0, 653.0, 451099.0, 939.0, 349.0, 1012969.0, 45.0, 18990.0, 9310.0, 1093.0, 2046.0, 28.0, 9392.0, 92054.0, 17512.0, 48148.0, 6202.0, 8.0, 974.0, 4771.0, 4671.0, 1757.0, 25249.0, 101744.0, 1421.0, 331.0, 166093.0, 1367.0, 59522.0, 317.0, 1352560.0, 1.0, 2350.0, 4955.0, 204.0, 1649.0, 408.0, 11747.0, 1194.0, 177.0, 2905.0, 228990.0, 156065.0, 3.0, 133.0, 14584.0, 2.0, 683.0, 462.0, 11574.0, 91043.0, 12989.0, 604.0, 421466.0, 1.0, 230164.0, 82681.0, 2729.0, 54251.0, 12491.0, 109.0, 649.0, 2869421.0, 27.0, 940835.0, 3302.0, 895.0, 118995.0, 272959.0, 312.0, 27.0, 29350.0, 7426.0], \"y\": [19543976895.0, 13038538300.0, 168000000000.0, 122000000000.0, 1510084751.0, 637000000000.0, 11536590636.0, 1320000000000.0, 417000000000.0, 40747792238.0, 35432686170.0, 250000000000.0, 54456465473.0, 495000000000.0, 9246696924.0, 18054854789.0, 17406565823.0, 2050000000000.0, 58220973783.0, 12322864245.0, 3172416146.0, 22158209503.0, 34922782311.0, 1650000000000.0, 9871247732.0, 277000000000.0, 12200000000000.0, 314000000000.0, 57285984448.0, 55213087271.0, 96851000000.0, 22054225828.0, 330000000000.0, 1844674435.0, 104000000000.0, 24805439600.0, 26611651599.0, 80561496134.0, 5061202767.0, 252000000000.0, 2580000000000.0, 15013950984.0, 15081338092.0, 3690000000000.0, 58996776238.0, 203000000000.0, 1126882296.0, 75620095538.0, 10472514515.0, 1346841897.0, 3621046005.0, 8408150518.0, 22978532897.0, 341000000000.0, 140000000000.0, 2650000000000.0, 1020000000000.0, 192000000000.0, 331000000000.0, 353000000000.0, 1940000000000.0, 14781107822.0, 4870000000000.0, 40068308451.0, 163000000000.0, 79263075749.0, 120000000000.0, 30463302414.0, 53576985687.0, 2578265358.0, 3285455000.0, 38107728083.0, 47544459559.0, 62316359824.0, 11499803807.0, 6303292264.0, 315000000000.0, 15334336144.0, 5024708656.0, 1150000000000.0, 11433635876.0, 4844592067.0, 110000000000.0, 12645508634.0, 13253698015.0, 24880266905.0, 831000000000.0, 204000000000.0, 13814261536.0, 8119710126.0, 376000000000.0, 399000000000.0, 70783875163.0, 305000000000.0, 289823500.0, 62283756584.0, 20536314601.0, 39667400816.0, 211000000000.0, 314000000000.0, 526000000000.0, 219000000000.0, 167000000000.0, 212000000000.0, 1580000000000.0, 9135454442.0, 840927996.6, 687000000000.0, 21070225735.0, 1497959569.0, 3775047334.0, 48769655479.0, 7052000000.0, 349000000000.0, 1310000000000.0, 87357205923.0, 117000000000.0, 2995827901.0, 536000000000.0, 679000000000.0, 7146449583.0, 455000000000.0, 4757776485.0, 22079017627.0, 39952095561.0, 852000000000.0, 37926285714.0, 25995031850.0, 112000000000.0, 383000000000.0, 2640000000000.0, 19500000000000.0, 56156972158.0, 49677172714.0, 25868142073.0, 22040902300.0], \"type\": \"scatter\", \"uid\": \"ebfd8efe-8bf9-4b6a-8155-7b1fe33fc87a\"}], {\"title\": {\"text\": \"<b> Relationship between GDP and Number of Refugees in Countries of Asylum </b>\"}, \"xaxis\": {\"title\": {\"text\": \"Number of Refugees\"}}, \"yaxis\": {\"title\": {\"text\": \"GDP\"}}}, {\"showLink\": false, \"linkText\": \"Export to plot.ly\", \"plotlyServerURL\": \"https://plot.ly\"}); \n",
       "}\n",
       "});</script><script type=\"text/javascript\">window.addEventListener(\"resize\", function(){if (document.getElementById(\"49b21749-05c4-4a9a-bc0c-eff01d6655d8\")) {window._Plotly.Plots.resize(document.getElementById(\"49b21749-05c4-4a9a-bc0c-eff01d6655d8\"));};})</script>"
      ]
     },
     "metadata": {},
     "output_type": "display_data"
    }
   ],
   "source": [
    "trace = go.Scatter(\n",
    "    x = gdp_2016['Total Refugees in Country'],\n",
    "    y = gdp_2016['GDP'],\n",
    "    mode = 'markers'\n",
    ")\n",
    "\n",
    "data = [trace]\n",
    "\n",
    "layout = go.Layout(\n",
    "    title='<b> Relationship between GDP and Number of Refugees in Countries of Asylum </b>',\n",
    "    xaxis=dict(\n",
    "        title='Number of Refugees'\n",
    "    ),\n",
    "    yaxis=dict(\n",
    "        title='GDP'\n",
    "    ),\n",
    "    \n",
    ")\n",
    "\n",
    "fig = go.Figure(data=data, layout=layout)\n",
    "iplot(fig, filename='scatter')"
   ]
  },
  {
   "cell_type": "code",
   "execution_count": 283,
   "metadata": {},
   "outputs": [],
   "source": [
    "removed_outliers = gdp_2016.sort_values('GDP', ascending = False).reset_index()"
   ]
  },
  {
   "cell_type": "code",
   "execution_count": 284,
   "metadata": {},
   "outputs": [],
   "source": [
    "removed_outliers = removed_outliers.loc[4:,]"
   ]
  },
  {
   "cell_type": "code",
   "execution_count": 285,
   "metadata": {},
   "outputs": [
    {
     "data": {
      "application/vnd.plotly.v1+json": {
       "config": {
        "linkText": "Export to plot.ly",
        "plotlyServerURL": "https://plot.ly",
        "showLink": false
       },
       "data": [
        {
         "mode": "markers",
         "type": "scatter",
         "uid": "fba42ca4-5efc-41d1-a5de-5586badac4de",
         "x": [
          197851,
          118995,
          304546,
          9689,
          147370,
          97332,
          228990,
          42188,
          12989,
          6202,
          7827,
          2869421,
          101744,
          133,
          82681,
          3293,
          230164,
          11747,
          42168,
          54251,
          93250,
          59522,
          895,
          1367,
          411,
          91043,
          110,
          5731,
          33507,
          92054,
          408,
          258,
          1352560,
          1737,
          18401,
          33207,
          1194,
          2905,
          1649,
          1421,
          21484,
          261888,
          94232,
          177,
          653,
          4748,
          15555,
          939,
          421466,
          3302,
          4771,
          60524,
          316,
          604,
          791631,
          451099,
          300,
          317,
          2046,
          2350,
          11865,
          17814,
          4180,
          312,
          304,
          1650,
          1012969,
          27,
          462,
          1093,
          1193,
          685197,
          649,
          204,
          9310,
          27,
          271,
          348672,
          349,
          322,
          940835,
          29350,
          25249,
          45,
          16,
          66,
          109,
          8484,
          7426,
          14584,
          4955,
          59771,
          5271,
          2093,
          17512,
          1513,
          931,
          15,
          331,
          1757,
          138,
          4671,
          32552,
          3313,
          28,
          8,
          5068,
          391251,
          809,
          156065,
          5,
          166093,
          2729,
          11574,
          9392,
          12,
          48148,
          974,
          12491,
          683,
          11,
          18990,
          57469,
          1,
          45,
          17683,
          4,
          2,
          9263,
          1,
          3,
          1
         ],
         "y": [
          2650000000000,
          2640000000000,
          2580000000000,
          2050000000000,
          1940000000000,
          1650000000000,
          1580000000000,
          1320000000000,
          1310000000000,
          1150000000000,
          1020000000000,
          852000000000,
          831000000000,
          687000000000,
          679000000000,
          637000000000,
          536000000000,
          526000000000,
          495000000000,
          455000000000,
          417000000000,
          399000000000,
          383000000000,
          376000000000,
          353000000000,
          349000000000,
          341000000000,
          331000000000,
          330000000000,
          315000000000,
          314000000000,
          314000000000,
          305000000000,
          277000000000,
          252000000000,
          250000000000,
          219000000000,
          212000000000,
          211000000000,
          204000000000,
          203000000000,
          192000000000,
          168000000000,
          167000000000,
          163000000000,
          140000000000,
          122000000000,
          120000000000,
          117000000000,
          112000000000,
          110000000000,
          104000000000,
          96851000000,
          87357205923,
          80561496134,
          79263075749,
          75620095538,
          70783875163,
          62316359824,
          62283756584,
          58996776238,
          58220973783,
          57285984448,
          56156972158,
          55213087271,
          54456465473,
          53576985687,
          49677172714,
          48769655479,
          47544459559,
          40747792238,
          40068308451,
          39952095561,
          39667400816,
          38107728083,
          37926285714,
          35432686170,
          34922782311,
          30463302414,
          26611651599,
          25995031850,
          25868142073,
          24880266905,
          24805439600,
          22978532897,
          22158209503,
          22079017627,
          22054225828,
          22040902300,
          21070225735,
          20536314601,
          19543976895,
          18054854789,
          17406565823,
          15334336144,
          15081338092,
          15013950984,
          14781107822,
          13814261536,
          13253698015,
          13038538300,
          12645508634,
          12322864245,
          11536590636,
          11499803807,
          11433635876,
          10472514515,
          9871247732,
          9246696924,
          9135454442,
          8408150518,
          8119710126,
          7146449583,
          7052000000,
          6303292264,
          5061202767,
          5024708656,
          4844592067,
          4757776485,
          3775047334,
          3621046005,
          3285455000,
          3172416146,
          2995827901,
          2578265358,
          1844674435,
          1510084751,
          1497959569,
          1346841897,
          1126882296,
          840927996.6,
          289823500
         ]
        }
       ],
       "layout": {
        "title": {
         "text": "<b> Relationship between GDP and Number of Refugees in Countries of Asylum </b>"
        },
        "xaxis": {
         "title": {
          "text": "Number of Refugees"
         }
        },
        "yaxis": {
         "title": {
          "text": "GDP"
         }
        }
       }
      },
      "text/html": [
       "<div id=\"82d647bb-5b6f-43d4-91f1-8ae52f1abc25\" style=\"height: 525px; width: 100%;\" class=\"plotly-graph-div\"></div><script type=\"text/javascript\">require([\"plotly\"], function(Plotly) { window.PLOTLYENV=window.PLOTLYENV || {};window.PLOTLYENV.BASE_URL=\"https://plot.ly\";\n",
       "if (document.getElementById(\"82d647bb-5b6f-43d4-91f1-8ae52f1abc25\")) {\n",
       "    Plotly.newPlot(\"82d647bb-5b6f-43d4-91f1-8ae52f1abc25\", [{\"mode\": \"markers\", \"x\": [197851.0, 118995.0, 304546.0, 9689.0, 147370.0, 97332.0, 228990.0, 42188.0, 12989.0, 6202.0, 7827.0, 2869421.0, 101744.0, 133.0, 82681.0, 3293.0, 230164.0, 11747.0, 42168.0, 54251.0, 93250.0, 59522.0, 895.0, 1367.0, 411.0, 91043.0, 110.0, 5731.0, 33507.0, 92054.0, 408.0, 258.0, 1352560.0, 1737.0, 18401.0, 33207.0, 1194.0, 2905.0, 1649.0, 1421.0, 21484.0, 261888.0, 94232.0, 177.0, 653.0, 4748.0, 15555.0, 939.0, 421466.0, 3302.0, 4771.0, 60524.0, 316.0, 604.0, 791631.0, 451099.0, 300.0, 317.0, 2046.0, 2350.0, 11865.0, 17814.0, 4180.0, 312.0, 304.0, 1650.0, 1012969.0, 27.0, 462.0, 1093.0, 1193.0, 685197.0, 649.0, 204.0, 9310.0, 27.0, 271.0, 348672.0, 349.0, 322.0, 940835.0, 29350.0, 25249.0, 45.0, 16.0, 66.0, 109.0, 8484.0, 7426.0, 14584.0, 4955.0, 59771.0, 5271.0, 2093.0, 17512.0, 1513.0, 931.0, 15.0, 331.0, 1757.0, 138.0, 4671.0, 32552.0, 3313.0, 28.0, 8.0, 5068.0, 391251.0, 809.0, 156065.0, 5.0, 166093.0, 2729.0, 11574.0, 9392.0, 12.0, 48148.0, 974.0, 12491.0, 683.0, 11.0, 18990.0, 57469.0, 1.0, 45.0, 17683.0, 4.0, 2.0, 9263.0, 1.0, 3.0, 1.0], \"y\": [2650000000000.0, 2640000000000.0, 2580000000000.0, 2050000000000.0, 1940000000000.0, 1650000000000.0, 1580000000000.0, 1320000000000.0, 1310000000000.0, 1150000000000.0, 1020000000000.0, 852000000000.0, 831000000000.0, 687000000000.0, 679000000000.0, 637000000000.0, 536000000000.0, 526000000000.0, 495000000000.0, 455000000000.0, 417000000000.0, 399000000000.0, 383000000000.0, 376000000000.0, 353000000000.0, 349000000000.0, 341000000000.0, 331000000000.0, 330000000000.0, 315000000000.0, 314000000000.0, 314000000000.0, 305000000000.0, 277000000000.0, 252000000000.0, 250000000000.0, 219000000000.0, 212000000000.0, 211000000000.0, 204000000000.0, 203000000000.0, 192000000000.0, 168000000000.0, 167000000000.0, 163000000000.0, 140000000000.0, 122000000000.0, 120000000000.0, 117000000000.0, 112000000000.0, 110000000000.0, 104000000000.0, 96851000000.0, 87357205923.0, 80561496134.0, 79263075749.0, 75620095538.0, 70783875163.0, 62316359824.0, 62283756584.0, 58996776238.0, 58220973783.0, 57285984448.0, 56156972158.0, 55213087271.0, 54456465473.0, 53576985687.0, 49677172714.0, 48769655479.0, 47544459559.0, 40747792238.0, 40068308451.0, 39952095561.0, 39667400816.0, 38107728083.0, 37926285714.0, 35432686170.0, 34922782311.0, 30463302414.0, 26611651599.0, 25995031850.0, 25868142073.0, 24880266905.0, 24805439600.0, 22978532897.0, 22158209503.0, 22079017627.0, 22054225828.0, 22040902300.0, 21070225735.0, 20536314601.0, 19543976895.0, 18054854789.0, 17406565823.0, 15334336144.0, 15081338092.0, 15013950984.0, 14781107822.0, 13814261536.0, 13253698015.0, 13038538300.0, 12645508634.0, 12322864245.0, 11536590636.0, 11499803807.0, 11433635876.0, 10472514515.0, 9871247732.0, 9246696924.0, 9135454442.0, 8408150518.0, 8119710126.0, 7146449583.0, 7052000000.0, 6303292264.0, 5061202767.0, 5024708656.0, 4844592067.0, 4757776485.0, 3775047334.0, 3621046005.0, 3285455000.0, 3172416146.0, 2995827901.0, 2578265358.0, 1844674435.0, 1510084751.0, 1497959569.0, 1346841897.0, 1126882296.0, 840927996.6, 289823500.0], \"type\": \"scatter\", \"uid\": \"fba42ca4-5efc-41d1-a5de-5586badac4de\"}], {\"title\": {\"text\": \"<b> Relationship between GDP and Number of Refugees in Countries of Asylum </b>\"}, \"xaxis\": {\"title\": {\"text\": \"Number of Refugees\"}}, \"yaxis\": {\"title\": {\"text\": \"GDP\"}}}, {\"showLink\": false, \"linkText\": \"Export to plot.ly\", \"plotlyServerURL\": \"https://plot.ly\"}); \n",
       "}\n",
       "});</script><script type=\"text/javascript\">window.addEventListener(\"resize\", function(){if (document.getElementById(\"82d647bb-5b6f-43d4-91f1-8ae52f1abc25\")) {window._Plotly.Plots.resize(document.getElementById(\"82d647bb-5b6f-43d4-91f1-8ae52f1abc25\"));};})</script>"
      ],
      "text/vnd.plotly.v1+html": [
       "<div id=\"82d647bb-5b6f-43d4-91f1-8ae52f1abc25\" style=\"height: 525px; width: 100%;\" class=\"plotly-graph-div\"></div><script type=\"text/javascript\">require([\"plotly\"], function(Plotly) { window.PLOTLYENV=window.PLOTLYENV || {};window.PLOTLYENV.BASE_URL=\"https://plot.ly\";\n",
       "if (document.getElementById(\"82d647bb-5b6f-43d4-91f1-8ae52f1abc25\")) {\n",
       "    Plotly.newPlot(\"82d647bb-5b6f-43d4-91f1-8ae52f1abc25\", [{\"mode\": \"markers\", \"x\": [197851.0, 118995.0, 304546.0, 9689.0, 147370.0, 97332.0, 228990.0, 42188.0, 12989.0, 6202.0, 7827.0, 2869421.0, 101744.0, 133.0, 82681.0, 3293.0, 230164.0, 11747.0, 42168.0, 54251.0, 93250.0, 59522.0, 895.0, 1367.0, 411.0, 91043.0, 110.0, 5731.0, 33507.0, 92054.0, 408.0, 258.0, 1352560.0, 1737.0, 18401.0, 33207.0, 1194.0, 2905.0, 1649.0, 1421.0, 21484.0, 261888.0, 94232.0, 177.0, 653.0, 4748.0, 15555.0, 939.0, 421466.0, 3302.0, 4771.0, 60524.0, 316.0, 604.0, 791631.0, 451099.0, 300.0, 317.0, 2046.0, 2350.0, 11865.0, 17814.0, 4180.0, 312.0, 304.0, 1650.0, 1012969.0, 27.0, 462.0, 1093.0, 1193.0, 685197.0, 649.0, 204.0, 9310.0, 27.0, 271.0, 348672.0, 349.0, 322.0, 940835.0, 29350.0, 25249.0, 45.0, 16.0, 66.0, 109.0, 8484.0, 7426.0, 14584.0, 4955.0, 59771.0, 5271.0, 2093.0, 17512.0, 1513.0, 931.0, 15.0, 331.0, 1757.0, 138.0, 4671.0, 32552.0, 3313.0, 28.0, 8.0, 5068.0, 391251.0, 809.0, 156065.0, 5.0, 166093.0, 2729.0, 11574.0, 9392.0, 12.0, 48148.0, 974.0, 12491.0, 683.0, 11.0, 18990.0, 57469.0, 1.0, 45.0, 17683.0, 4.0, 2.0, 9263.0, 1.0, 3.0, 1.0], \"y\": [2650000000000.0, 2640000000000.0, 2580000000000.0, 2050000000000.0, 1940000000000.0, 1650000000000.0, 1580000000000.0, 1320000000000.0, 1310000000000.0, 1150000000000.0, 1020000000000.0, 852000000000.0, 831000000000.0, 687000000000.0, 679000000000.0, 637000000000.0, 536000000000.0, 526000000000.0, 495000000000.0, 455000000000.0, 417000000000.0, 399000000000.0, 383000000000.0, 376000000000.0, 353000000000.0, 349000000000.0, 341000000000.0, 331000000000.0, 330000000000.0, 315000000000.0, 314000000000.0, 314000000000.0, 305000000000.0, 277000000000.0, 252000000000.0, 250000000000.0, 219000000000.0, 212000000000.0, 211000000000.0, 204000000000.0, 203000000000.0, 192000000000.0, 168000000000.0, 167000000000.0, 163000000000.0, 140000000000.0, 122000000000.0, 120000000000.0, 117000000000.0, 112000000000.0, 110000000000.0, 104000000000.0, 96851000000.0, 87357205923.0, 80561496134.0, 79263075749.0, 75620095538.0, 70783875163.0, 62316359824.0, 62283756584.0, 58996776238.0, 58220973783.0, 57285984448.0, 56156972158.0, 55213087271.0, 54456465473.0, 53576985687.0, 49677172714.0, 48769655479.0, 47544459559.0, 40747792238.0, 40068308451.0, 39952095561.0, 39667400816.0, 38107728083.0, 37926285714.0, 35432686170.0, 34922782311.0, 30463302414.0, 26611651599.0, 25995031850.0, 25868142073.0, 24880266905.0, 24805439600.0, 22978532897.0, 22158209503.0, 22079017627.0, 22054225828.0, 22040902300.0, 21070225735.0, 20536314601.0, 19543976895.0, 18054854789.0, 17406565823.0, 15334336144.0, 15081338092.0, 15013950984.0, 14781107822.0, 13814261536.0, 13253698015.0, 13038538300.0, 12645508634.0, 12322864245.0, 11536590636.0, 11499803807.0, 11433635876.0, 10472514515.0, 9871247732.0, 9246696924.0, 9135454442.0, 8408150518.0, 8119710126.0, 7146449583.0, 7052000000.0, 6303292264.0, 5061202767.0, 5024708656.0, 4844592067.0, 4757776485.0, 3775047334.0, 3621046005.0, 3285455000.0, 3172416146.0, 2995827901.0, 2578265358.0, 1844674435.0, 1510084751.0, 1497959569.0, 1346841897.0, 1126882296.0, 840927996.6, 289823500.0], \"type\": \"scatter\", \"uid\": \"fba42ca4-5efc-41d1-a5de-5586badac4de\"}], {\"title\": {\"text\": \"<b> Relationship between GDP and Number of Refugees in Countries of Asylum </b>\"}, \"xaxis\": {\"title\": {\"text\": \"Number of Refugees\"}}, \"yaxis\": {\"title\": {\"text\": \"GDP\"}}}, {\"showLink\": false, \"linkText\": \"Export to plot.ly\", \"plotlyServerURL\": \"https://plot.ly\"}); \n",
       "}\n",
       "});</script><script type=\"text/javascript\">window.addEventListener(\"resize\", function(){if (document.getElementById(\"82d647bb-5b6f-43d4-91f1-8ae52f1abc25\")) {window._Plotly.Plots.resize(document.getElementById(\"82d647bb-5b6f-43d4-91f1-8ae52f1abc25\"));};})</script>"
      ]
     },
     "metadata": {},
     "output_type": "display_data"
    }
   ],
   "source": [
    "trace = go.Scatter(\n",
    "    x = removed_outliers['Total Refugees in Country'],\n",
    "    y = removed_outliers['GDP'],\n",
    "    mode = 'markers'\n",
    ")\n",
    "\n",
    "data = [trace]\n",
    "\n",
    "layout = go.Layout(\n",
    "    title='<b> Relationship between GDP and Number of Refugees in Countries of Asylum </b>',\n",
    "    xaxis=dict(\n",
    "        title='Number of Refugees'\n",
    "    ),\n",
    "    yaxis=dict(\n",
    "        title='GDP'\n",
    "    ),\n",
    "    \n",
    ")\n",
    "\n",
    "fig = go.Figure(data=data, layout=layout)\n",
    "iplot(fig, filename='basic-scatter')"
   ]
  },
  {
   "cell_type": "markdown",
   "metadata": {},
   "source": [
    "We observe that even After removing the largest economies, There doesn't seem to a clear linear relationship"
   ]
  },
  {
   "cell_type": "markdown",
   "metadata": {},
   "source": [
    "Next, I will look at the frequency distribution of refugees in 2016 across different countries. "
   ]
  },
  {
   "cell_type": "code",
   "execution_count": 286,
   "metadata": {},
   "outputs": [],
   "source": [
    "df_hist = combined_2016.sort_values('Total Refugees in Country', ascending=False)\n",
    "\n",
    "df_hist = df_hist[df_hist['Total Refugees in Country'] > 10000]\n"
   ]
  },
  {
   "cell_type": "code",
   "execution_count": 287,
   "metadata": {},
   "outputs": [
    {
     "data": {
      "application/vnd.plotly.v1+json": {
       "config": {
        "linkText": "Export to plot.ly",
        "plotlyServerURL": "https://plot.ly",
        "showLink": false
       },
       "data": [
        {
         "marker": {
          "color": "rgb(95, 149, 111)"
         },
         "type": "histogram",
         "uid": "7ad8f357-e2e7-44cc-b8a6-7a1ed1e7fa02",
         "x": [
          2869421,
          1352560,
          1012969,
          979435,
          940835,
          791631,
          685197,
          669482,
          451956,
          451099,
          421466,
          391251,
          348672,
          317255,
          304546,
          281498,
          272959,
          269783,
          262560,
          261888,
          230164,
          228990,
          213530,
          197851,
          166093,
          156065,
          147370,
          118995,
          101744,
          97332,
          94232,
          93250,
          92054,
          91043,
          82681,
          60524,
          59771,
          59522,
          57469,
          54251,
          48148,
          46457,
          42188,
          42168,
          33507,
          33207,
          32552,
          29522,
          29350,
          25249,
          21484,
          19809,
          18990,
          18401,
          17814,
          17683,
          17512,
          15555,
          14584,
          12989,
          12491,
          12115,
          11865,
          11747,
          11574
         ]
        }
       ],
       "layout": {
        "title": {
         "text": "<b>Frequency Distribution of Refugees in 2016 Across Countries</b>"
        },
        "xaxis": {
         "range": [
          10000,
          2869421
         ],
         "title": {
          "text": "Number of Refugees"
         }
        },
        "yaxis": {
         "title": {
          "text": "Number of Countries Refugees Reside in"
         }
        }
       }
      },
      "text/html": [
       "<div id=\"0894933a-60a8-4cea-ac74-c074ed5ee781\" style=\"height: 525px; width: 100%;\" class=\"plotly-graph-div\"></div><script type=\"text/javascript\">require([\"plotly\"], function(Plotly) { window.PLOTLYENV=window.PLOTLYENV || {};window.PLOTLYENV.BASE_URL=\"https://plot.ly\";\n",
       "if (document.getElementById(\"0894933a-60a8-4cea-ac74-c074ed5ee781\")) {\n",
       "    Plotly.newPlot(\"0894933a-60a8-4cea-ac74-c074ed5ee781\", [{\"marker\": {\"color\": \"rgb(95, 149, 111)\"}, \"x\": [2869421.0, 1352560.0, 1012969.0, 979435.0, 940835.0, 791631.0, 685197.0, 669482.0, 451956.0, 451099.0, 421466.0, 391251.0, 348672.0, 317255.0, 304546.0, 281498.0, 272959.0, 269783.0, 262560.0, 261888.0, 230164.0, 228990.0, 213530.0, 197851.0, 166093.0, 156065.0, 147370.0, 118995.0, 101744.0, 97332.0, 94232.0, 93250.0, 92054.0, 91043.0, 82681.0, 60524.0, 59771.0, 59522.0, 57469.0, 54251.0, 48148.0, 46457.0, 42188.0, 42168.0, 33507.0, 33207.0, 32552.0, 29522.0, 29350.0, 25249.0, 21484.0, 19809.0, 18990.0, 18401.0, 17814.0, 17683.0, 17512.0, 15555.0, 14584.0, 12989.0, 12491.0, 12115.0, 11865.0, 11747.0, 11574.0], \"type\": \"histogram\", \"uid\": \"7ad8f357-e2e7-44cc-b8a6-7a1ed1e7fa02\"}], {\"title\": {\"text\": \"<b>Frequency Distribution of Refugees in 2016 Across Countries</b>\"}, \"xaxis\": {\"range\": [10000, 2869421.0], \"title\": {\"text\": \"Number of Refugees\"}}, \"yaxis\": {\"title\": {\"text\": \"Number of Countries Refugees Reside in\"}}}, {\"showLink\": false, \"linkText\": \"Export to plot.ly\", \"plotlyServerURL\": \"https://plot.ly\"}); \n",
       "}\n",
       "});</script><script type=\"text/javascript\">window.addEventListener(\"resize\", function(){if (document.getElementById(\"0894933a-60a8-4cea-ac74-c074ed5ee781\")) {window._Plotly.Plots.resize(document.getElementById(\"0894933a-60a8-4cea-ac74-c074ed5ee781\"));};})</script>"
      ],
      "text/vnd.plotly.v1+html": [
       "<div id=\"0894933a-60a8-4cea-ac74-c074ed5ee781\" style=\"height: 525px; width: 100%;\" class=\"plotly-graph-div\"></div><script type=\"text/javascript\">require([\"plotly\"], function(Plotly) { window.PLOTLYENV=window.PLOTLYENV || {};window.PLOTLYENV.BASE_URL=\"https://plot.ly\";\n",
       "if (document.getElementById(\"0894933a-60a8-4cea-ac74-c074ed5ee781\")) {\n",
       "    Plotly.newPlot(\"0894933a-60a8-4cea-ac74-c074ed5ee781\", [{\"marker\": {\"color\": \"rgb(95, 149, 111)\"}, \"x\": [2869421.0, 1352560.0, 1012969.0, 979435.0, 940835.0, 791631.0, 685197.0, 669482.0, 451956.0, 451099.0, 421466.0, 391251.0, 348672.0, 317255.0, 304546.0, 281498.0, 272959.0, 269783.0, 262560.0, 261888.0, 230164.0, 228990.0, 213530.0, 197851.0, 166093.0, 156065.0, 147370.0, 118995.0, 101744.0, 97332.0, 94232.0, 93250.0, 92054.0, 91043.0, 82681.0, 60524.0, 59771.0, 59522.0, 57469.0, 54251.0, 48148.0, 46457.0, 42188.0, 42168.0, 33507.0, 33207.0, 32552.0, 29522.0, 29350.0, 25249.0, 21484.0, 19809.0, 18990.0, 18401.0, 17814.0, 17683.0, 17512.0, 15555.0, 14584.0, 12989.0, 12491.0, 12115.0, 11865.0, 11747.0, 11574.0], \"type\": \"histogram\", \"uid\": \"7ad8f357-e2e7-44cc-b8a6-7a1ed1e7fa02\"}], {\"title\": {\"text\": \"<b>Frequency Distribution of Refugees in 2016 Across Countries</b>\"}, \"xaxis\": {\"range\": [10000, 2869421.0], \"title\": {\"text\": \"Number of Refugees\"}}, \"yaxis\": {\"title\": {\"text\": \"Number of Countries Refugees Reside in\"}}}, {\"showLink\": false, \"linkText\": \"Export to plot.ly\", \"plotlyServerURL\": \"https://plot.ly\"}); \n",
       "}\n",
       "});</script><script type=\"text/javascript\">window.addEventListener(\"resize\", function(){if (document.getElementById(\"0894933a-60a8-4cea-ac74-c074ed5ee781\")) {window._Plotly.Plots.resize(document.getElementById(\"0894933a-60a8-4cea-ac74-c074ed5ee781\"));};})</script>"
      ]
     },
     "metadata": {},
     "output_type": "display_data"
    }
   ],
   "source": [
    "data = [go.Histogram(x=df_hist['Total Refugees in Country'],\n",
    "                    marker=dict(color='rgb(95, 149, 111)'\n",
    "            ))]\n",
    "\n",
    "layout = go.Layout(\n",
    "    title='<b>Frequency Distribution of Refugees in 2016 Across Countries</b>',\n",
    "    xaxis=dict(\n",
    "        title='Number of Refugees',\n",
    "        range = [10000, df_hist['Total Refugees in Country'].max()]\n",
    "    ),\n",
    "    yaxis=dict(\n",
    "        title='Number of Countries Refugees Reside in'\n",
    "    ),\n",
    "    \n",
    ")\n",
    "\n",
    "\n",
    "# x axis should start from 10000; add text to display country names\n",
    "fig = go.Figure(data=data, layout=layout)\n",
    "iplot(fig, filename='basic histogram')"
   ]
  },
  {
   "cell_type": "markdown",
   "metadata": {},
   "source": [
    "As we can see, there are approximately 5 countires where more than half million of refugees lived in in 2016, while in most of the countries of asylum,\n",
    "the number of refugees is significantly below half a million.  "
   ]
  },
  {
   "cell_type": "markdown",
   "metadata": {},
   "source": [
    "Now, let's look at five countries with a historically high influx of refugees."
   ]
  },
  {
   "cell_type": "code",
   "execution_count": 288,
   "metadata": {},
   "outputs": [
    {
     "data": {
      "text/html": [
       "<div>\n",
       "<style scoped>\n",
       "    .dataframe tbody tr th:only-of-type {\n",
       "        vertical-align: middle;\n",
       "    }\n",
       "\n",
       "    .dataframe tbody tr th {\n",
       "        vertical-align: top;\n",
       "    }\n",
       "\n",
       "    .dataframe thead th {\n",
       "        text-align: right;\n",
       "    }\n",
       "</style>\n",
       "<table border=\"1\" class=\"dataframe\">\n",
       "  <thead>\n",
       "    <tr style=\"text-align: right;\">\n",
       "      <th></th>\n",
       "      <th>Country</th>\n",
       "      <th>1975</th>\n",
       "      <th>1976</th>\n",
       "      <th>1977</th>\n",
       "      <th>1978</th>\n",
       "      <th>1979</th>\n",
       "      <th>1980</th>\n",
       "      <th>1981</th>\n",
       "      <th>1982</th>\n",
       "      <th>1983</th>\n",
       "      <th>...</th>\n",
       "      <th>2007</th>\n",
       "      <th>2008</th>\n",
       "      <th>2009</th>\n",
       "      <th>2010</th>\n",
       "      <th>2011</th>\n",
       "      <th>2012</th>\n",
       "      <th>2013</th>\n",
       "      <th>2014</th>\n",
       "      <th>2015</th>\n",
       "      <th>2016</th>\n",
       "    </tr>\n",
       "  </thead>\n",
       "  <tbody>\n",
       "    <tr>\n",
       "      <th>0</th>\n",
       "      <td>Aruba</td>\n",
       "      <td>60657.0</td>\n",
       "      <td>60586.0</td>\n",
       "      <td>60366.0</td>\n",
       "      <td>60103.0</td>\n",
       "      <td>59980.0</td>\n",
       "      <td>60096.0</td>\n",
       "      <td>60567.0</td>\n",
       "      <td>61345.0</td>\n",
       "      <td>62201.0</td>\n",
       "      <td>...</td>\n",
       "      <td>101220.0</td>\n",
       "      <td>101353.0</td>\n",
       "      <td>101453.0</td>\n",
       "      <td>101669.0</td>\n",
       "      <td>102053.0</td>\n",
       "      <td>102577.0</td>\n",
       "      <td>103187.0</td>\n",
       "      <td>103795.0</td>\n",
       "      <td>104341.0</td>\n",
       "      <td>104822.0</td>\n",
       "    </tr>\n",
       "    <tr>\n",
       "      <th>1</th>\n",
       "      <td>Afghanistan</td>\n",
       "      <td>12590286.0</td>\n",
       "      <td>12840299.0</td>\n",
       "      <td>13067538.0</td>\n",
       "      <td>13237734.0</td>\n",
       "      <td>13306695.0</td>\n",
       "      <td>13248370.0</td>\n",
       "      <td>13053954.0</td>\n",
       "      <td>12749645.0</td>\n",
       "      <td>12389269.0</td>\n",
       "      <td>...</td>\n",
       "      <td>26616792.0</td>\n",
       "      <td>27294031.0</td>\n",
       "      <td>28004331.0</td>\n",
       "      <td>28803167.0</td>\n",
       "      <td>29708599.0</td>\n",
       "      <td>30696958.0</td>\n",
       "      <td>31731688.0</td>\n",
       "      <td>32758020.0</td>\n",
       "      <td>33736494.0</td>\n",
       "      <td>34656032.0</td>\n",
       "    </tr>\n",
       "    <tr>\n",
       "      <th>2</th>\n",
       "      <td>Angola</td>\n",
       "      <td>7682479.0</td>\n",
       "      <td>7900997.0</td>\n",
       "      <td>8130988.0</td>\n",
       "      <td>8376147.0</td>\n",
       "      <td>8641521.0</td>\n",
       "      <td>8929900.0</td>\n",
       "      <td>9244507.0</td>\n",
       "      <td>9582156.0</td>\n",
       "      <td>9931562.0</td>\n",
       "      <td>...</td>\n",
       "      <td>20997687.0</td>\n",
       "      <td>21759420.0</td>\n",
       "      <td>22549547.0</td>\n",
       "      <td>23369131.0</td>\n",
       "      <td>24218565.0</td>\n",
       "      <td>25096150.0</td>\n",
       "      <td>25998340.0</td>\n",
       "      <td>26920466.0</td>\n",
       "      <td>27859305.0</td>\n",
       "      <td>28813463.0</td>\n",
       "    </tr>\n",
       "    <tr>\n",
       "      <th>3</th>\n",
       "      <td>Albania</td>\n",
       "      <td>2404831.0</td>\n",
       "      <td>2458526.0</td>\n",
       "      <td>2513546.0</td>\n",
       "      <td>2566266.0</td>\n",
       "      <td>2617832.0</td>\n",
       "      <td>2671997.0</td>\n",
       "      <td>2726056.0</td>\n",
       "      <td>2784278.0</td>\n",
       "      <td>2843960.0</td>\n",
       "      <td>...</td>\n",
       "      <td>2970017.0</td>\n",
       "      <td>2947314.0</td>\n",
       "      <td>2927519.0</td>\n",
       "      <td>2913021.0</td>\n",
       "      <td>2905195.0</td>\n",
       "      <td>2900401.0</td>\n",
       "      <td>2895092.0</td>\n",
       "      <td>2889104.0</td>\n",
       "      <td>2880703.0</td>\n",
       "      <td>2876101.0</td>\n",
       "    </tr>\n",
       "    <tr>\n",
       "      <th>4</th>\n",
       "      <td>Andorra</td>\n",
       "      <td>30705.0</td>\n",
       "      <td>31777.0</td>\n",
       "      <td>32771.0</td>\n",
       "      <td>33737.0</td>\n",
       "      <td>34818.0</td>\n",
       "      <td>36067.0</td>\n",
       "      <td>37500.0</td>\n",
       "      <td>39114.0</td>\n",
       "      <td>40867.0</td>\n",
       "      <td>...</td>\n",
       "      <td>82683.0</td>\n",
       "      <td>83861.0</td>\n",
       "      <td>84462.0</td>\n",
       "      <td>84449.0</td>\n",
       "      <td>83751.0</td>\n",
       "      <td>82431.0</td>\n",
       "      <td>80788.0</td>\n",
       "      <td>79223.0</td>\n",
       "      <td>78014.0</td>\n",
       "      <td>77281.0</td>\n",
       "    </tr>\n",
       "  </tbody>\n",
       "</table>\n",
       "<p>5 rows × 43 columns</p>\n",
       "</div>"
      ],
      "text/plain": [
       "       Country        1975        1976        1977        1978        1979  \\\n",
       "0        Aruba     60657.0     60586.0     60366.0     60103.0     59980.0   \n",
       "1  Afghanistan  12590286.0  12840299.0  13067538.0  13237734.0  13306695.0   \n",
       "2       Angola   7682479.0   7900997.0   8130988.0   8376147.0   8641521.0   \n",
       "3      Albania   2404831.0   2458526.0   2513546.0   2566266.0   2617832.0   \n",
       "4      Andorra     30705.0     31777.0     32771.0     33737.0     34818.0   \n",
       "\n",
       "         1980        1981        1982        1983     ...            2007  \\\n",
       "0     60096.0     60567.0     61345.0     62201.0     ...        101220.0   \n",
       "1  13248370.0  13053954.0  12749645.0  12389269.0     ...      26616792.0   \n",
       "2   8929900.0   9244507.0   9582156.0   9931562.0     ...      20997687.0   \n",
       "3   2671997.0   2726056.0   2784278.0   2843960.0     ...       2970017.0   \n",
       "4     36067.0     37500.0     39114.0     40867.0     ...         82683.0   \n",
       "\n",
       "         2008        2009        2010        2011        2012        2013  \\\n",
       "0    101353.0    101453.0    101669.0    102053.0    102577.0    103187.0   \n",
       "1  27294031.0  28004331.0  28803167.0  29708599.0  30696958.0  31731688.0   \n",
       "2  21759420.0  22549547.0  23369131.0  24218565.0  25096150.0  25998340.0   \n",
       "3   2947314.0   2927519.0   2913021.0   2905195.0   2900401.0   2895092.0   \n",
       "4     83861.0     84462.0     84449.0     83751.0     82431.0     80788.0   \n",
       "\n",
       "         2014        2015        2016  \n",
       "0    103795.0    104341.0    104822.0  \n",
       "1  32758020.0  33736494.0  34656032.0  \n",
       "2  26920466.0  27859305.0  28813463.0  \n",
       "3   2889104.0   2880703.0   2876101.0  \n",
       "4     79223.0     78014.0     77281.0  \n",
       "\n",
       "[5 rows x 43 columns]"
      ]
     },
     "execution_count": 288,
     "metadata": {},
     "output_type": "execute_result"
    }
   ],
   "source": [
    "df_popul = pd.read_csv('population_by_country.csv')\n",
    "df_popul.head()"
   ]
  },
  {
   "cell_type": "code",
   "execution_count": 289,
   "metadata": {},
   "outputs": [],
   "source": [
    "#df_popul.Country.unique()"
   ]
  },
  {
   "cell_type": "code",
   "execution_count": 290,
   "metadata": {},
   "outputs": [],
   "source": [
    "df_popul = df_popul.replace(['Iran, Islamic Rep.','Syrian Arab Republic', \n",
    "                 'Congo, Dem. Rep.'], ['Iran','Syria',\n",
    "                                                 'Congo (DR)'])"
   ]
  },
  {
   "cell_type": "code",
   "execution_count": 291,
   "metadata": {},
   "outputs": [],
   "source": [
    "df_temp = df.replace(['Islamic Rep. of Iran','Syrian Arab Rep.', \n",
    "                 'Dem. Rep. of the Congo','United Rep. of Tanzania'], ['Iran','Syria',\n",
    "                                                 'Congo (DR)', 'Tanzania'])"
   ]
  },
  {
   "cell_type": "code",
   "execution_count": 292,
   "metadata": {},
   "outputs": [
    {
     "data": {
      "text/plain": [
       "array(['Iran', 'Pakistan', 'Turkey', 'Somalia', 'Congo (DR)', 'Syria',\n",
       "       'Germany', 'Sudan', 'Lebanon', 'Malawi', 'Uganda', 'Tanzania',\n",
       "       'United States', 'Ethiopia', 'Various'], dtype=object)"
      ]
     },
     "execution_count": 292,
     "metadata": {},
     "output_type": "execute_result"
    }
   ],
   "source": [
    "top_asylum = df_temp.groupby(['Country or territory of asylum or residence','Year'])['Total Refugees'].\\\n",
    "                sum().sort_values(ascending=False).reset_index()\n",
    "\n",
    "top_15 = top_asylum['Country or territory of asylum or residence'].unique()[:15]\n",
    "\n",
    "top_15"
   ]
  },
  {
   "cell_type": "code",
   "execution_count": 293,
   "metadata": {},
   "outputs": [],
   "source": [
    "df_stack_area = top_asylum[top_asylum['Country or territory of asylum or residence'].isin(top_15)]\n",
    "\n",
    "#year = [1980, 1985, 1990, 1995, 2000, 2005, 2010, 2015]\n",
    "year = df_stack_area.Year.unique()"
   ]
  },
  {
   "cell_type": "code",
   "execution_count": 294,
   "metadata": {},
   "outputs": [],
   "source": [
    "df_merged_pop = pd.merge(df_stack_area, df_popul, how='left', left_on='Country or territory of asylum or residence',\n",
    "             right_on='Country')\n",
    "\n"
   ]
  },
  {
   "cell_type": "code",
   "execution_count": 295,
   "metadata": {},
   "outputs": [
    {
     "data": {
      "application/vnd.plotly.v1+json": {
       "config": {
        "linkText": "Export to plot.ly",
        "plotlyServerURL": "https://plot.ly",
        "showLink": false
       },
       "data": [
        {
         "fillcolor": "rgb(31,120,180)",
         "hoverinfo": "x+y",
         "line": {
          "color": "rgb(111, 231, 219)",
          "width": 0.5
         },
         "mode": "lines",
         "name": "Congo (DR)",
         "stackgroup": "one",
         "type": "scatter",
         "uid": "4e0b9baa-93ea-45b3-9337-37724f402ca9",
         "x": [
          1991,
          1990,
          1992,
          1989,
          1988,
          1987,
          1983,
          1986,
          1982,
          2016,
          1985,
          2015,
          1984,
          1993,
          1981,
          1994,
          2001,
          1995,
          1996,
          2000,
          1980,
          1997,
          1998,
          2010,
          1999,
          2011,
          2012,
          2013,
          2014,
          2007,
          2002,
          2004,
          1979,
          2003,
          2008,
          2005,
          2009,
          2006,
          1975,
          1978,
          1976,
          1977
         ],
         "y": [
          510000,
          515000,
          530300,
          653000,
          710480,
          611110,
          576740,
          497600,
          303500,
          337330,
          283000,
          301230,
          320000,
          340675,
          340689,
          416435,
          482959,
          391127,
          572070,
          1724365,
          1433760,
          675973,
          297538,
          240214,
          285270,
          332509,
          362012,
          332978,
          234033,
          199323,
          204341,
          208371,
          177390,
          155162,
          185809,
          166336,
          152749,
          65109,
          113362,
          119754,
          383095,
          451956
         ]
        },
        {
         "fillcolor": "rgb(178,223,138)",
         "hoverinfo": "x+y",
         "line": {
          "color": "rgb(184, 247, 212)",
          "width": 0.5
         },
         "mode": "lines",
         "name": "United States",
         "stackgroup": "one",
         "type": "scatter",
         "uid": "e54d4cde-9b75-46d0-af76-7034cb5e5a97",
         "x": [
          1991,
          1990,
          1992,
          1989,
          1988,
          1987,
          1983,
          1986,
          1982,
          2016,
          1985,
          2015,
          1984,
          1993,
          1981,
          1994,
          2001,
          1995,
          1996,
          2000,
          1980,
          1997,
          1998,
          2010,
          1999,
          2011,
          2012,
          2013,
          2014,
          2007,
          2002,
          2004,
          1979,
          2003,
          2008,
          2005,
          2009,
          2006,
          1975,
          1978,
          1976,
          1977
         ],
         "y": [
          530000,
          500000,
          684700,
          734000,
          734000,
          403684,
          537375,
          620257,
          655532,
          626909,
          492806,
          398633,
          365726,
          377771,
          411498,
          464887,
          513882,
          579952,
          623069,
          631051,
          623294,
          607024,
          563837,
          533969,
          521143,
          508222,
          515853,
          485171,
          452548,
          420858,
          379340,
          843490,
          281216,
          279549,
          275459,
          264569,
          264763,
          262023,
          263662,
          267222,
          273202,
          272959
         ]
        },
        {
         "fillcolor": "rgb(166,206,227)",
         "hoverinfo": "x+y",
         "line": {
          "color": "rgb(131, 90, 241)",
          "width": 0.5
         },
         "mode": "lines",
         "name": "Germany",
         "stackgroup": "one",
         "type": "scatter",
         "uid": "cccf5f32-8fee-4a04-9e70-cc288925acef",
         "x": [
          1991,
          1990,
          1992,
          1989,
          1988,
          1987,
          1983,
          1986,
          1982,
          2016,
          1985,
          2015,
          1984,
          1993,
          1981,
          1994,
          2001,
          1995,
          1996,
          2000,
          1980,
          1997,
          1998,
          2010,
          1999,
          2011,
          2012,
          2013,
          2014,
          2007,
          2002,
          2004,
          1979,
          2003,
          2008,
          2005,
          2009,
          2006,
          1975,
          1978,
          1976,
          1977
         ],
         "y": [
          122000,
          122000,
          120000,
          83500,
          87000,
          94000,
          100000,
          100000,
          115000,
          126600,
          475000,
          547900,
          596200,
          610200,
          628500,
          816000,
          821500,
          1236000,
          1418000,
          1354600,
          1267900,
          1266000,
          1049000,
          949200,
          975500,
          906000,
          903000,
          980000,
          960395,
          876622,
          700016,
          605402,
          578879,
          582735,
          593799,
          594269,
          571684,
          589737,
          187567,
          216973,
          316115,
          669482
         ]
        },
        {
         "fillcolor": "rgb(251,154,153)",
         "hoverinfo": "x+y",
         "line": {
          "color": "rgb(184, 247, 212)",
          "width": 0.5
         },
         "mode": "lines",
         "name": "Pakistan",
         "stackgroup": "one",
         "type": "scatter",
         "uid": "b8430fde-e9b7-49a3-acef-c0417d13a5df",
         "x": [
          1991,
          1990,
          1992,
          1989,
          1988,
          1987,
          1983,
          1986,
          1982,
          2016,
          1985,
          2015,
          1984,
          1993,
          1981,
          1994,
          2001,
          1995,
          1996,
          2000,
          1980,
          1997,
          1998,
          2010,
          1999,
          2011,
          2012,
          2013,
          2014,
          2007,
          2002,
          2004,
          1979,
          2003,
          2008,
          2005,
          2009,
          2006,
          1975,
          1978,
          1976,
          1977
         ],
         "y": [
          400000,
          1428230,
          2375330,
          2877480,
          2901360,
          2500000,
          2732440,
          2882100,
          3159000,
          3257577,
          3275715,
          3255975,
          3099891,
          1629218,
          1479266,
          1055435,
          1202493,
          1202703,
          1202734,
          1202462,
          1202015,
          2001466,
          2198797,
          1227433,
          1124298,
          1290984,
          1084694,
          1044462,
          887273,
          765720,
          759392,
          1900621,
          1702700,
          1638456,
          1616507,
          1505525,
          1561162,
          1352560
         ]
        },
        {
         "fillcolor": "rgb(51,160,44)",
         "hoverinfo": "x+y",
         "line": {
          "color": "rgb(184, 247, 212)",
          "width": 0.5
         },
         "mode": "lines",
         "name": "Iran",
         "stackgroup": "one",
         "type": "scatter",
         "uid": "bcf7bf03-35b7-4f05-8ba1-b6b1f2dfce6b",
         "x": [
          1991,
          1990,
          1992,
          1989,
          1988,
          1987,
          1983,
          1986,
          1982,
          2016,
          1985,
          2015,
          1984,
          1993,
          1981,
          1994,
          2001,
          1995,
          1996,
          2000,
          1980,
          1997,
          1998,
          2010,
          1999,
          2011,
          2012,
          2013,
          2014,
          2007,
          2002,
          2004,
          1979,
          2003,
          2008,
          2005,
          2009,
          2006,
          1975,
          1978,
          1976,
          1977
         ],
         "y": [
          130100,
          330000,
          1565000,
          1700060,
          1900060,
          2000000,
          2300000,
          2590000,
          2760000,
          2850000,
          2850000,
          4174401,
          4404995,
          4150723,
          2495038,
          2236350,
          2071988,
          2030359,
          1982553,
          1931332,
          1835688,
          1868000,
          1868000,
          1306599,
          984896,
          1045976,
          974302,
          968370,
          963546,
          980109,
          1070488,
          1073366,
          886468,
          868242,
          857354,
          982027,
          979437,
          979435
         ]
        }
       ],
       "layout": {
        "title": {
         "text": "<b>Countries of Asylum with Highest Number of Refugees</b>"
        },
        "xaxis": {
         "title": {
          "text": "Year"
         }
        },
        "yaxis": {
         "title": {
          "text": "Number of Refugees"
         }
        }
       }
      },
      "text/html": [
       "<div id=\"22dbeeb4-41c0-4fc2-8155-5bfe6fe12296\" style=\"height: 525px; width: 100%;\" class=\"plotly-graph-div\"></div><script type=\"text/javascript\">require([\"plotly\"], function(Plotly) { window.PLOTLYENV=window.PLOTLYENV || {};window.PLOTLYENV.BASE_URL=\"https://plot.ly\";\n",
       "if (document.getElementById(\"22dbeeb4-41c0-4fc2-8155-5bfe6fe12296\")) {\n",
       "    Plotly.newPlot(\"22dbeeb4-41c0-4fc2-8155-5bfe6fe12296\", [{\"fillcolor\": \"rgb(31,120,180)\", \"hoverinfo\": \"x+y\", \"line\": {\"color\": \"rgb(111, 231, 219)\", \"width\": 0.5}, \"mode\": \"lines\", \"name\": \"Congo (DR)\", \"stackgroup\": \"one\", \"x\": [1991, 1990, 1992, 1989, 1988, 1987, 1983, 1986, 1982, 2016, 1985, 2015, 1984, 1993, 1981, 1994, 2001, 1995, 1996, 2000, 1980, 1997, 1998, 2010, 1999, 2011, 2012, 2013, 2014, 2007, 2002, 2004, 1979, 2003, 2008, 2005, 2009, 2006, 1975, 1978, 1976, 1977], \"y\": [510000.0, 515000.0, 530300.0, 653000.0, 710480.0, 611110.0, 576740.0, 497600.0, 303500.0, 337330.0, 283000.0, 301230.0, 320000.0, 340675.0, 340689.0, 416435.0, 482959.0, 391127.0, 572070.0, 1724365.0, 1433760.0, 675973.0, 297538.0, 240214.0, 285270.0, 332509.0, 362012.0, 332978.0, 234033.0, 199323.0, 204341.0, 208371.0, 177390.0, 155162.0, 185809.0, 166336.0, 152749.0, 65109.0, 113362.0, 119754.0, 383095.0, 451956.0], \"type\": \"scatter\", \"uid\": \"69a39c2e-686e-48ed-a3f9-765f3362a62c\"}, {\"fillcolor\": \"rgb(178,223,138)\", \"hoverinfo\": \"x+y\", \"line\": {\"color\": \"rgb(184, 247, 212)\", \"width\": 0.5}, \"mode\": \"lines\", \"name\": \"United States\", \"stackgroup\": \"one\", \"x\": [1991, 1990, 1992, 1989, 1988, 1987, 1983, 1986, 1982, 2016, 1985, 2015, 1984, 1993, 1981, 1994, 2001, 1995, 1996, 2000, 1980, 1997, 1998, 2010, 1999, 2011, 2012, 2013, 2014, 2007, 2002, 2004, 1979, 2003, 2008, 2005, 2009, 2006, 1975, 1978, 1976, 1977], \"y\": [530000.0, 500000.0, 684700.0, 734000.0, 734000.0, 403684.0, 537375.0, 620257.0, 655532.0, 626909.0, 492806.0, 398633.0, 365726.0, 377771.0, 411498.0, 464887.0, 513882.0, 579952.0, 623069.0, 631051.0, 623294.0, 607024.0, 563837.0, 533969.0, 521143.0, 508222.0, 515853.0, 485171.0, 452548.0, 420858.0, 379340.0, 843490.0, 281216.0, 279549.0, 275459.0, 264569.0, 264763.0, 262023.0, 263662.0, 267222.0, 273202.0, 272959.0], \"type\": \"scatter\", \"uid\": \"5490925c-47f6-4fda-a514-2ea16cace59f\"}, {\"fillcolor\": \"rgb(166,206,227)\", \"hoverinfo\": \"x+y\", \"line\": {\"color\": \"rgb(131, 90, 241)\", \"width\": 0.5}, \"mode\": \"lines\", \"name\": \"Germany\", \"stackgroup\": \"one\", \"x\": [1991, 1990, 1992, 1989, 1988, 1987, 1983, 1986, 1982, 2016, 1985, 2015, 1984, 1993, 1981, 1994, 2001, 1995, 1996, 2000, 1980, 1997, 1998, 2010, 1999, 2011, 2012, 2013, 2014, 2007, 2002, 2004, 1979, 2003, 2008, 2005, 2009, 2006, 1975, 1978, 1976, 1977], \"y\": [122000.0, 122000.0, 120000.0, 83500.0, 87000.0, 94000.0, 100000.0, 100000.0, 115000.0, 126600.0, 475000.0, 547900.0, 596200.0, 610200.0, 628500.0, 816000.0, 821500.0, 1236000.0, 1418000.0, 1354600.0, 1267900.0, 1266000.0, 1049000.0, 949200.0, 975500.0, 906000.0, 903000.0, 980000.0, 960395.0, 876622.0, 700016.0, 605402.0, 578879.0, 582735.0, 593799.0, 594269.0, 571684.0, 589737.0, 187567.0, 216973.0, 316115.0, 669482.0], \"type\": \"scatter\", \"uid\": \"c64ae841-f404-4ea1-bce9-54d062e08477\"}, {\"fillcolor\": \"rgb(251,154,153)\", \"hoverinfo\": \"x+y\", \"line\": {\"color\": \"rgb(184, 247, 212)\", \"width\": 0.5}, \"mode\": \"lines\", \"name\": \"Pakistan\", \"stackgroup\": \"one\", \"x\": [1991, 1990, 1992, 1989, 1988, 1987, 1983, 1986, 1982, 2016, 1985, 2015, 1984, 1993, 1981, 1994, 2001, 1995, 1996, 2000, 1980, 1997, 1998, 2010, 1999, 2011, 2012, 2013, 2014, 2007, 2002, 2004, 1979, 2003, 2008, 2005, 2009, 2006, 1975, 1978, 1976, 1977], \"y\": [400000.0, 1428230.0, 2375330.0, 2877480.0, 2901360.0, 2500000.0, 2732440.0, 2882100.0, 3159000.0, 3257577.0, 3275715.0, 3255975.0, 3099891.0, 1629218.0, 1479266.0, 1055435.0, 1202493.0, 1202703.0, 1202734.0, 1202462.0, 1202015.0, 2001466.0, 2198797.0, 1227433.0, 1124298.0, 1290984.0, 1084694.0, 1044462.0, 887273.0, 765720.0, 759392.0, 1900621.0, 1702700.0, 1638456.0, 1616507.0, 1505525.0, 1561162.0, 1352560.0], \"type\": \"scatter\", \"uid\": \"f1da2dca-fd6f-4386-839b-d3b97633019f\"}, {\"fillcolor\": \"rgb(51,160,44)\", \"hoverinfo\": \"x+y\", \"line\": {\"color\": \"rgb(184, 247, 212)\", \"width\": 0.5}, \"mode\": \"lines\", \"name\": \"Iran\", \"stackgroup\": \"one\", \"x\": [1991, 1990, 1992, 1989, 1988, 1987, 1983, 1986, 1982, 2016, 1985, 2015, 1984, 1993, 1981, 1994, 2001, 1995, 1996, 2000, 1980, 1997, 1998, 2010, 1999, 2011, 2012, 2013, 2014, 2007, 2002, 2004, 1979, 2003, 2008, 2005, 2009, 2006, 1975, 1978, 1976, 1977], \"y\": [130100.0, 330000.0, 1565000.0, 1700060.0, 1900060.0, 2000000.0, 2300000.0, 2590000.0, 2760000.0, 2850000.0, 2850000.0, 4174401.0, 4404995.0, 4150723.0, 2495038.0, 2236350.0, 2071988.0, 2030359.0, 1982553.0, 1931332.0, 1835688.0, 1868000.0, 1868000.0, 1306599.0, 984896.0, 1045976.0, 974302.0, 968370.0, 963546.0, 980109.0, 1070488.0, 1073366.0, 886468.0, 868242.0, 857354.0, 982027.0, 979437.0, 979435.0], \"type\": \"scatter\", \"uid\": \"6f8b5142-11e5-49d2-a017-79fac728e986\"}], {\"title\": {\"text\": \"<b>Countries of Asylum with Highest Number of Refugees</b>\"}, \"xaxis\": {\"title\": {\"text\": \"Year\"}}, \"yaxis\": {\"title\": {\"text\": \"Number of Refugees\"}}}, {\"showLink\": false, \"linkText\": \"Export to plot.ly\", \"plotlyServerURL\": \"https://plot.ly\"}); \n",
       "}\n",
       "});</script><script type=\"text/javascript\">window.addEventListener(\"resize\", function(){if (document.getElementById(\"22dbeeb4-41c0-4fc2-8155-5bfe6fe12296\")) {window._Plotly.Plots.resize(document.getElementById(\"22dbeeb4-41c0-4fc2-8155-5bfe6fe12296\"));};})</script>"
      ],
      "text/vnd.plotly.v1+html": [
       "<div id=\"22dbeeb4-41c0-4fc2-8155-5bfe6fe12296\" style=\"height: 525px; width: 100%;\" class=\"plotly-graph-div\"></div><script type=\"text/javascript\">require([\"plotly\"], function(Plotly) { window.PLOTLYENV=window.PLOTLYENV || {};window.PLOTLYENV.BASE_URL=\"https://plot.ly\";\n",
       "if (document.getElementById(\"22dbeeb4-41c0-4fc2-8155-5bfe6fe12296\")) {\n",
       "    Plotly.newPlot(\"22dbeeb4-41c0-4fc2-8155-5bfe6fe12296\", [{\"fillcolor\": \"rgb(31,120,180)\", \"hoverinfo\": \"x+y\", \"line\": {\"color\": \"rgb(111, 231, 219)\", \"width\": 0.5}, \"mode\": \"lines\", \"name\": \"Congo (DR)\", \"stackgroup\": \"one\", \"x\": [1991, 1990, 1992, 1989, 1988, 1987, 1983, 1986, 1982, 2016, 1985, 2015, 1984, 1993, 1981, 1994, 2001, 1995, 1996, 2000, 1980, 1997, 1998, 2010, 1999, 2011, 2012, 2013, 2014, 2007, 2002, 2004, 1979, 2003, 2008, 2005, 2009, 2006, 1975, 1978, 1976, 1977], \"y\": [510000.0, 515000.0, 530300.0, 653000.0, 710480.0, 611110.0, 576740.0, 497600.0, 303500.0, 337330.0, 283000.0, 301230.0, 320000.0, 340675.0, 340689.0, 416435.0, 482959.0, 391127.0, 572070.0, 1724365.0, 1433760.0, 675973.0, 297538.0, 240214.0, 285270.0, 332509.0, 362012.0, 332978.0, 234033.0, 199323.0, 204341.0, 208371.0, 177390.0, 155162.0, 185809.0, 166336.0, 152749.0, 65109.0, 113362.0, 119754.0, 383095.0, 451956.0], \"type\": \"scatter\", \"uid\": \"69a39c2e-686e-48ed-a3f9-765f3362a62c\"}, {\"fillcolor\": \"rgb(178,223,138)\", \"hoverinfo\": \"x+y\", \"line\": {\"color\": \"rgb(184, 247, 212)\", \"width\": 0.5}, \"mode\": \"lines\", \"name\": \"United States\", \"stackgroup\": \"one\", \"x\": [1991, 1990, 1992, 1989, 1988, 1987, 1983, 1986, 1982, 2016, 1985, 2015, 1984, 1993, 1981, 1994, 2001, 1995, 1996, 2000, 1980, 1997, 1998, 2010, 1999, 2011, 2012, 2013, 2014, 2007, 2002, 2004, 1979, 2003, 2008, 2005, 2009, 2006, 1975, 1978, 1976, 1977], \"y\": [530000.0, 500000.0, 684700.0, 734000.0, 734000.0, 403684.0, 537375.0, 620257.0, 655532.0, 626909.0, 492806.0, 398633.0, 365726.0, 377771.0, 411498.0, 464887.0, 513882.0, 579952.0, 623069.0, 631051.0, 623294.0, 607024.0, 563837.0, 533969.0, 521143.0, 508222.0, 515853.0, 485171.0, 452548.0, 420858.0, 379340.0, 843490.0, 281216.0, 279549.0, 275459.0, 264569.0, 264763.0, 262023.0, 263662.0, 267222.0, 273202.0, 272959.0], \"type\": \"scatter\", \"uid\": \"5490925c-47f6-4fda-a514-2ea16cace59f\"}, {\"fillcolor\": \"rgb(166,206,227)\", \"hoverinfo\": \"x+y\", \"line\": {\"color\": \"rgb(131, 90, 241)\", \"width\": 0.5}, \"mode\": \"lines\", \"name\": \"Germany\", \"stackgroup\": \"one\", \"x\": [1991, 1990, 1992, 1989, 1988, 1987, 1983, 1986, 1982, 2016, 1985, 2015, 1984, 1993, 1981, 1994, 2001, 1995, 1996, 2000, 1980, 1997, 1998, 2010, 1999, 2011, 2012, 2013, 2014, 2007, 2002, 2004, 1979, 2003, 2008, 2005, 2009, 2006, 1975, 1978, 1976, 1977], \"y\": [122000.0, 122000.0, 120000.0, 83500.0, 87000.0, 94000.0, 100000.0, 100000.0, 115000.0, 126600.0, 475000.0, 547900.0, 596200.0, 610200.0, 628500.0, 816000.0, 821500.0, 1236000.0, 1418000.0, 1354600.0, 1267900.0, 1266000.0, 1049000.0, 949200.0, 975500.0, 906000.0, 903000.0, 980000.0, 960395.0, 876622.0, 700016.0, 605402.0, 578879.0, 582735.0, 593799.0, 594269.0, 571684.0, 589737.0, 187567.0, 216973.0, 316115.0, 669482.0], \"type\": \"scatter\", \"uid\": \"c64ae841-f404-4ea1-bce9-54d062e08477\"}, {\"fillcolor\": \"rgb(251,154,153)\", \"hoverinfo\": \"x+y\", \"line\": {\"color\": \"rgb(184, 247, 212)\", \"width\": 0.5}, \"mode\": \"lines\", \"name\": \"Pakistan\", \"stackgroup\": \"one\", \"x\": [1991, 1990, 1992, 1989, 1988, 1987, 1983, 1986, 1982, 2016, 1985, 2015, 1984, 1993, 1981, 1994, 2001, 1995, 1996, 2000, 1980, 1997, 1998, 2010, 1999, 2011, 2012, 2013, 2014, 2007, 2002, 2004, 1979, 2003, 2008, 2005, 2009, 2006, 1975, 1978, 1976, 1977], \"y\": [400000.0, 1428230.0, 2375330.0, 2877480.0, 2901360.0, 2500000.0, 2732440.0, 2882100.0, 3159000.0, 3257577.0, 3275715.0, 3255975.0, 3099891.0, 1629218.0, 1479266.0, 1055435.0, 1202493.0, 1202703.0, 1202734.0, 1202462.0, 1202015.0, 2001466.0, 2198797.0, 1227433.0, 1124298.0, 1290984.0, 1084694.0, 1044462.0, 887273.0, 765720.0, 759392.0, 1900621.0, 1702700.0, 1638456.0, 1616507.0, 1505525.0, 1561162.0, 1352560.0], \"type\": \"scatter\", \"uid\": \"f1da2dca-fd6f-4386-839b-d3b97633019f\"}, {\"fillcolor\": \"rgb(51,160,44)\", \"hoverinfo\": \"x+y\", \"line\": {\"color\": \"rgb(184, 247, 212)\", \"width\": 0.5}, \"mode\": \"lines\", \"name\": \"Iran\", \"stackgroup\": \"one\", \"x\": [1991, 1990, 1992, 1989, 1988, 1987, 1983, 1986, 1982, 2016, 1985, 2015, 1984, 1993, 1981, 1994, 2001, 1995, 1996, 2000, 1980, 1997, 1998, 2010, 1999, 2011, 2012, 2013, 2014, 2007, 2002, 2004, 1979, 2003, 2008, 2005, 2009, 2006, 1975, 1978, 1976, 1977], \"y\": [130100.0, 330000.0, 1565000.0, 1700060.0, 1900060.0, 2000000.0, 2300000.0, 2590000.0, 2760000.0, 2850000.0, 2850000.0, 4174401.0, 4404995.0, 4150723.0, 2495038.0, 2236350.0, 2071988.0, 2030359.0, 1982553.0, 1931332.0, 1835688.0, 1868000.0, 1868000.0, 1306599.0, 984896.0, 1045976.0, 974302.0, 968370.0, 963546.0, 980109.0, 1070488.0, 1073366.0, 886468.0, 868242.0, 857354.0, 982027.0, 979437.0, 979435.0], \"type\": \"scatter\", \"uid\": \"6f8b5142-11e5-49d2-a017-79fac728e986\"}], {\"title\": {\"text\": \"<b>Countries of Asylum with Highest Number of Refugees</b>\"}, \"xaxis\": {\"title\": {\"text\": \"Year\"}}, \"yaxis\": {\"title\": {\"text\": \"Number of Refugees\"}}}, {\"showLink\": false, \"linkText\": \"Export to plot.ly\", \"plotlyServerURL\": \"https://plot.ly\"}); \n",
       "}\n",
       "});</script><script type=\"text/javascript\">window.addEventListener(\"resize\", function(){if (document.getElementById(\"22dbeeb4-41c0-4fc2-8155-5bfe6fe12296\")) {window._Plotly.Plots.resize(document.getElementById(\"22dbeeb4-41c0-4fc2-8155-5bfe6fe12296\"));};})</script>"
      ]
     },
     "metadata": {},
     "output_type": "display_data"
    }
   ],
   "source": [
    "colorscale=[[0, 'rgb(166,206,227)'], [0.25, 'rgb(31,120,180)'], [0.45, 'rgb(178,223,138)'], \n",
    "                    [0.65, 'rgb(51,160,44)'], [0.85, 'rgb(251,154,153)'], [1, 'rgb(227,26,28)']]\n",
    "\n",
    "trace0 = dict(\n",
    "    x=year,\n",
    "    y=df_stack_area[df_stack_area['Country or territory of asylum or residence'] == 'Germany'].\\\n",
    "                            sort_values('Year')['Total Refugees'].tolist(),\n",
    "    hoverinfo='x+y',\n",
    "    mode='lines',\n",
    "    line=dict(width=0.5,\n",
    "              color='rgb(131, 90, 241)'),\n",
    "    stackgroup='one',\n",
    "    name = 'Germany',\n",
    "    fillcolor = 'rgb(166,206,227)'\n",
    ")\n",
    "trace1 = dict(\n",
    "    x=year,\n",
    "    y=df_stack_area[df_stack_area['Country or territory of asylum or residence'] == 'Congo (DR)'].\\\n",
    "                            sort_values('Year')['Total Refugees'].tolist(),\n",
    "    hoverinfo='x+y',\n",
    "    mode='lines',\n",
    "    line=dict(width=0.5,\n",
    "              color='rgb(111, 231, 219)'),\n",
    "    stackgroup='one',\n",
    "    name = 'Congo (DR)',\n",
    "    fillcolor = 'rgb(31,120,180)'\n",
    ")\n",
    "trace2 = dict(\n",
    "    x=year,\n",
    "    y=df_stack_area[df_stack_area['Country or territory of asylum or residence'] == 'United States'].\\\n",
    "                            sort_values('Year')['Total Refugees'].tolist(),\n",
    "    hoverinfo='x+y',\n",
    "    mode='lines',\n",
    "    line=dict(width=0.5,\n",
    "              color='rgb(184, 247, 212)'),\n",
    "    stackgroup='one',\n",
    "    name='United States',\n",
    "    fillcolor='rgb(178,223,138)'\n",
    ")\n",
    "\n",
    "\n",
    "trace3 = dict(\n",
    "    x=year,\n",
    "    y=df_stack_area[df_stack_area['Country or territory of asylum or residence'] == 'Iran'].\\\n",
    "                            sort_values('Year')['Total Refugees'].tolist(),\n",
    "    hoverinfo='x+y',\n",
    "    mode='lines',\n",
    "    line=dict(width=0.5,\n",
    "              color='rgb(184, 247, 212)'),\n",
    "    stackgroup='one',\n",
    "    name = 'Iran',\n",
    "    fillcolor='rgb(51,160,44)'\n",
    ")\n",
    "\n",
    "\n",
    "trace4 = dict(\n",
    "    x=year,\n",
    "    y=df_stack_area[df_stack_area['Country or territory of asylum or residence'] == 'Pakistan'].\\\n",
    "                            sort_values('Year')['Total Refugees'].tolist(),\n",
    "    hoverinfo='x+y',\n",
    "    mode='lines',\n",
    "    line=dict(width=0.5,\n",
    "              color='rgb(184, 247, 212)'),\n",
    "    stackgroup='one',\n",
    "    name = 'Pakistan',\n",
    "    fillcolor='rgb(251,154,153)'\n",
    ")\n",
    "\n",
    "\n",
    "layout = go.Layout(\n",
    "    title='<b>Countries of Asylum with Highest Number of Refugees</b>',\n",
    "    xaxis=dict(\n",
    "        title='Year'\n",
    "    ),\n",
    "    yaxis=dict(\n",
    "        title='Number of Refugees'\n",
    "    ),\n",
    "    \n",
    ")\n",
    "\n",
    "\n",
    "data = [trace1, trace2, trace0, trace4, trace3]\n",
    "\n",
    "fig = dict(data=data,layout=layout)\n",
    "iplot(fig, filename='stacked-area-plot-hover')"
   ]
  },
  {
   "cell_type": "markdown",
   "metadata": {},
   "source": [
    "Based on the stacked area graph, we see that for all the countries except Iran, the year of 2000 was the year with the highest number of refugees recorded in these countires. For Iran, the number of refugees has been consistently higher than for the other 4 countries."
   ]
  },
  {
   "cell_type": "markdown",
   "metadata": {},
   "source": [
    "Next, I will look at European countries."
   ]
  },
  {
   "cell_type": "code",
   "execution_count": 296,
   "metadata": {},
   "outputs": [],
   "source": [
    "europe = pd.read_csv('europe_countries.csv', header=None, sep=';')\n",
    "\n",
    "country_list = europe[0].tolist()"
   ]
  },
  {
   "cell_type": "code",
   "execution_count": 297,
   "metadata": {},
   "outputs": [],
   "source": [
    "df_temp = df.replace(['The former Yugoslav Rep. of Macedonia',\n",
    "                                       'Serbia (and Kosovo: S/RES/1244 (1999))',\n",
    "                     'Russian Federation'], ['Macedonia','Serbia', 'Russia'])"
   ]
  },
  {
   "cell_type": "code",
   "execution_count": 298,
   "metadata": {},
   "outputs": [],
   "source": [
    "df_eur = df_temp[df_temp['Country or territory of asylum or residence'].isin(country_list)]"
   ]
  },
  {
   "cell_type": "code",
   "execution_count": 299,
   "metadata": {},
   "outputs": [],
   "source": [
    "df_eur = df_eur[(df_eur['Year'] == 2016)]"
   ]
  },
  {
   "cell_type": "code",
   "execution_count": 300,
   "metadata": {},
   "outputs": [],
   "source": [
    "country_refugee = df_eur.groupby('Country or territory of asylum or residence')['Total Refugees'].sum().reset_index()"
   ]
  },
  {
   "cell_type": "code",
   "execution_count": 301,
   "metadata": {},
   "outputs": [],
   "source": [
    "df_lon_lat = pd.read_excel('lon_lat.xlsx', sheet_name='Sheet1')"
   ]
  },
  {
   "cell_type": "code",
   "execution_count": 302,
   "metadata": {},
   "outputs": [],
   "source": [
    "df_bubble = pd.merge(country_refugee, df_lon_lat, how='left', \n",
    "                left_on='Country or territory of asylum or residence', right_on='Country')\n"
   ]
  },
  {
   "cell_type": "code",
   "execution_count": 347,
   "metadata": {},
   "outputs": [
    {
     "data": {
      "text/plain": [
       "'file:///Users/anushkocharyan/Desktop/datavis_final/bubble_map.html'"
      ]
     },
     "execution_count": 347,
     "metadata": {},
     "output_type": "execute_result"
    }
   ],
   "source": [
    "df['text'] = 'Country: ' + (df_bubble['Country']).astype(str) + '<br>Number of Refugees: ' + (df_bubble['Total Refugees']).astype(str)\n",
    "limits = [(10000,30000),(30001,60000),(60001,100000),(100001,250000),(250001, 700000)]\n",
    "colors = [\"rgb(0,116,217)\",\"rgb(255,65,54)\",\"rgb(133,20,75)\",\"rgb(255,133,27)\",\"rgb(34,139,34)\"]\n",
    "cities = []\n",
    "scale = 3000\n",
    "\n",
    "for i in range(len(limits)):\n",
    "    lim = limits[i]\n",
    "    df_sub = df_bubble[df_bubble['Total Refugees'].between(lim[0], lim[1], inclusive=True)]\n",
    "    city = go.Scattergeo(\n",
    "        locationmode = 'country names',\n",
    "        lon = df_sub['Longitude'],\n",
    "        lat = df_sub['Latitude'],\n",
    "        text = df['text'],\n",
    "        marker = go.scattergeo.Marker(\n",
    "            size = df_sub['Total Refugees']/scale,\n",
    "            color = colors[i],\n",
    "            line = go.scattergeo.marker.Line(\n",
    "                width=0.5, color='rgb(40,40,40)'\n",
    "            ),\n",
    "            sizemode = 'area' ),\n",
    "        name = '{0} - {1}'.format(lim[0],lim[1]) )\n",
    "    cities.append(city)\n",
    "\n",
    "layout = go.Layout(\n",
    "        title = go.layout.Title(\n",
    "            text = 'Refugee Population in Europe in 2016 by Country'\n",
    "        ),\n",
    "        showlegend = True,\n",
    "        geo = go.layout.Geo(\n",
    "            projection = go.layout.geo.Projection(\n",
    "                type='equirectangular'\n",
    "            ),\n",
    "            showland = True,\n",
    "            landcolor = 'rgb(217, 217, 217)',\n",
    "            subunitwidth=1,\n",
    "            countrywidth=1,\n",
    "            subunitcolor=\"rgb(255, 255, 255)\",\n",
    "            countrycolor=\"rgb(255, 255, 255)\"\n",
    "        )\n",
    "    )\n",
    "\n",
    "fig = go.Figure(data=cities, layout=layout)\n",
    "plot(fig, filename='bubble_map')"
   ]
  },
  {
   "cell_type": "code",
   "execution_count": 352,
   "metadata": {},
   "outputs": [
    {
     "data": {
      "application/vnd.plotly.v1+json": {
       "config": {
        "linkText": "Export to plot.ly",
        "plotlyServerURL": "https://plot.ly",
        "showLink": false
       },
       "data": [
        {
         "type": "heatmap",
         "uid": "bb3aceeb-ed72-4584-8707-e9b5c3f09bc5",
         "x": [
          "Pakistan",
          "Afghanistan",
          "Iran",
          "Iraq",
          "Turkey"
         ],
         "y": [
          "Pakistan",
          "Afghanistan",
          "Iran",
          "Iraq",
          "Turkey"
         ],
         "z": [
          [
           0,
           59737,
           10,
           0,
           50
          ],
          [
           1352160,
           0,
           951142,
           11,
           3423
          ],
          [
           49,
           33,
           0,
           7545,
           6966
          ],
          [
           21,
           1,
           28268,
           0,
           30398
          ],
          [
           0,
           0,
           0,
           15692,
           0
          ]
         ]
        }
       ],
       "layout": {
        "title": {
         "text": "<b>Number of Refugees Across Countries of Asylums and Origins </b>"
        },
        "xaxis": {
         "title": {
          "text": "Country of Asylum"
         }
        },
        "yaxis": {
         "title": {
          "text": "Country of Origin"
         }
        }
       }
      },
      "text/html": [
       "<div id=\"eb029015-8cae-497f-a3e5-ce0225422ab6\" style=\"height: 525px; width: 100%;\" class=\"plotly-graph-div\"></div><script type=\"text/javascript\">require([\"plotly\"], function(Plotly) { window.PLOTLYENV=window.PLOTLYENV || {};window.PLOTLYENV.BASE_URL=\"https://plot.ly\";\n",
       "if (document.getElementById(\"eb029015-8cae-497f-a3e5-ce0225422ab6\")) {\n",
       "    Plotly.newPlot(\"eb029015-8cae-497f-a3e5-ce0225422ab6\", [{\"x\": [\"Pakistan\", \"Afghanistan\", \"Iran\", \"Iraq\", \"Turkey\"], \"y\": [\"Pakistan\", \"Afghanistan\", \"Iran\", \"Iraq\", \"Turkey\"], \"z\": [[0, 59737.0, 10.0, 0, 50.0], [1352160.0, 0, 951142.0, 11.0, 3423.0], [49.0, 33.0, 0, 7545.0, 6966.0], [21.0, 1.0, 28268.0, 0, 30398.0], [0, 0, 0, 15692.0, 0]], \"type\": \"heatmap\", \"uid\": \"bb3aceeb-ed72-4584-8707-e9b5c3f09bc5\"}], {\"title\": {\"text\": \"<b>Number of Refugees Across Countries of Asylums and Origins </b>\"}, \"xaxis\": {\"title\": {\"text\": \"Country of Asylum\"}}, \"yaxis\": {\"title\": {\"text\": \"Country of Origin\"}}}, {\"showLink\": false, \"linkText\": \"Export to plot.ly\", \"plotlyServerURL\": \"https://plot.ly\"}); \n",
       "}\n",
       "});</script><script type=\"text/javascript\">window.addEventListener(\"resize\", function(){if (document.getElementById(\"eb029015-8cae-497f-a3e5-ce0225422ab6\")) {window._Plotly.Plots.resize(document.getElementById(\"eb029015-8cae-497f-a3e5-ce0225422ab6\"));};})</script>"
      ],
      "text/vnd.plotly.v1+html": [
       "<div id=\"eb029015-8cae-497f-a3e5-ce0225422ab6\" style=\"height: 525px; width: 100%;\" class=\"plotly-graph-div\"></div><script type=\"text/javascript\">require([\"plotly\"], function(Plotly) { window.PLOTLYENV=window.PLOTLYENV || {};window.PLOTLYENV.BASE_URL=\"https://plot.ly\";\n",
       "if (document.getElementById(\"eb029015-8cae-497f-a3e5-ce0225422ab6\")) {\n",
       "    Plotly.newPlot(\"eb029015-8cae-497f-a3e5-ce0225422ab6\", [{\"x\": [\"Pakistan\", \"Afghanistan\", \"Iran\", \"Iraq\", \"Turkey\"], \"y\": [\"Pakistan\", \"Afghanistan\", \"Iran\", \"Iraq\", \"Turkey\"], \"z\": [[0, 59737.0, 10.0, 0, 50.0], [1352160.0, 0, 951142.0, 11.0, 3423.0], [49.0, 33.0, 0, 7545.0, 6966.0], [21.0, 1.0, 28268.0, 0, 30398.0], [0, 0, 0, 15692.0, 0]], \"type\": \"heatmap\", \"uid\": \"bb3aceeb-ed72-4584-8707-e9b5c3f09bc5\"}], {\"title\": {\"text\": \"<b>Number of Refugees Across Countries of Asylums and Origins </b>\"}, \"xaxis\": {\"title\": {\"text\": \"Country of Asylum\"}}, \"yaxis\": {\"title\": {\"text\": \"Country of Origin\"}}}, {\"showLink\": false, \"linkText\": \"Export to plot.ly\", \"plotlyServerURL\": \"https://plot.ly\"}); \n",
       "}\n",
       "});</script><script type=\"text/javascript\">window.addEventListener(\"resize\", function(){if (document.getElementById(\"eb029015-8cae-497f-a3e5-ce0225422ab6\")) {window._Plotly.Plots.resize(document.getElementById(\"eb029015-8cae-497f-a3e5-ce0225422ab6\"));};})</script>"
      ]
     },
     "metadata": {},
     "output_type": "display_data"
    }
   ],
   "source": [
    "df = pd.read_csv('UN_refugees_data.csv')\n",
    "\n",
    "df_2016 = df[(df['Year'] == 2016)]\n",
    "\n",
    "df_2016 = df_2016[df_2016['Country or territory of asylum or residence'] != 'Various']\n",
    "\n",
    "df_2016 = df_2016[(df_2016['Country or territory of origin'] != 'Stateless') & \n",
    "                 (df_2016['Country or territory of origin'] != 'Various')]\n",
    "\n",
    "countries = ['Pakistan', 'Afghanistan', 'Islamic Rep. of Iran', 'Iraq', 'Turkey']\n",
    "\n",
    "hm = df_2016[df_2016['Country or territory of origin'].isin(countries)]\n",
    "hm = df_2016[df_2016['Country or territory of asylum or residence'].isin(countries)]\n",
    "\n",
    "hm = hm.replace(['Islamic Rep. of Iran'], ['Iran'])\n",
    "\n",
    "countries = ['Pakistan', 'Afghanistan', 'Iran', 'Iraq', 'Turkey']\n",
    "\n",
    "heatmap_matrix = []\n",
    "\n",
    "for c_origin in countries:\n",
    "    matrix = []\n",
    "    for c_asylum in countries:\n",
    "        if c_origin == c_asylum:\n",
    "            matrix.append(0)\n",
    "        elif ((hm['Country or territory of asylum or residence'] == c_asylum) &\\\n",
    "                              (hm['Country or territory of origin'] == c_origin)).any():\n",
    "            num_ref =  hm.loc[(hm['Country or territory of asylum or residence'] == c_asylum) &\\\n",
    "                              (hm['Country or territory of origin'] == c_origin)]\\\n",
    "                                                                              ['Total Refugees'].tolist()[0]\n",
    "            matrix.append(num_ref)\n",
    "        else:\n",
    "            matrix.append(0)\n",
    "\n",
    "    heatmap_matrix.append(matrix)\n",
    "        \n",
    "\n",
    "trace = go.Heatmap(z=heatmap_matrix,\n",
    "                   x= countries,\n",
    "               \n",
    "                   y= countries)\n",
    "data=[trace]\n",
    "\n",
    "layout = go.Layout(\n",
    "    title = go.layout.Title(\n",
    "        text = '<b>Number of Refugees Across Countries of Asylums and Origins </b>'\n",
    "    ),\n",
    "    xaxis=dict(\n",
    "        title='Country of Asylum',\n",
    "        #tickangle=-45\n",
    "    ),\n",
    "    yaxis=dict(\n",
    "        title='Country of Origin',\n",
    "        #tickangle=-45\n",
    "    ),\n",
    "    \n",
    ")\n",
    "\n",
    "\n",
    "fig = go.Figure(data=data, layout=layout)\n",
    "iplot(fig, filename='labelled-heatmap')"
   ]
  },
  {
   "cell_type": "code",
   "execution_count": null,
   "metadata": {},
   "outputs": [],
   "source": []
  }
 ],
 "metadata": {
  "kernelspec": {
   "display_name": "Python 3",
   "language": "python",
   "name": "python3"
  },
  "language_info": {
   "codemirror_mode": {
    "name": "ipython",
    "version": 3
   },
   "file_extension": ".py",
   "mimetype": "text/x-python",
   "name": "python",
   "nbconvert_exporter": "python",
   "pygments_lexer": "ipython3",
   "version": "3.6.7"
  }
 },
 "nbformat": 4,
 "nbformat_minor": 2
}
