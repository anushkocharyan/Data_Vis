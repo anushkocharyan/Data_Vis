{
 "cells": [
  {
   "cell_type": "code",
   "execution_count": 36,
   "metadata": {},
   "outputs": [],
   "source": [
    "import numpy as np\n",
    "import pandas as pd\n",
    "import plotly.plotly as py\n",
    "import plotly.graph_objs as go\n",
    "import warnings\n",
    "warnings.filterwarnings('ignore')"
   ]
  },
  {
   "cell_type": "code",
   "execution_count": 37,
   "metadata": {},
   "outputs": [],
   "source": [
    "import plotly.graph_objs as go\n",
    "from plotly.offline import download_plotlyjs, init_notebook_mode, plot, iplot"
   ]
  },
  {
   "cell_type": "code",
   "execution_count": 39,
   "metadata": {},
   "outputs": [
    {
     "data": {
      "text/html": [
       "<script type=\"text/javascript\">window.PlotlyConfig = {MathJaxConfig: 'local'};</script><script type=\"text/javascript\">if (window.MathJax) {MathJax.Hub.Config({SVG: {font: \"STIX-Web\"}});}</script><script>requirejs.config({paths: { 'plotly': ['https://cdn.plot.ly/plotly-latest.min']},});if(!window._Plotly) {require(['plotly'],function(plotly) {window._Plotly=plotly;});}</script>"
      ],
      "text/vnd.plotly.v1+html": [
       "<script type=\"text/javascript\">window.PlotlyConfig = {MathJaxConfig: 'local'};</script><script type=\"text/javascript\">if (window.MathJax) {MathJax.Hub.Config({SVG: {font: \"STIX-Web\"}});}</script><script>requirejs.config({paths: { 'plotly': ['https://cdn.plot.ly/plotly-latest.min']},});if(!window._Plotly) {require(['plotly'],function(plotly) {window._Plotly=plotly;});}</script>"
      ]
     },
     "metadata": {},
     "output_type": "display_data"
    }
   ],
   "source": [
    "init_notebook_mode(connected=True)"
   ]
  },
  {
   "cell_type": "code",
   "execution_count": 40,
   "metadata": {},
   "outputs": [],
   "source": [
    "df = pd.read_csv('UN_refugees_data.csv')"
   ]
  },
  {
   "cell_type": "code",
   "execution_count": 41,
   "metadata": {},
   "outputs": [
    {
     "data": {
      "text/html": [
       "<div>\n",
       "<style scoped>\n",
       "    .dataframe tbody tr th:only-of-type {\n",
       "        vertical-align: middle;\n",
       "    }\n",
       "\n",
       "    .dataframe tbody tr th {\n",
       "        vertical-align: top;\n",
       "    }\n",
       "\n",
       "    .dataframe thead th {\n",
       "        text-align: right;\n",
       "    }\n",
       "</style>\n",
       "<table border=\"1\" class=\"dataframe\">\n",
       "  <thead>\n",
       "    <tr style=\"text-align: right;\">\n",
       "      <th></th>\n",
       "      <th>Country or territory of asylum or residence</th>\n",
       "      <th>Country or territory of origin</th>\n",
       "      <th>Year</th>\n",
       "      <th>Total Refugees</th>\n",
       "    </tr>\n",
       "  </thead>\n",
       "  <tbody>\n",
       "    <tr>\n",
       "      <th>0</th>\n",
       "      <td>Afghanistan</td>\n",
       "      <td>Iraq</td>\n",
       "      <td>2016</td>\n",
       "      <td>1.0</td>\n",
       "    </tr>\n",
       "    <tr>\n",
       "      <th>1</th>\n",
       "      <td>Afghanistan</td>\n",
       "      <td>Islamic Rep. of Iran</td>\n",
       "      <td>2016</td>\n",
       "      <td>33.0</td>\n",
       "    </tr>\n",
       "    <tr>\n",
       "      <th>2</th>\n",
       "      <td>Afghanistan</td>\n",
       "      <td>Pakistan</td>\n",
       "      <td>2016</td>\n",
       "      <td>59737.0</td>\n",
       "    </tr>\n",
       "    <tr>\n",
       "      <th>3</th>\n",
       "      <td>Albania</td>\n",
       "      <td>China</td>\n",
       "      <td>2016</td>\n",
       "      <td>11.0</td>\n",
       "    </tr>\n",
       "    <tr>\n",
       "      <th>4</th>\n",
       "      <td>Albania</td>\n",
       "      <td>Dem. Rep. of the Congo</td>\n",
       "      <td>2016</td>\n",
       "      <td>3.0</td>\n",
       "    </tr>\n",
       "    <tr>\n",
       "      <th>5</th>\n",
       "      <td>Albania</td>\n",
       "      <td>Egypt</td>\n",
       "      <td>2016</td>\n",
       "      <td>3.0</td>\n",
       "    </tr>\n",
       "    <tr>\n",
       "      <th>6</th>\n",
       "      <td>Albania</td>\n",
       "      <td>Iraq</td>\n",
       "      <td>2016</td>\n",
       "      <td>23.0</td>\n",
       "    </tr>\n",
       "    <tr>\n",
       "      <th>7</th>\n",
       "      <td>Albania</td>\n",
       "      <td>Islamic Rep. of Iran</td>\n",
       "      <td>2016</td>\n",
       "      <td>17.0</td>\n",
       "    </tr>\n",
       "    <tr>\n",
       "      <th>8</th>\n",
       "      <td>Albania</td>\n",
       "      <td>Montenegro</td>\n",
       "      <td>2016</td>\n",
       "      <td>2.0</td>\n",
       "    </tr>\n",
       "    <tr>\n",
       "      <th>9</th>\n",
       "      <td>Albania</td>\n",
       "      <td>Peru</td>\n",
       "      <td>2016</td>\n",
       "      <td>1.0</td>\n",
       "    </tr>\n",
       "  </tbody>\n",
       "</table>\n",
       "</div>"
      ],
      "text/plain": [
       "  Country or territory of asylum or residence Country or territory of origin  \\\n",
       "0                                 Afghanistan                           Iraq   \n",
       "1                                 Afghanistan           Islamic Rep. of Iran   \n",
       "2                                 Afghanistan                       Pakistan   \n",
       "3                                     Albania                          China   \n",
       "4                                     Albania         Dem. Rep. of the Congo   \n",
       "5                                     Albania                          Egypt   \n",
       "6                                     Albania                           Iraq   \n",
       "7                                     Albania           Islamic Rep. of Iran   \n",
       "8                                     Albania                     Montenegro   \n",
       "9                                     Albania                           Peru   \n",
       "\n",
       "   Year  Total Refugees  \n",
       "0  2016             1.0  \n",
       "1  2016            33.0  \n",
       "2  2016         59737.0  \n",
       "3  2016            11.0  \n",
       "4  2016             3.0  \n",
       "5  2016             3.0  \n",
       "6  2016            23.0  \n",
       "7  2016            17.0  \n",
       "8  2016             2.0  \n",
       "9  2016             1.0  "
      ]
     },
     "execution_count": 41,
     "metadata": {},
     "output_type": "execute_result"
    }
   ],
   "source": [
    "df.head(10)"
   ]
  },
  {
   "cell_type": "code",
   "execution_count": 42,
   "metadata": {},
   "outputs": [],
   "source": [
    "df = df[df['Total Refugees'].notnull()] # filtering out missing values"
   ]
  },
  {
   "cell_type": "code",
   "execution_count": 43,
   "metadata": {},
   "outputs": [
    {
     "data": {
      "text/plain": [
       "array([2016, 2015, 2014, 2013, 2012, 2011, 2010, 2009, 2008, 2007, 2006,\n",
       "       2005, 2004, 2003, 2002, 2001, 2000, 1999, 1998, 1997, 1996, 1995,\n",
       "       1994, 1993, 1992, 1991, 1990, 1989, 1988, 1987, 1986, 1985, 1984,\n",
       "       1983, 1982, 1981, 1980, 1979, 1978, 1977, 1976, 1975])"
      ]
     },
     "execution_count": 43,
     "metadata": {},
     "output_type": "execute_result"
    }
   ],
   "source": [
    "df.Year.unique()"
   ]
  },
  {
   "cell_type": "code",
   "execution_count": 44,
   "metadata": {},
   "outputs": [],
   "source": [
    "df['Total Refugees'] = df['Total Refugees'].astype(int)"
   ]
  },
  {
   "cell_type": "code",
   "execution_count": 45,
   "metadata": {},
   "outputs": [
    {
     "data": {
      "text/html": [
       "<div>\n",
       "<style scoped>\n",
       "    .dataframe tbody tr th:only-of-type {\n",
       "        vertical-align: middle;\n",
       "    }\n",
       "\n",
       "    .dataframe tbody tr th {\n",
       "        vertical-align: top;\n",
       "    }\n",
       "\n",
       "    .dataframe thead th {\n",
       "        text-align: right;\n",
       "    }\n",
       "</style>\n",
       "<table border=\"1\" class=\"dataframe\">\n",
       "  <thead>\n",
       "    <tr style=\"text-align: right;\">\n",
       "      <th></th>\n",
       "      <th>Country or territory of asylum or residence</th>\n",
       "      <th>Country or territory of origin</th>\n",
       "      <th>Year</th>\n",
       "      <th>Total Refugees</th>\n",
       "    </tr>\n",
       "  </thead>\n",
       "  <tbody>\n",
       "    <tr>\n",
       "      <th>0</th>\n",
       "      <td>Afghanistan</td>\n",
       "      <td>Iraq</td>\n",
       "      <td>2016</td>\n",
       "      <td>1</td>\n",
       "    </tr>\n",
       "    <tr>\n",
       "      <th>1</th>\n",
       "      <td>Afghanistan</td>\n",
       "      <td>Islamic Rep. of Iran</td>\n",
       "      <td>2016</td>\n",
       "      <td>33</td>\n",
       "    </tr>\n",
       "    <tr>\n",
       "      <th>2</th>\n",
       "      <td>Afghanistan</td>\n",
       "      <td>Pakistan</td>\n",
       "      <td>2016</td>\n",
       "      <td>59737</td>\n",
       "    </tr>\n",
       "    <tr>\n",
       "      <th>3</th>\n",
       "      <td>Albania</td>\n",
       "      <td>China</td>\n",
       "      <td>2016</td>\n",
       "      <td>11</td>\n",
       "    </tr>\n",
       "    <tr>\n",
       "      <th>4</th>\n",
       "      <td>Albania</td>\n",
       "      <td>Dem. Rep. of the Congo</td>\n",
       "      <td>2016</td>\n",
       "      <td>3</td>\n",
       "    </tr>\n",
       "  </tbody>\n",
       "</table>\n",
       "</div>"
      ],
      "text/plain": [
       "  Country or territory of asylum or residence Country or territory of origin  \\\n",
       "0                                 Afghanistan                           Iraq   \n",
       "1                                 Afghanistan           Islamic Rep. of Iran   \n",
       "2                                 Afghanistan                       Pakistan   \n",
       "3                                     Albania                          China   \n",
       "4                                     Albania         Dem. Rep. of the Congo   \n",
       "\n",
       "   Year  Total Refugees  \n",
       "0  2016               1  \n",
       "1  2016              33  \n",
       "2  2016           59737  \n",
       "3  2016              11  \n",
       "4  2016               3  "
      ]
     },
     "execution_count": 45,
     "metadata": {},
     "output_type": "execute_result"
    }
   ],
   "source": [
    "df.head()"
   ]
  },
  {
   "cell_type": "code",
   "execution_count": 46,
   "metadata": {},
   "outputs": [],
   "source": [
    "usa = df[(df['Country or territory of asylum or residence'] == 'United States') &\n",
    "         (df['Country or territory of origin'] != 'Various')]"
   ]
  },
  {
   "cell_type": "code",
   "execution_count": 47,
   "metadata": {},
   "outputs": [
    {
     "data": {
      "text/html": [
       "<div>\n",
       "<style scoped>\n",
       "    .dataframe tbody tr th:only-of-type {\n",
       "        vertical-align: middle;\n",
       "    }\n",
       "\n",
       "    .dataframe tbody tr th {\n",
       "        vertical-align: top;\n",
       "    }\n",
       "\n",
       "    .dataframe thead th {\n",
       "        text-align: right;\n",
       "    }\n",
       "</style>\n",
       "<table border=\"1\" class=\"dataframe\">\n",
       "  <thead>\n",
       "    <tr style=\"text-align: right;\">\n",
       "      <th></th>\n",
       "      <th>index</th>\n",
       "      <th>Country or territory of asylum or residence</th>\n",
       "      <th>Country or territory of origin</th>\n",
       "      <th>Year</th>\n",
       "      <th>Total Refugees</th>\n",
       "    </tr>\n",
       "  </thead>\n",
       "  <tbody>\n",
       "    <tr>\n",
       "      <th>0</th>\n",
       "      <td>88932</td>\n",
       "      <td>United States</td>\n",
       "      <td>Russian Federation</td>\n",
       "      <td>1994</td>\n",
       "      <td>245238</td>\n",
       "    </tr>\n",
       "    <tr>\n",
       "      <th>1</th>\n",
       "      <td>90373</td>\n",
       "      <td>United States</td>\n",
       "      <td>Russian Federation</td>\n",
       "      <td>1993</td>\n",
       "      <td>240641</td>\n",
       "    </tr>\n",
       "    <tr>\n",
       "      <th>2</th>\n",
       "      <td>91205</td>\n",
       "      <td>United States</td>\n",
       "      <td>Russian Federation</td>\n",
       "      <td>1992</td>\n",
       "      <td>211661</td>\n",
       "    </tr>\n",
       "    <tr>\n",
       "      <th>3</th>\n",
       "      <td>88948</td>\n",
       "      <td>United States</td>\n",
       "      <td>Viet Nam</td>\n",
       "      <td>1994</td>\n",
       "      <td>211376</td>\n",
       "    </tr>\n",
       "    <tr>\n",
       "      <th>4</th>\n",
       "      <td>90388</td>\n",
       "      <td>United States</td>\n",
       "      <td>Viet Nam</td>\n",
       "      <td>1993</td>\n",
       "      <td>205469</td>\n",
       "    </tr>\n",
       "  </tbody>\n",
       "</table>\n",
       "</div>"
      ],
      "text/plain": [
       "   index Country or territory of asylum or residence  \\\n",
       "0  88932                               United States   \n",
       "1  90373                               United States   \n",
       "2  91205                               United States   \n",
       "3  88948                               United States   \n",
       "4  90388                               United States   \n",
       "\n",
       "  Country or territory of origin  Year  Total Refugees  \n",
       "0             Russian Federation  1994          245238  \n",
       "1             Russian Federation  1993          240641  \n",
       "2             Russian Federation  1992          211661  \n",
       "3                       Viet Nam  1994          211376  \n",
       "4                       Viet Nam  1993          205469  "
      ]
     },
     "execution_count": 47,
     "metadata": {},
     "output_type": "execute_result"
    }
   ],
   "source": [
    "usa = usa.sort_values('Total Refugees', ascending=False).reset_index()\n",
    "usa.head()"
   ]
  },
  {
   "cell_type": "markdown",
   "metadata": {},
   "source": [
    "# Countries with largest number of refugees residing in the US"
   ]
  },
  {
   "cell_type": "code",
   "execution_count": 48,
   "metadata": {},
   "outputs": [],
   "source": [
    "max_per_country = usa.groupby('Country or territory of origin')['Total Refugees'].max().sort_values(ascending=False).reset_index()"
   ]
  },
  {
   "cell_type": "code",
   "execution_count": 49,
   "metadata": {},
   "outputs": [],
   "source": [
    "max_per_country = max_per_country.head(20)"
   ]
  },
  {
   "cell_type": "code",
   "execution_count": 50,
   "metadata": {},
   "outputs": [],
   "source": [
    "df_map = pd.merge(max_per_country, usa, how='inner', on='Total Refugees') # merging to also get the year information."
   ]
  },
  {
   "cell_type": "code",
   "execution_count": 51,
   "metadata": {},
   "outputs": [],
   "source": [
    "df_map = df_map[['Country or territory of origin_x', 'Total Refugees', 'Year' ]] #delete irrelevant columns"
   ]
  },
  {
   "cell_type": "code",
   "execution_count": 52,
   "metadata": {},
   "outputs": [
    {
     "data": {
      "text/html": [
       "<div>\n",
       "<style scoped>\n",
       "    .dataframe tbody tr th:only-of-type {\n",
       "        vertical-align: middle;\n",
       "    }\n",
       "\n",
       "    .dataframe tbody tr th {\n",
       "        vertical-align: top;\n",
       "    }\n",
       "\n",
       "    .dataframe thead th {\n",
       "        text-align: right;\n",
       "    }\n",
       "</style>\n",
       "<table border=\"1\" class=\"dataframe\">\n",
       "  <thead>\n",
       "    <tr style=\"text-align: right;\">\n",
       "      <th></th>\n",
       "      <th>Country or territory of origin_x</th>\n",
       "      <th>Total Refugees</th>\n",
       "      <th>Year</th>\n",
       "    </tr>\n",
       "  </thead>\n",
       "  <tbody>\n",
       "    <tr>\n",
       "      <th>0</th>\n",
       "      <td>Russian Federation</td>\n",
       "      <td>245238</td>\n",
       "      <td>1994</td>\n",
       "    </tr>\n",
       "    <tr>\n",
       "      <th>1</th>\n",
       "      <td>Viet Nam</td>\n",
       "      <td>211376</td>\n",
       "      <td>1994</td>\n",
       "    </tr>\n",
       "    <tr>\n",
       "      <th>2</th>\n",
       "      <td>Bosnia and Herzegovina</td>\n",
       "      <td>114615</td>\n",
       "      <td>2006</td>\n",
       "    </tr>\n",
       "    <tr>\n",
       "      <th>3</th>\n",
       "      <td>China</td>\n",
       "      <td>74020</td>\n",
       "      <td>2015</td>\n",
       "    </tr>\n",
       "    <tr>\n",
       "      <th>4</th>\n",
       "      <td>Somalia</td>\n",
       "      <td>72546</td>\n",
       "      <td>2006</td>\n",
       "    </tr>\n",
       "  </tbody>\n",
       "</table>\n",
       "</div>"
      ],
      "text/plain": [
       "  Country or territory of origin_x  Total Refugees  Year\n",
       "0               Russian Federation          245238  1994\n",
       "1                         Viet Nam          211376  1994\n",
       "2           Bosnia and Herzegovina          114615  2006\n",
       "3                            China           74020  2015\n",
       "4                          Somalia           72546  2006"
      ]
     },
     "execution_count": 52,
     "metadata": {},
     "output_type": "execute_result"
    }
   ],
   "source": [
    "df_map.head()"
   ]
  },
  {
   "cell_type": "code",
   "execution_count": 61,
   "metadata": {},
   "outputs": [
    {
     "data": {
      "application/vnd.plotly.v1+json": {
       "config": {
        "linkText": "Export to plot.ly",
        "plotlyServerURL": "https://plot.ly",
        "showLink": false
       },
       "data": [
        {
         "colorbar": {
          "title": {
           "text": "Number of Refugees"
          }
         },
         "colorscale": [
          [
           0,
           "rgb(31,120,180)"
          ],
          [
           0.25,
           "rgb(178,223,138)"
          ],
          [
           0.5,
           "rgb(51,160,44)"
          ],
          [
           0.85,
           "rgb(251,154,153)"
          ],
          [
           1,
           "rgb(227,26,28)"
          ]
         ],
         "locationmode": "country names",
         "locations": [
          "Russian Federation",
          "Viet Nam",
          "Bosnia and Herzegovina",
          "China",
          "Somalia",
          "Lao People's Dem. Rep.",
          "Cambodia",
          "Ukraine",
          "Islamic Rep. of Iran",
          "Liberia",
          "Cuba",
          "Sudan",
          "Colombia",
          "Haiti",
          "Iraq",
          "Ethiopia",
          "Poland",
          "Serbia (and Kosovo: S/RES/1244 (1999))",
          "Romania",
          "Nicaragua"
         ],
         "marker": {
          "line": {
           "color": "rgb(255,255,255)",
           "width": 2
          }
         },
         "text": [
          "Year: 1994",
          "Year: 1994",
          "Year: 2006",
          "Year: 2015",
          "Year: 2006",
          "Year: 1990",
          "Year: 1988",
          "Year: 2006",
          "Year: 1988",
          "Year: 2006",
          "Year: 2006",
          "Year: 2006",
          "Year: 2009",
          "Year: 2012",
          "Year: 1997",
          "Year: 2006",
          "Year: 1988",
          "Year: 2006",
          "Year: 1991",
          "Year: 1990"
         ],
         "type": "choropleth",
         "uid": "c1f2ba8b-8c2f-41d1-a511-d4ade9284e63",
         "z": [
          245238,
          211376,
          114615,
          74020,
          72546,
          64245,
          53081,
          43607,
          37955,
          33992,
          29400,
          28123,
          27003,
          26849,
          25384,
          24853,
          21186,
          19116,
          18599,
          15691
         ]
        }
       ],
       "layout": {
        "geo": {
         "center": {
          "lat": 9,
          "lon": 38
         },
         "coastlinecolor": "rgb(255, 255, 255)",
         "countrycolor": "rgb(255, 255, 255)",
         "landcolor": "rgb(229, 229, 229)",
         "lataxis": {
          "range": [
           -40,
           90
          ]
         },
         "lonaxis": {
          "dtick": 20,
          "range": [
           -140,
           135
          ],
          "showgrid": true
         },
         "projection": {
          "type": "equirectangular"
         },
         "showcoastlines": true,
         "showframe": false,
         "showland": true
        },
        "title": {
         "text": "Largest Number of Refugees in USA since 1975 by Country of Origin"
        }
       }
      },
      "text/html": [
       "<div id=\"f3461768-6447-4b55-a17f-7b9de08d40f3\" style=\"height: 525px; width: 100%;\" class=\"plotly-graph-div\"></div><script type=\"text/javascript\">require([\"plotly\"], function(Plotly) { window.PLOTLYENV=window.PLOTLYENV || {};window.PLOTLYENV.BASE_URL=\"https://plot.ly\";\n",
       "if (document.getElementById(\"f3461768-6447-4b55-a17f-7b9de08d40f3\")) {\n",
       "    Plotly.newPlot(\"f3461768-6447-4b55-a17f-7b9de08d40f3\", [{\"colorbar\": {\"title\": {\"text\": \"Number of Refugees\"}}, \"colorscale\": [[0, \"rgb(31,120,180)\"], [0.25, \"rgb(178,223,138)\"], [0.5, \"rgb(51,160,44)\"], [0.85, \"rgb(251,154,153)\"], [1, \"rgb(227,26,28)\"]], \"locationmode\": \"country names\", \"locations\": [\"Russian Federation\", \"Viet Nam\", \"Bosnia and Herzegovina\", \"China\", \"Somalia\", \"Lao People's Dem. Rep.\", \"Cambodia\", \"Ukraine\", \"Islamic Rep. of Iran\", \"Liberia\", \"Cuba\", \"Sudan\", \"Colombia\", \"Haiti\", \"Iraq\", \"Ethiopia\", \"Poland\", \"Serbia (and Kosovo: S/RES/1244 (1999))\", \"Romania\", \"Nicaragua\"], \"marker\": {\"line\": {\"color\": \"rgb(255,255,255)\", \"width\": 2}}, \"text\": [\"Year: 1994\", \"Year: 1994\", \"Year: 2006\", \"Year: 2015\", \"Year: 2006\", \"Year: 1990\", \"Year: 1988\", \"Year: 2006\", \"Year: 1988\", \"Year: 2006\", \"Year: 2006\", \"Year: 2006\", \"Year: 2009\", \"Year: 2012\", \"Year: 1997\", \"Year: 2006\", \"Year: 1988\", \"Year: 2006\", \"Year: 1991\", \"Year: 1990\"], \"z\": [245238, 211376, 114615, 74020, 72546, 64245, 53081, 43607, 37955, 33992, 29400, 28123, 27003, 26849, 25384, 24853, 21186, 19116, 18599, 15691], \"type\": \"choropleth\", \"uid\": \"c1f2ba8b-8c2f-41d1-a511-d4ade9284e63\"}], {\"geo\": {\"center\": {\"lat\": 9, \"lon\": 38}, \"coastlinecolor\": \"rgb(255, 255, 255)\", \"countrycolor\": \"rgb(255, 255, 255)\", \"landcolor\": \"rgb(229, 229, 229)\", \"lataxis\": {\"range\": [-40, 90]}, \"lonaxis\": {\"dtick\": 20, \"range\": [-140, 135], \"showgrid\": true}, \"projection\": {\"type\": \"equirectangular\"}, \"showcoastlines\": true, \"showframe\": false, \"showland\": true}, \"title\": {\"text\": \"Largest Number of Refugees in USA since 1975 by Country of Origin\"}}, {\"showLink\": false, \"linkText\": \"Export to plot.ly\", \"plotlyServerURL\": \"https://plot.ly\"}); \n",
       "}\n",
       "});</script><script type=\"text/javascript\">window.addEventListener(\"resize\", function(){if (document.getElementById(\"f3461768-6447-4b55-a17f-7b9de08d40f3\")) {window._Plotly.Plots.resize(document.getElementById(\"f3461768-6447-4b55-a17f-7b9de08d40f3\"));};})</script>"
      ],
      "text/vnd.plotly.v1+html": [
       "<div id=\"f3461768-6447-4b55-a17f-7b9de08d40f3\" style=\"height: 525px; width: 100%;\" class=\"plotly-graph-div\"></div><script type=\"text/javascript\">require([\"plotly\"], function(Plotly) { window.PLOTLYENV=window.PLOTLYENV || {};window.PLOTLYENV.BASE_URL=\"https://plot.ly\";\n",
       "if (document.getElementById(\"f3461768-6447-4b55-a17f-7b9de08d40f3\")) {\n",
       "    Plotly.newPlot(\"f3461768-6447-4b55-a17f-7b9de08d40f3\", [{\"colorbar\": {\"title\": {\"text\": \"Number of Refugees\"}}, \"colorscale\": [[0, \"rgb(31,120,180)\"], [0.25, \"rgb(178,223,138)\"], [0.5, \"rgb(51,160,44)\"], [0.85, \"rgb(251,154,153)\"], [1, \"rgb(227,26,28)\"]], \"locationmode\": \"country names\", \"locations\": [\"Russian Federation\", \"Viet Nam\", \"Bosnia and Herzegovina\", \"China\", \"Somalia\", \"Lao People's Dem. Rep.\", \"Cambodia\", \"Ukraine\", \"Islamic Rep. of Iran\", \"Liberia\", \"Cuba\", \"Sudan\", \"Colombia\", \"Haiti\", \"Iraq\", \"Ethiopia\", \"Poland\", \"Serbia (and Kosovo: S/RES/1244 (1999))\", \"Romania\", \"Nicaragua\"], \"marker\": {\"line\": {\"color\": \"rgb(255,255,255)\", \"width\": 2}}, \"text\": [\"Year: 1994\", \"Year: 1994\", \"Year: 2006\", \"Year: 2015\", \"Year: 2006\", \"Year: 1990\", \"Year: 1988\", \"Year: 2006\", \"Year: 1988\", \"Year: 2006\", \"Year: 2006\", \"Year: 2006\", \"Year: 2009\", \"Year: 2012\", \"Year: 1997\", \"Year: 2006\", \"Year: 1988\", \"Year: 2006\", \"Year: 1991\", \"Year: 1990\"], \"z\": [245238, 211376, 114615, 74020, 72546, 64245, 53081, 43607, 37955, 33992, 29400, 28123, 27003, 26849, 25384, 24853, 21186, 19116, 18599, 15691], \"type\": \"choropleth\", \"uid\": \"c1f2ba8b-8c2f-41d1-a511-d4ade9284e63\"}], {\"geo\": {\"center\": {\"lat\": 9, \"lon\": 38}, \"coastlinecolor\": \"rgb(255, 255, 255)\", \"countrycolor\": \"rgb(255, 255, 255)\", \"landcolor\": \"rgb(229, 229, 229)\", \"lataxis\": {\"range\": [-40, 90]}, \"lonaxis\": {\"dtick\": 20, \"range\": [-140, 135], \"showgrid\": true}, \"projection\": {\"type\": \"equirectangular\"}, \"showcoastlines\": true, \"showframe\": false, \"showland\": true}, \"title\": {\"text\": \"Largest Number of Refugees in USA since 1975 by Country of Origin\"}}, {\"showLink\": false, \"linkText\": \"Export to plot.ly\", \"plotlyServerURL\": \"https://plot.ly\"}); \n",
       "}\n",
       "});</script><script type=\"text/javascript\">window.addEventListener(\"resize\", function(){if (document.getElementById(\"f3461768-6447-4b55-a17f-7b9de08d40f3\")) {window._Plotly.Plots.resize(document.getElementById(\"f3461768-6447-4b55-a17f-7b9de08d40f3\"));};})</script>"
      ]
     },
     "metadata": {},
     "output_type": "display_data"
    }
   ],
   "source": [
    "colorscale=[[0, 'rgb(31,120,180)'], [0.25, 'rgb(178,223,138)'], \n",
    "            [0.50, 'rgb(51,160,44)'], [0.85, 'rgb(251,154,153)'], [1, 'rgb(227,26,28)']]\n",
    "\n",
    "data1 = [go.Choropleth(\n",
    "    colorscale = colorscale,\n",
    "    locations = df_map['Country or territory of origin_x'],\n",
    "    z = df_map['Total Refugees'],\n",
    "    locationmode = 'country names',\n",
    "    text = \"Year: \" + (df_map['Year'].astype(str)),\n",
    "    marker = go.choropleth.Marker(\n",
    "        line = go.choropleth.marker.Line(\n",
    "            color = 'rgb(255,255,255)',\n",
    "            width = 2\n",
    "        )),\n",
    "    colorbar = go.choropleth.ColorBar(\n",
    "        title = \"Number of Refugees\")\n",
    ")]\n",
    "\n",
    "\n",
    "layout = go.Layout(\n",
    "    title = go.layout.Title(\n",
    "        text = 'Largest Number of Refugees in USA since 1975 by Country of Origin'\n",
    "    ),\n",
    "    geo = go.layout.Geo(\n",
    "        showframe = False,\n",
    "        center = dict(lon=38,lat=9),\n",
    "        showcoastlines = True,\n",
    "        showland = True,\n",
    "        landcolor = \"rgb(229, 229, 229)\",\n",
    "        countrycolor = \"rgb(255, 255, 255)\" ,\n",
    "        coastlinecolor = \"rgb(255, 255, 255)\",\n",
    "        projection = go.layout.geo.Projection(\n",
    "            type = 'equirectangular'\n",
    "),\n",
    "            lataxis = go.layout.geo.Lataxis(\n",
    "            range = [-40, 90],\n",
    "        ),\n",
    "        lonaxis = go.layout.geo.Lonaxis(\n",
    "            range = [-140, 135],\n",
    "            showgrid = True,\n",
    "            dtick = 20\n",
    "        ),\n",
    "    )\n",
    ")\n",
    "\n",
    "fig = go.Figure(data = data1 , layout = layout)\n",
    "iplot(fig, filename = 'Refugees in USA')"
   ]
  },
  {
   "cell_type": "markdown",
   "metadata": {},
   "source": [
    "# Countries with largest number of refugees residing in the US in 2016"
   ]
  },
  {
   "cell_type": "code",
   "execution_count": 54,
   "metadata": {},
   "outputs": [],
   "source": [
    "df_map2016 = usa[usa['Year'] == 2016].head(20)"
   ]
  },
  {
   "cell_type": "code",
   "execution_count": 55,
   "metadata": {},
   "outputs": [],
   "source": [
    "df_map2016 = df_map2016.replace(['Islamic Rep. of Iran','Venezuela (Bolivarian Republic of)',\n",
    "                    'Syrian Arab Rep.', 'Russian Federation'], ['Iran','Venezuela', \"Syria\", 'Russia'])\n"
   ]
  },
  {
   "cell_type": "code",
   "execution_count": 62,
   "metadata": {},
   "outputs": [
    {
     "data": {
      "text/html": [
       "<div>\n",
       "<style scoped>\n",
       "    .dataframe tbody tr th:only-of-type {\n",
       "        vertical-align: middle;\n",
       "    }\n",
       "\n",
       "    .dataframe tbody tr th {\n",
       "        vertical-align: top;\n",
       "    }\n",
       "\n",
       "    .dataframe thead th {\n",
       "        text-align: right;\n",
       "    }\n",
       "</style>\n",
       "<table border=\"1\" class=\"dataframe\">\n",
       "  <thead>\n",
       "    <tr style=\"text-align: right;\">\n",
       "      <th></th>\n",
       "      <th>Country</th>\n",
       "      <th>1975</th>\n",
       "      <th>1976</th>\n",
       "      <th>1977</th>\n",
       "      <th>1978</th>\n",
       "      <th>1979</th>\n",
       "      <th>1980</th>\n",
       "      <th>1981</th>\n",
       "      <th>1982</th>\n",
       "      <th>1983</th>\n",
       "      <th>...</th>\n",
       "      <th>2007</th>\n",
       "      <th>2008</th>\n",
       "      <th>2009</th>\n",
       "      <th>2010</th>\n",
       "      <th>2011</th>\n",
       "      <th>2012</th>\n",
       "      <th>2013</th>\n",
       "      <th>2014</th>\n",
       "      <th>2015</th>\n",
       "      <th>2016</th>\n",
       "    </tr>\n",
       "  </thead>\n",
       "  <tbody>\n",
       "    <tr>\n",
       "      <th>0</th>\n",
       "      <td>Aruba</td>\n",
       "      <td>60657.0</td>\n",
       "      <td>60586.0</td>\n",
       "      <td>60366.0</td>\n",
       "      <td>60103.0</td>\n",
       "      <td>59980.0</td>\n",
       "      <td>60096.0</td>\n",
       "      <td>60567.0</td>\n",
       "      <td>61345.0</td>\n",
       "      <td>62201.0</td>\n",
       "      <td>...</td>\n",
       "      <td>101220.0</td>\n",
       "      <td>101353.0</td>\n",
       "      <td>101453.0</td>\n",
       "      <td>101669.0</td>\n",
       "      <td>102053.0</td>\n",
       "      <td>102577.0</td>\n",
       "      <td>103187.0</td>\n",
       "      <td>103795.0</td>\n",
       "      <td>104341.0</td>\n",
       "      <td>104822.0</td>\n",
       "    </tr>\n",
       "    <tr>\n",
       "      <th>1</th>\n",
       "      <td>Afghanistan</td>\n",
       "      <td>12590286.0</td>\n",
       "      <td>12840299.0</td>\n",
       "      <td>13067538.0</td>\n",
       "      <td>13237734.0</td>\n",
       "      <td>13306695.0</td>\n",
       "      <td>13248370.0</td>\n",
       "      <td>13053954.0</td>\n",
       "      <td>12749645.0</td>\n",
       "      <td>12389269.0</td>\n",
       "      <td>...</td>\n",
       "      <td>26616792.0</td>\n",
       "      <td>27294031.0</td>\n",
       "      <td>28004331.0</td>\n",
       "      <td>28803167.0</td>\n",
       "      <td>29708599.0</td>\n",
       "      <td>30696958.0</td>\n",
       "      <td>31731688.0</td>\n",
       "      <td>32758020.0</td>\n",
       "      <td>33736494.0</td>\n",
       "      <td>34656032.0</td>\n",
       "    </tr>\n",
       "    <tr>\n",
       "      <th>2</th>\n",
       "      <td>Angola</td>\n",
       "      <td>7682479.0</td>\n",
       "      <td>7900997.0</td>\n",
       "      <td>8130988.0</td>\n",
       "      <td>8376147.0</td>\n",
       "      <td>8641521.0</td>\n",
       "      <td>8929900.0</td>\n",
       "      <td>9244507.0</td>\n",
       "      <td>9582156.0</td>\n",
       "      <td>9931562.0</td>\n",
       "      <td>...</td>\n",
       "      <td>20997687.0</td>\n",
       "      <td>21759420.0</td>\n",
       "      <td>22549547.0</td>\n",
       "      <td>23369131.0</td>\n",
       "      <td>24218565.0</td>\n",
       "      <td>25096150.0</td>\n",
       "      <td>25998340.0</td>\n",
       "      <td>26920466.0</td>\n",
       "      <td>27859305.0</td>\n",
       "      <td>28813463.0</td>\n",
       "    </tr>\n",
       "    <tr>\n",
       "      <th>3</th>\n",
       "      <td>Albania</td>\n",
       "      <td>2404831.0</td>\n",
       "      <td>2458526.0</td>\n",
       "      <td>2513546.0</td>\n",
       "      <td>2566266.0</td>\n",
       "      <td>2617832.0</td>\n",
       "      <td>2671997.0</td>\n",
       "      <td>2726056.0</td>\n",
       "      <td>2784278.0</td>\n",
       "      <td>2843960.0</td>\n",
       "      <td>...</td>\n",
       "      <td>2970017.0</td>\n",
       "      <td>2947314.0</td>\n",
       "      <td>2927519.0</td>\n",
       "      <td>2913021.0</td>\n",
       "      <td>2905195.0</td>\n",
       "      <td>2900401.0</td>\n",
       "      <td>2895092.0</td>\n",
       "      <td>2889104.0</td>\n",
       "      <td>2880703.0</td>\n",
       "      <td>2876101.0</td>\n",
       "    </tr>\n",
       "    <tr>\n",
       "      <th>4</th>\n",
       "      <td>Andorra</td>\n",
       "      <td>30705.0</td>\n",
       "      <td>31777.0</td>\n",
       "      <td>32771.0</td>\n",
       "      <td>33737.0</td>\n",
       "      <td>34818.0</td>\n",
       "      <td>36067.0</td>\n",
       "      <td>37500.0</td>\n",
       "      <td>39114.0</td>\n",
       "      <td>40867.0</td>\n",
       "      <td>...</td>\n",
       "      <td>82683.0</td>\n",
       "      <td>83861.0</td>\n",
       "      <td>84462.0</td>\n",
       "      <td>84449.0</td>\n",
       "      <td>83751.0</td>\n",
       "      <td>82431.0</td>\n",
       "      <td>80788.0</td>\n",
       "      <td>79223.0</td>\n",
       "      <td>78014.0</td>\n",
       "      <td>77281.0</td>\n",
       "    </tr>\n",
       "  </tbody>\n",
       "</table>\n",
       "<p>5 rows × 43 columns</p>\n",
       "</div>"
      ],
      "text/plain": [
       "       Country        1975        1976        1977        1978        1979  \\\n",
       "0        Aruba     60657.0     60586.0     60366.0     60103.0     59980.0   \n",
       "1  Afghanistan  12590286.0  12840299.0  13067538.0  13237734.0  13306695.0   \n",
       "2       Angola   7682479.0   7900997.0   8130988.0   8376147.0   8641521.0   \n",
       "3      Albania   2404831.0   2458526.0   2513546.0   2566266.0   2617832.0   \n",
       "4      Andorra     30705.0     31777.0     32771.0     33737.0     34818.0   \n",
       "\n",
       "         1980        1981        1982        1983     ...            2007  \\\n",
       "0     60096.0     60567.0     61345.0     62201.0     ...        101220.0   \n",
       "1  13248370.0  13053954.0  12749645.0  12389269.0     ...      26616792.0   \n",
       "2   8929900.0   9244507.0   9582156.0   9931562.0     ...      20997687.0   \n",
       "3   2671997.0   2726056.0   2784278.0   2843960.0     ...       2970017.0   \n",
       "4     36067.0     37500.0     39114.0     40867.0     ...         82683.0   \n",
       "\n",
       "         2008        2009        2010        2011        2012        2013  \\\n",
       "0    101353.0    101453.0    101669.0    102053.0    102577.0    103187.0   \n",
       "1  27294031.0  28004331.0  28803167.0  29708599.0  30696958.0  31731688.0   \n",
       "2  21759420.0  22549547.0  23369131.0  24218565.0  25096150.0  25998340.0   \n",
       "3   2947314.0   2927519.0   2913021.0   2905195.0   2900401.0   2895092.0   \n",
       "4     83861.0     84462.0     84449.0     83751.0     82431.0     80788.0   \n",
       "\n",
       "         2014        2015        2016  \n",
       "0    103795.0    104341.0    104822.0  \n",
       "1  32758020.0  33736494.0  34656032.0  \n",
       "2  26920466.0  27859305.0  28813463.0  \n",
       "3   2889104.0   2880703.0   2876101.0  \n",
       "4     79223.0     78014.0     77281.0  \n",
       "\n",
       "[5 rows x 43 columns]"
      ]
     },
     "execution_count": 62,
     "metadata": {},
     "output_type": "execute_result"
    }
   ],
   "source": [
    "df_popul = pd.read_csv('population_by_country.csv')\n",
    "df_popul.head()"
   ]
  },
  {
   "cell_type": "code",
   "execution_count": 63,
   "metadata": {},
   "outputs": [
    {
     "data": {
      "text/html": [
       "<div>\n",
       "<style scoped>\n",
       "    .dataframe tbody tr th:only-of-type {\n",
       "        vertical-align: middle;\n",
       "    }\n",
       "\n",
       "    .dataframe tbody tr th {\n",
       "        vertical-align: top;\n",
       "    }\n",
       "\n",
       "    .dataframe thead th {\n",
       "        text-align: right;\n",
       "    }\n",
       "</style>\n",
       "<table border=\"1\" class=\"dataframe\">\n",
       "  <thead>\n",
       "    <tr style=\"text-align: right;\">\n",
       "      <th></th>\n",
       "      <th>index</th>\n",
       "      <th>Country or territory of asylum or residence</th>\n",
       "      <th>Country or territory of origin</th>\n",
       "      <th>Year</th>\n",
       "      <th>Total Refugees</th>\n",
       "    </tr>\n",
       "  </thead>\n",
       "  <tbody>\n",
       "    <tr>\n",
       "      <th>30</th>\n",
       "      <td>5123</td>\n",
       "      <td>United States</td>\n",
       "      <td>China</td>\n",
       "      <td>2016</td>\n",
       "      <td>72507</td>\n",
       "    </tr>\n",
       "    <tr>\n",
       "      <th>136</th>\n",
       "      <td>5161</td>\n",
       "      <td>United States</td>\n",
       "      <td>Haiti</td>\n",
       "      <td>2016</td>\n",
       "      <td>18484</td>\n",
       "    </tr>\n",
       "    <tr>\n",
       "      <th>182</th>\n",
       "      <td>5141</td>\n",
       "      <td>United States</td>\n",
       "      <td>El Salvador</td>\n",
       "      <td>2016</td>\n",
       "      <td>14331</td>\n",
       "    </tr>\n",
       "    <tr>\n",
       "      <th>217</th>\n",
       "      <td>5157</td>\n",
       "      <td>United States</td>\n",
       "      <td>Guatemala</td>\n",
       "      <td>2016</td>\n",
       "      <td>11328</td>\n",
       "    </tr>\n",
       "    <tr>\n",
       "      <th>220</th>\n",
       "      <td>5140</td>\n",
       "      <td>United States</td>\n",
       "      <td>Egypt</td>\n",
       "      <td>2016</td>\n",
       "      <td>11220</td>\n",
       "    </tr>\n",
       "    <tr>\n",
       "      <th>243</th>\n",
       "      <td>5145</td>\n",
       "      <td>United States</td>\n",
       "      <td>Ethiopia</td>\n",
       "      <td>2016</td>\n",
       "      <td>10216</td>\n",
       "    </tr>\n",
       "    <tr>\n",
       "      <th>304</th>\n",
       "      <td>5162</td>\n",
       "      <td>United States</td>\n",
       "      <td>Honduras</td>\n",
       "      <td>2016</td>\n",
       "      <td>7128</td>\n",
       "    </tr>\n",
       "    <tr>\n",
       "      <th>316</th>\n",
       "      <td>5203</td>\n",
       "      <td>United States</td>\n",
       "      <td>Nepal</td>\n",
       "      <td>2016</td>\n",
       "      <td>6784</td>\n",
       "    </tr>\n",
       "    <tr>\n",
       "      <th>334</th>\n",
       "      <td>5249</td>\n",
       "      <td>United States</td>\n",
       "      <td>Syria</td>\n",
       "      <td>2016</td>\n",
       "      <td>6444</td>\n",
       "    </tr>\n",
       "    <tr>\n",
       "      <th>350</th>\n",
       "      <td>5195</td>\n",
       "      <td>United States</td>\n",
       "      <td>Mexico</td>\n",
       "      <td>2016</td>\n",
       "      <td>6161</td>\n",
       "    </tr>\n",
       "    <tr>\n",
       "      <th>352</th>\n",
       "      <td>5167</td>\n",
       "      <td>United States</td>\n",
       "      <td>Iraq</td>\n",
       "      <td>2016</td>\n",
       "      <td>6082</td>\n",
       "    </tr>\n",
       "    <tr>\n",
       "      <th>362</th>\n",
       "      <td>5124</td>\n",
       "      <td>United States</td>\n",
       "      <td>Colombia</td>\n",
       "      <td>2016</td>\n",
       "      <td>5803</td>\n",
       "    </tr>\n",
       "    <tr>\n",
       "      <th>378</th>\n",
       "      <td>5267</td>\n",
       "      <td>United States</td>\n",
       "      <td>Venezuela</td>\n",
       "      <td>2016</td>\n",
       "      <td>5519</td>\n",
       "    </tr>\n",
       "    <tr>\n",
       "      <th>381</th>\n",
       "      <td>5224</td>\n",
       "      <td>United States</td>\n",
       "      <td>Russia</td>\n",
       "      <td>2016</td>\n",
       "      <td>5503</td>\n",
       "    </tr>\n",
       "    <tr>\n",
       "      <th>388</th>\n",
       "      <td>5169</td>\n",
       "      <td>United States</td>\n",
       "      <td>Iran</td>\n",
       "      <td>2016</td>\n",
       "      <td>5400</td>\n",
       "    </tr>\n",
       "    <tr>\n",
       "      <th>460</th>\n",
       "      <td>5165</td>\n",
       "      <td>United States</td>\n",
       "      <td>India</td>\n",
       "      <td>2016</td>\n",
       "      <td>4515</td>\n",
       "    </tr>\n",
       "    <tr>\n",
       "      <th>466</th>\n",
       "      <td>5143</td>\n",
       "      <td>United States</td>\n",
       "      <td>Eritrea</td>\n",
       "      <td>2016</td>\n",
       "      <td>4480</td>\n",
       "    </tr>\n",
       "    <tr>\n",
       "      <th>485</th>\n",
       "      <td>5117</td>\n",
       "      <td>United States</td>\n",
       "      <td>Cameroon</td>\n",
       "      <td>2016</td>\n",
       "      <td>4085</td>\n",
       "    </tr>\n",
       "    <tr>\n",
       "      <th>558</th>\n",
       "      <td>5212</td>\n",
       "      <td>United States</td>\n",
       "      <td>Pakistan</td>\n",
       "      <td>2016</td>\n",
       "      <td>3118</td>\n",
       "    </tr>\n",
       "    <tr>\n",
       "      <th>625</th>\n",
       "      <td>5166</td>\n",
       "      <td>United States</td>\n",
       "      <td>Indonesia</td>\n",
       "      <td>2016</td>\n",
       "      <td>2524</td>\n",
       "    </tr>\n",
       "  </tbody>\n",
       "</table>\n",
       "</div>"
      ],
      "text/plain": [
       "     index Country or territory of asylum or residence  \\\n",
       "30    5123                               United States   \n",
       "136   5161                               United States   \n",
       "182   5141                               United States   \n",
       "217   5157                               United States   \n",
       "220   5140                               United States   \n",
       "243   5145                               United States   \n",
       "304   5162                               United States   \n",
       "316   5203                               United States   \n",
       "334   5249                               United States   \n",
       "350   5195                               United States   \n",
       "352   5167                               United States   \n",
       "362   5124                               United States   \n",
       "378   5267                               United States   \n",
       "381   5224                               United States   \n",
       "388   5169                               United States   \n",
       "460   5165                               United States   \n",
       "466   5143                               United States   \n",
       "485   5117                               United States   \n",
       "558   5212                               United States   \n",
       "625   5166                               United States   \n",
       "\n",
       "    Country or territory of origin  Year  Total Refugees  \n",
       "30                           China  2016           72507  \n",
       "136                          Haiti  2016           18484  \n",
       "182                    El Salvador  2016           14331  \n",
       "217                      Guatemala  2016           11328  \n",
       "220                          Egypt  2016           11220  \n",
       "243                       Ethiopia  2016           10216  \n",
       "304                       Honduras  2016            7128  \n",
       "316                          Nepal  2016            6784  \n",
       "334                          Syria  2016            6444  \n",
       "350                         Mexico  2016            6161  \n",
       "352                           Iraq  2016            6082  \n",
       "362                       Colombia  2016            5803  \n",
       "378                      Venezuela  2016            5519  \n",
       "381                         Russia  2016            5503  \n",
       "388                           Iran  2016            5400  \n",
       "460                          India  2016            4515  \n",
       "466                        Eritrea  2016            4480  \n",
       "485                       Cameroon  2016            4085  \n",
       "558                       Pakistan  2016            3118  \n",
       "625                      Indonesia  2016            2524  "
      ]
     },
     "execution_count": 63,
     "metadata": {},
     "output_type": "execute_result"
    }
   ],
   "source": [
    "df_map2016"
   ]
  },
  {
   "cell_type": "code",
   "execution_count": 57,
   "metadata": {
    "scrolled": false
   },
   "outputs": [
    {
     "data": {
      "application/vnd.plotly.v1+json": {
       "config": {
        "linkText": "Export to plot.ly",
        "plotlyServerURL": "https://plot.ly",
        "showLink": false
       },
       "data": [
        {
         "mode": "text",
         "text": [
          "72507",
          "18484",
          "14331",
          "11328",
          "11220",
          "10216",
          "7128",
          "6784",
          "6444",
          "6161",
          "6082",
          "5803",
          "5519",
          "5503",
          "5400",
          "4515",
          "4480",
          "4085",
          "3118",
          "2524"
         ],
         "type": "scatter",
         "uid": "90fc9192-5db6-4ac0-9612-972cd28d1e0f"
        }
       ],
       "layout": {
        "annotations": [
         {
          "showarrow": false,
          "text": "China",
          "x": 21.497457851364633,
          "y": 39.84295150069787
         },
         {
          "showarrow": false,
          "text": "Haiti",
          "x": 21.497457851364633,
          "y": 89.84295150069788
         },
         {
          "showarrow": false,
          "text": "El Salvador",
          "x": 58.91408369571783,
          "y": 10.63444434313376
         },
         {
          "showarrow": false,
          "text": "Guatemala",
          "x": 87.41662584435319,
          "y": 10.63444434313376
         },
         {
          "showarrow": false,
          "text": "Egypt",
          "x": 54.19077492789692,
          "y": 33.10731840750657
         },
         {
          "showarrow": false,
          "text": "Ethiopia",
          "x": 75.58065356877871,
          "y": 33.10731840750657
         },
         {
          "showarrow": false,
          "text": "Honduras",
          "x": 92.88733649224642,
          "y": 33.10731840750657
         },
         {
          "showarrow": false,
          "text": "Nepal",
          "x": 51.31548828425673,
          "y": 54.57718978882582
         },
         {
          "showarrow": false,
          "text": "Syria",
          "x": 51.31548828425673,
          "y": 73.35736524276756
         },
         {
          "showarrow": false,
          "text": "Mexico",
          "x": 51.31548828425673,
          "y": 91.25304951831455
         },
         {
          "showarrow": false,
          "text": "Iraq",
          "x": 69.96393119873751,
          "y": 51.90230454595477
         },
         {
          "showarrow": false,
          "text": "Colombia",
          "x": 90.14590076584543,
          "y": 51.90230454595477
         },
         {
          "showarrow": false,
          "text": "Venezuela",
          "x": 66.41868722316262,
          "y": 68.4710249920582
         },
         {
          "showarrow": false,
          "text": "Russia",
          "x": 79.96427658917548,
          "y": 68.4710249920582
         },
         {
          "showarrow": false,
          "text": "Iran",
          "x": 93.36361979890496,
          "y": 68.4710249920582
         },
         {
          "showarrow": false,
          "text": "India",
          "x": 69.33250442182177,
          "y": 83.58371162075237
         },
         {
          "showarrow": false,
          "text": "Eritrea",
          "x": 69.33250442182177,
          "y": 94.54211711027611
         },
         {
          "showarrow": false,
          "text": "Cameroon",
          "x": 84.9755499152774,
          "y": 86.19806459831854
         },
         {
          "showarrow": false,
          "text": "Pakistan",
          "x": 95.46107592634773,
          "y": 86.19806459831854
         },
         {
          "showarrow": false,
          "text": "Indonesia",
          "x": 89.51447398892961,
          "y": 97.1564700878423
         }
        ],
        "height": 730,
        "hovermode": "closest",
        "shapes": [
         {
          "fillcolor": "rgb(117,107,177)",
          "line": {
           "width": 2
          },
          "type": "rect",
          "x0": 0,
          "x1": 42.994915702729266,
          "y0": 0,
          "y1": 79.68590300139574
         },
         {
          "fillcolor": "rgb(158,154,200)",
          "line": {
           "width": 2
          },
          "type": "rect",
          "x0": 0,
          "x1": 42.994915702729266,
          "y0": 79.68590300139574,
          "y1": 100
         },
         {
          "fillcolor": "rgb(188,189,220)",
          "line": {
           "width": 2
          },
          "type": "rect",
          "x0": 42.994915702729266,
          "x1": 74.83325168870638,
          "y0": 0,
          "y1": 21.26888868626752
         },
         {
          "fillcolor": "rgb(218,218,235)",
          "line": {
           "width": 2
          },
          "type": "rect",
          "x0": 74.83325168870638,
          "x1": 100,
          "y0": 0,
          "y1": 21.26888868626752
         },
         {
          "fillcolor": "rgb(242,240,247)",
          "line": {
           "width": 2
          },
          "type": "rect",
          "x0": 42.994915702729266,
          "x1": 65.38663415306456,
          "y0": 21.26888868626752,
          "y1": 44.94574812874562
         },
         {
          "fillcolor": "rgb(242,240,247)",
          "line": {
           "width": 2
          },
          "type": "rect",
          "x0": 65.38663415306456,
          "x1": 85.77467298449285,
          "y0": 21.26888868626752,
          "y1": 44.94574812874562
         },
         {
          "fillcolor": "rgb(242,240,247)",
          "line": {
           "width": 2
          },
          "type": "rect",
          "x0": 85.77467298449285,
          "x1": 99.99999999999999,
          "y0": 21.26888868626752,
          "y1": 44.94574812874562
         },
         {
          "fillcolor": "rgb(242,240,247)",
          "line": {
           "width": 2
          },
          "type": "rect",
          "x0": 42.994915702729266,
          "x1": 59.63606086578419,
          "y0": 44.94574812874562,
          "y1": 64.208631448906
         },
         {
          "fillcolor": "rgb(242,240,247)",
          "line": {
           "width": 2
          },
          "type": "rect",
          "x0": 42.994915702729266,
          "x1": 59.63606086578419,
          "y0": 64.208631448906,
          "y1": 82.50609903662911
         },
         {
          "fillcolor": "rgb(242,240,247)",
          "line": {
           "width": 2
          },
          "type": "rect",
          "x0": 42.994915702729266,
          "x1": 59.63606086578419,
          "y0": 82.50609903662911,
          "y1": 100
         },
         {
          "fillcolor": "rgb(242,240,247)",
          "line": {
           "width": 2
          },
          "type": "rect",
          "x0": 59.63606086578419,
          "x1": 80.29180153169085,
          "y0": 44.94574812874562,
          "y1": 58.85886096316392
         },
         {
          "fillcolor": "rgb(242,240,247)",
          "line": {
           "width": 2
          },
          "type": "rect",
          "x0": 80.29180153169085,
          "x1": 100.00000000000001,
          "y0": 44.94574812874562,
          "y1": 58.85886096316392
         },
         {
          "fillcolor": "rgb(242,240,247)",
          "line": {
           "width": 2
          },
          "type": "rect",
          "x0": 59.63606086578419,
          "x1": 73.20131358054104,
          "y0": 58.85886096316392,
          "y1": 78.0831890209525
         },
         {
          "fillcolor": "rgb(242,240,247)",
          "line": {
           "width": 2
          },
          "type": "rect",
          "x0": 73.20131358054104,
          "x1": 86.72723959780993,
          "y0": 58.85886096316392,
          "y1": 78.0831890209525
         },
         {
          "fillcolor": "rgb(242,240,247)",
          "line": {
           "width": 2
          },
          "type": "rect",
          "x0": 86.72723959780993,
          "x1": 100,
          "y0": 58.85886096316392,
          "y1": 78.0831890209525
         },
         {
          "fillcolor": "rgb(242,240,247)",
          "line": {
           "width": 2
          },
          "type": "rect",
          "x0": 59.63606086578419,
          "x1": 79.02894797785933,
          "y0": 78.0831890209525,
          "y1": 89.08423422055222
         },
         {
          "fillcolor": "rgb(242,240,247)",
          "line": {
           "width": 2
          },
          "type": "rect",
          "x0": 59.63606086578419,
          "x1": 79.02894797785933,
          "y0": 89.08423422055222,
          "y1": 100
         },
         {
          "fillcolor": "rgb(242,240,247)",
          "line": {
           "width": 2
          },
          "type": "rect",
          "x0": 79.02894797785933,
          "x1": 90.92215185269546,
          "y0": 78.0831890209525,
          "y1": 94.31294017568459
         },
         {
          "fillcolor": "rgb(242,240,247)",
          "line": {
           "width": 2
          },
          "type": "rect",
          "x0": 90.92215185269546,
          "x1": 100,
          "y0": 78.0831890209525,
          "y1": 94.31294017568459
         },
         {
          "fillcolor": "rgb(242,240,247)",
          "line": {
           "width": 2
          },
          "type": "rect",
          "x0": 79.02894797785933,
          "x1": 99.99999999999989,
          "y0": 94.31294017568459,
          "y1": 100.00000000000001
         }
        ],
        "title": {
         "text": "<b>Largest Number of Refugees in USA in 2016 by Country of Origin</b>"
        },
        "width": 730,
        "xaxis": {
         "visible": false
        },
        "yaxis": {
         "visible": false
        }
       }
      },
      "text/html": [
       "<div id=\"2a7f3c35-f1ba-4f47-bb29-6a36131e1ae4\" style=\"height: 730px; width: 730px;\" class=\"plotly-graph-div\"></div><script type=\"text/javascript\">require([\"plotly\"], function(Plotly) { window.PLOTLYENV=window.PLOTLYENV || {};window.PLOTLYENV.BASE_URL=\"https://plot.ly\";\n",
       "if (document.getElementById(\"2a7f3c35-f1ba-4f47-bb29-6a36131e1ae4\")) {\n",
       "    Plotly.newPlot(\"2a7f3c35-f1ba-4f47-bb29-6a36131e1ae4\", [{\"mode\": \"text\", \"text\": [\"72507\", \"18484\", \"14331\", \"11328\", \"11220\", \"10216\", \"7128\", \"6784\", \"6444\", \"6161\", \"6082\", \"5803\", \"5519\", \"5503\", \"5400\", \"4515\", \"4480\", \"4085\", \"3118\", \"2524\"], \"type\": \"scatter\", \"uid\": \"3efe722f-9abe-4f59-a2b7-184c4d7a3cb5\"}], {\"annotations\": [{\"showarrow\": false, \"text\": \"China\", \"x\": 21.497457851364633, \"y\": 39.84295150069787}, {\"showarrow\": false, \"text\": \"Haiti\", \"x\": 21.497457851364633, \"y\": 89.84295150069788}, {\"showarrow\": false, \"text\": \"El Salvador\", \"x\": 58.91408369571783, \"y\": 10.63444434313376}, {\"showarrow\": false, \"text\": \"Guatemala\", \"x\": 87.41662584435319, \"y\": 10.63444434313376}, {\"showarrow\": false, \"text\": \"Egypt\", \"x\": 54.19077492789692, \"y\": 33.10731840750657}, {\"showarrow\": false, \"text\": \"Ethiopia\", \"x\": 75.58065356877871, \"y\": 33.10731840750657}, {\"showarrow\": false, \"text\": \"Honduras\", \"x\": 92.88733649224642, \"y\": 33.10731840750657}, {\"showarrow\": false, \"text\": \"Nepal\", \"x\": 51.31548828425673, \"y\": 54.57718978882582}, {\"showarrow\": false, \"text\": \"Syria\", \"x\": 51.31548828425673, \"y\": 73.35736524276756}, {\"showarrow\": false, \"text\": \"Mexico\", \"x\": 51.31548828425673, \"y\": 91.25304951831455}, {\"showarrow\": false, \"text\": \"Iraq\", \"x\": 69.96393119873751, \"y\": 51.90230454595477}, {\"showarrow\": false, \"text\": \"Colombia\", \"x\": 90.14590076584543, \"y\": 51.90230454595477}, {\"showarrow\": false, \"text\": \"Venezuela\", \"x\": 66.41868722316262, \"y\": 68.4710249920582}, {\"showarrow\": false, \"text\": \"Russia\", \"x\": 79.96427658917548, \"y\": 68.4710249920582}, {\"showarrow\": false, \"text\": \"Iran\", \"x\": 93.36361979890496, \"y\": 68.4710249920582}, {\"showarrow\": false, \"text\": \"India\", \"x\": 69.33250442182177, \"y\": 83.58371162075237}, {\"showarrow\": false, \"text\": \"Eritrea\", \"x\": 69.33250442182177, \"y\": 94.54211711027611}, {\"showarrow\": false, \"text\": \"Cameroon\", \"x\": 84.9755499152774, \"y\": 86.19806459831854}, {\"showarrow\": false, \"text\": \"Pakistan\", \"x\": 95.46107592634773, \"y\": 86.19806459831854}, {\"showarrow\": false, \"text\": \"Indonesia\", \"x\": 89.51447398892961, \"y\": 97.1564700878423}], \"height\": 730, \"hovermode\": \"closest\", \"shapes\": [{\"fillcolor\": \"rgb(117,107,177)\", \"line\": {\"width\": 2}, \"type\": \"rect\", \"x0\": 0.0, \"x1\": 42.994915702729266, \"y0\": 0.0, \"y1\": 79.68590300139574}, {\"fillcolor\": \"rgb(158,154,200)\", \"line\": {\"width\": 2}, \"type\": \"rect\", \"x0\": 0.0, \"x1\": 42.994915702729266, \"y0\": 79.68590300139574, \"y1\": 100.0}, {\"fillcolor\": \"rgb(188,189,220)\", \"line\": {\"width\": 2}, \"type\": \"rect\", \"x0\": 42.994915702729266, \"x1\": 74.83325168870638, \"y0\": 0.0, \"y1\": 21.26888868626752}, {\"fillcolor\": \"rgb(218,218,235)\", \"line\": {\"width\": 2}, \"type\": \"rect\", \"x0\": 74.83325168870638, \"x1\": 100.0, \"y0\": 0.0, \"y1\": 21.26888868626752}, {\"fillcolor\": \"rgb(242,240,247)\", \"line\": {\"width\": 2}, \"type\": \"rect\", \"x0\": 42.994915702729266, \"x1\": 65.38663415306456, \"y0\": 21.26888868626752, \"y1\": 44.94574812874562}, {\"fillcolor\": \"rgb(242,240,247)\", \"line\": {\"width\": 2}, \"type\": \"rect\", \"x0\": 65.38663415306456, \"x1\": 85.77467298449285, \"y0\": 21.26888868626752, \"y1\": 44.94574812874562}, {\"fillcolor\": \"rgb(242,240,247)\", \"line\": {\"width\": 2}, \"type\": \"rect\", \"x0\": 85.77467298449285, \"x1\": 99.99999999999999, \"y0\": 21.26888868626752, \"y1\": 44.94574812874562}, {\"fillcolor\": \"rgb(242,240,247)\", \"line\": {\"width\": 2}, \"type\": \"rect\", \"x0\": 42.994915702729266, \"x1\": 59.63606086578419, \"y0\": 44.94574812874562, \"y1\": 64.208631448906}, {\"fillcolor\": \"rgb(242,240,247)\", \"line\": {\"width\": 2}, \"type\": \"rect\", \"x0\": 42.994915702729266, \"x1\": 59.63606086578419, \"y0\": 64.208631448906, \"y1\": 82.50609903662911}, {\"fillcolor\": \"rgb(242,240,247)\", \"line\": {\"width\": 2}, \"type\": \"rect\", \"x0\": 42.994915702729266, \"x1\": 59.63606086578419, \"y0\": 82.50609903662911, \"y1\": 100.0}, {\"fillcolor\": \"rgb(242,240,247)\", \"line\": {\"width\": 2}, \"type\": \"rect\", \"x0\": 59.63606086578419, \"x1\": 80.29180153169085, \"y0\": 44.94574812874562, \"y1\": 58.85886096316392}, {\"fillcolor\": \"rgb(242,240,247)\", \"line\": {\"width\": 2}, \"type\": \"rect\", \"x0\": 80.29180153169085, \"x1\": 100.00000000000001, \"y0\": 44.94574812874562, \"y1\": 58.85886096316392}, {\"fillcolor\": \"rgb(242,240,247)\", \"line\": {\"width\": 2}, \"type\": \"rect\", \"x0\": 59.63606086578419, \"x1\": 73.20131358054104, \"y0\": 58.85886096316392, \"y1\": 78.0831890209525}, {\"fillcolor\": \"rgb(242,240,247)\", \"line\": {\"width\": 2}, \"type\": \"rect\", \"x0\": 73.20131358054104, \"x1\": 86.72723959780993, \"y0\": 58.85886096316392, \"y1\": 78.0831890209525}, {\"fillcolor\": \"rgb(242,240,247)\", \"line\": {\"width\": 2}, \"type\": \"rect\", \"x0\": 86.72723959780993, \"x1\": 100.0, \"y0\": 58.85886096316392, \"y1\": 78.0831890209525}, {\"fillcolor\": \"rgb(242,240,247)\", \"line\": {\"width\": 2}, \"type\": \"rect\", \"x0\": 59.63606086578419, \"x1\": 79.02894797785933, \"y0\": 78.0831890209525, \"y1\": 89.08423422055222}, {\"fillcolor\": \"rgb(242,240,247)\", \"line\": {\"width\": 2}, \"type\": \"rect\", \"x0\": 59.63606086578419, \"x1\": 79.02894797785933, \"y0\": 89.08423422055222, \"y1\": 100.0}, {\"fillcolor\": \"rgb(242,240,247)\", \"line\": {\"width\": 2}, \"type\": \"rect\", \"x0\": 79.02894797785933, \"x1\": 90.92215185269546, \"y0\": 78.0831890209525, \"y1\": 94.31294017568459}, {\"fillcolor\": \"rgb(242,240,247)\", \"line\": {\"width\": 2}, \"type\": \"rect\", \"x0\": 90.92215185269546, \"x1\": 100.0, \"y0\": 78.0831890209525, \"y1\": 94.31294017568459}, {\"fillcolor\": \"rgb(242,240,247)\", \"line\": {\"width\": 2}, \"type\": \"rect\", \"x0\": 79.02894797785933, \"x1\": 99.99999999999989, \"y0\": 94.31294017568459, \"y1\": 100.00000000000001}], \"title\": {\"text\": \"<b>Largest Number of Refugees in USA in 2016 by Country of Origin</b>\"}, \"width\": 730, \"xaxis\": {\"visible\": false}, \"yaxis\": {\"visible\": false}}, {\"showLink\": false, \"linkText\": \"Export to plot.ly\", \"plotlyServerURL\": \"https://plot.ly\"}); \n",
       "}\n",
       "});</script>"
      ],
      "text/vnd.plotly.v1+html": [
       "<div id=\"2a7f3c35-f1ba-4f47-bb29-6a36131e1ae4\" style=\"height: 730px; width: 730px;\" class=\"plotly-graph-div\"></div><script type=\"text/javascript\">require([\"plotly\"], function(Plotly) { window.PLOTLYENV=window.PLOTLYENV || {};window.PLOTLYENV.BASE_URL=\"https://plot.ly\";\n",
       "if (document.getElementById(\"2a7f3c35-f1ba-4f47-bb29-6a36131e1ae4\")) {\n",
       "    Plotly.newPlot(\"2a7f3c35-f1ba-4f47-bb29-6a36131e1ae4\", [{\"mode\": \"text\", \"text\": [\"72507\", \"18484\", \"14331\", \"11328\", \"11220\", \"10216\", \"7128\", \"6784\", \"6444\", \"6161\", \"6082\", \"5803\", \"5519\", \"5503\", \"5400\", \"4515\", \"4480\", \"4085\", \"3118\", \"2524\"], \"type\": \"scatter\", \"uid\": \"3efe722f-9abe-4f59-a2b7-184c4d7a3cb5\"}], {\"annotations\": [{\"showarrow\": false, \"text\": \"China\", \"x\": 21.497457851364633, \"y\": 39.84295150069787}, {\"showarrow\": false, \"text\": \"Haiti\", \"x\": 21.497457851364633, \"y\": 89.84295150069788}, {\"showarrow\": false, \"text\": \"El Salvador\", \"x\": 58.91408369571783, \"y\": 10.63444434313376}, {\"showarrow\": false, \"text\": \"Guatemala\", \"x\": 87.41662584435319, \"y\": 10.63444434313376}, {\"showarrow\": false, \"text\": \"Egypt\", \"x\": 54.19077492789692, \"y\": 33.10731840750657}, {\"showarrow\": false, \"text\": \"Ethiopia\", \"x\": 75.58065356877871, \"y\": 33.10731840750657}, {\"showarrow\": false, \"text\": \"Honduras\", \"x\": 92.88733649224642, \"y\": 33.10731840750657}, {\"showarrow\": false, \"text\": \"Nepal\", \"x\": 51.31548828425673, \"y\": 54.57718978882582}, {\"showarrow\": false, \"text\": \"Syria\", \"x\": 51.31548828425673, \"y\": 73.35736524276756}, {\"showarrow\": false, \"text\": \"Mexico\", \"x\": 51.31548828425673, \"y\": 91.25304951831455}, {\"showarrow\": false, \"text\": \"Iraq\", \"x\": 69.96393119873751, \"y\": 51.90230454595477}, {\"showarrow\": false, \"text\": \"Colombia\", \"x\": 90.14590076584543, \"y\": 51.90230454595477}, {\"showarrow\": false, \"text\": \"Venezuela\", \"x\": 66.41868722316262, \"y\": 68.4710249920582}, {\"showarrow\": false, \"text\": \"Russia\", \"x\": 79.96427658917548, \"y\": 68.4710249920582}, {\"showarrow\": false, \"text\": \"Iran\", \"x\": 93.36361979890496, \"y\": 68.4710249920582}, {\"showarrow\": false, \"text\": \"India\", \"x\": 69.33250442182177, \"y\": 83.58371162075237}, {\"showarrow\": false, \"text\": \"Eritrea\", \"x\": 69.33250442182177, \"y\": 94.54211711027611}, {\"showarrow\": false, \"text\": \"Cameroon\", \"x\": 84.9755499152774, \"y\": 86.19806459831854}, {\"showarrow\": false, \"text\": \"Pakistan\", \"x\": 95.46107592634773, \"y\": 86.19806459831854}, {\"showarrow\": false, \"text\": \"Indonesia\", \"x\": 89.51447398892961, \"y\": 97.1564700878423}], \"height\": 730, \"hovermode\": \"closest\", \"shapes\": [{\"fillcolor\": \"rgb(117,107,177)\", \"line\": {\"width\": 2}, \"type\": \"rect\", \"x0\": 0.0, \"x1\": 42.994915702729266, \"y0\": 0.0, \"y1\": 79.68590300139574}, {\"fillcolor\": \"rgb(158,154,200)\", \"line\": {\"width\": 2}, \"type\": \"rect\", \"x0\": 0.0, \"x1\": 42.994915702729266, \"y0\": 79.68590300139574, \"y1\": 100.0}, {\"fillcolor\": \"rgb(188,189,220)\", \"line\": {\"width\": 2}, \"type\": \"rect\", \"x0\": 42.994915702729266, \"x1\": 74.83325168870638, \"y0\": 0.0, \"y1\": 21.26888868626752}, {\"fillcolor\": \"rgb(218,218,235)\", \"line\": {\"width\": 2}, \"type\": \"rect\", \"x0\": 74.83325168870638, \"x1\": 100.0, \"y0\": 0.0, \"y1\": 21.26888868626752}, {\"fillcolor\": \"rgb(242,240,247)\", \"line\": {\"width\": 2}, \"type\": \"rect\", \"x0\": 42.994915702729266, \"x1\": 65.38663415306456, \"y0\": 21.26888868626752, \"y1\": 44.94574812874562}, {\"fillcolor\": \"rgb(242,240,247)\", \"line\": {\"width\": 2}, \"type\": \"rect\", \"x0\": 65.38663415306456, \"x1\": 85.77467298449285, \"y0\": 21.26888868626752, \"y1\": 44.94574812874562}, {\"fillcolor\": \"rgb(242,240,247)\", \"line\": {\"width\": 2}, \"type\": \"rect\", \"x0\": 85.77467298449285, \"x1\": 99.99999999999999, \"y0\": 21.26888868626752, \"y1\": 44.94574812874562}, {\"fillcolor\": \"rgb(242,240,247)\", \"line\": {\"width\": 2}, \"type\": \"rect\", \"x0\": 42.994915702729266, \"x1\": 59.63606086578419, \"y0\": 44.94574812874562, \"y1\": 64.208631448906}, {\"fillcolor\": \"rgb(242,240,247)\", \"line\": {\"width\": 2}, \"type\": \"rect\", \"x0\": 42.994915702729266, \"x1\": 59.63606086578419, \"y0\": 64.208631448906, \"y1\": 82.50609903662911}, {\"fillcolor\": \"rgb(242,240,247)\", \"line\": {\"width\": 2}, \"type\": \"rect\", \"x0\": 42.994915702729266, \"x1\": 59.63606086578419, \"y0\": 82.50609903662911, \"y1\": 100.0}, {\"fillcolor\": \"rgb(242,240,247)\", \"line\": {\"width\": 2}, \"type\": \"rect\", \"x0\": 59.63606086578419, \"x1\": 80.29180153169085, \"y0\": 44.94574812874562, \"y1\": 58.85886096316392}, {\"fillcolor\": \"rgb(242,240,247)\", \"line\": {\"width\": 2}, \"type\": \"rect\", \"x0\": 80.29180153169085, \"x1\": 100.00000000000001, \"y0\": 44.94574812874562, \"y1\": 58.85886096316392}, {\"fillcolor\": \"rgb(242,240,247)\", \"line\": {\"width\": 2}, \"type\": \"rect\", \"x0\": 59.63606086578419, \"x1\": 73.20131358054104, \"y0\": 58.85886096316392, \"y1\": 78.0831890209525}, {\"fillcolor\": \"rgb(242,240,247)\", \"line\": {\"width\": 2}, \"type\": \"rect\", \"x0\": 73.20131358054104, \"x1\": 86.72723959780993, \"y0\": 58.85886096316392, \"y1\": 78.0831890209525}, {\"fillcolor\": \"rgb(242,240,247)\", \"line\": {\"width\": 2}, \"type\": \"rect\", \"x0\": 86.72723959780993, \"x1\": 100.0, \"y0\": 58.85886096316392, \"y1\": 78.0831890209525}, {\"fillcolor\": \"rgb(242,240,247)\", \"line\": {\"width\": 2}, \"type\": \"rect\", \"x0\": 59.63606086578419, \"x1\": 79.02894797785933, \"y0\": 78.0831890209525, \"y1\": 89.08423422055222}, {\"fillcolor\": \"rgb(242,240,247)\", \"line\": {\"width\": 2}, \"type\": \"rect\", \"x0\": 59.63606086578419, \"x1\": 79.02894797785933, \"y0\": 89.08423422055222, \"y1\": 100.0}, {\"fillcolor\": \"rgb(242,240,247)\", \"line\": {\"width\": 2}, \"type\": \"rect\", \"x0\": 79.02894797785933, \"x1\": 90.92215185269546, \"y0\": 78.0831890209525, \"y1\": 94.31294017568459}, {\"fillcolor\": \"rgb(242,240,247)\", \"line\": {\"width\": 2}, \"type\": \"rect\", \"x0\": 90.92215185269546, \"x1\": 100.0, \"y0\": 78.0831890209525, \"y1\": 94.31294017568459}, {\"fillcolor\": \"rgb(242,240,247)\", \"line\": {\"width\": 2}, \"type\": \"rect\", \"x0\": 79.02894797785933, \"x1\": 99.99999999999989, \"y0\": 94.31294017568459, \"y1\": 100.00000000000001}], \"title\": {\"text\": \"<b>Largest Number of Refugees in USA in 2016 by Country of Origin</b>\"}, \"width\": 730, \"xaxis\": {\"visible\": false}, \"yaxis\": {\"visible\": false}}, {\"showLink\": false, \"linkText\": \"Export to plot.ly\", \"plotlyServerURL\": \"https://plot.ly\"}); \n",
       "}\n",
       "});</script>"
      ]
     },
     "metadata": {},
     "output_type": "display_data"
    }
   ],
   "source": [
    "import plotly.plotly as py\n",
    "import plotly.graph_objs as go\n",
    "\n",
    "import squarify\n",
    "\n",
    "x = 0.\n",
    "y = 0.\n",
    "width = 100.\n",
    "height = 100.\n",
    "\n",
    "values = df_map2016['Total Refugees'].tolist()\n",
    "countries = df_map2016['Country or territory of origin'].tolist()\n",
    "\n",
    "normed = squarify.normalize_sizes(values, width, height)\n",
    "rects = squarify.squarify(normed, x, y, width, height)\n",
    "\n",
    "color_brewer = ['rgb(117,107,177)', 'rgb(158,154,200)', 'rgb(188,189,220)', 'rgb(218,218,235)',\n",
    "    'rgb(242,240,247)']\n",
    "\n",
    "shapes = []\n",
    "annotations = []\n",
    "counter = 0\n",
    "color_count = 0\n",
    "\n",
    "for r in rects:\n",
    "    shapes.append( \n",
    "        dict(\n",
    "            type = 'rect', \n",
    "            x0 = r['x'], \n",
    "            y0 = r['y'], \n",
    "            x1 = r['x']+r['dx'], \n",
    "            y1 = r['y']+r['dy'],\n",
    "            line = dict( width = 2 ),\n",
    "            fillcolor = color_brewer[color_count]\n",
    "        )\n",
    "    )\n",
    "        \n",
    "    color_count += 1\n",
    "    if color_count >= len(color_brewer):\n",
    "        color_count = 4\n",
    "        \n",
    "    annotations.append(\n",
    "        dict(\n",
    "            x = r['x']+(r['dx']/2),\n",
    "            y = r['y']+(r['dy']/2),\n",
    "            text = countries[counter],\n",
    "            showarrow = False\n",
    "        )\n",
    "    )\n",
    "    counter = counter + 1\n",
    "    if color_count >= len(color_brewer):\n",
    "        color_count = 4\n",
    "\n",
    "trace0 = go.Scatter(\n",
    "    text = [ v for v in values ], \n",
    "    mode = 'text',\n",
    ")\n",
    "        \n",
    "layout = go.Layout(\n",
    "    title = go.layout.Title(\n",
    "        text = '<b>Largest Number of Refugees in USA in 2016 by Country of Origin</b>'\n",
    "    ),\n",
    "\n",
    "    height=730, \n",
    "    width=730,\n",
    "    xaxis=dict(visible=False),\n",
    "    yaxis=dict(visible=False),\n",
    "    shapes=shapes,\n",
    "    \n",
    "    annotations=annotations,\n",
    "    hovermode='closest'\n",
    "\n",
    ")\n",
    "\n",
    "figure = dict(data=[trace0], layout=layout)\n",
    "iplot(figure, filename='treemap')"
   ]
  },
  {
   "cell_type": "code",
   "execution_count": null,
   "metadata": {},
   "outputs": [],
   "source": [
    "df_europe = pd.read_csv('europe_countries.csv', header=None, sep=';')"
   ]
  },
  {
   "cell_type": "code",
   "execution_count": null,
   "metadata": {},
   "outputs": [],
   "source": [
    "country_list = df_europe[0].tolist()"
   ]
  },
  {
   "cell_type": "code",
   "execution_count": null,
   "metadata": {},
   "outputs": [],
   "source": [
    "df_map2016"
   ]
  },
  {
   "cell_type": "code",
   "execution_count": null,
   "metadata": {},
   "outputs": [],
   "source": []
  }
 ],
 "metadata": {
  "kernelspec": {
   "display_name": "Python 3",
   "language": "python",
   "name": "python3"
  },
  "language_info": {
   "codemirror_mode": {
    "name": "ipython",
    "version": 3
   },
   "file_extension": ".py",
   "mimetype": "text/x-python",
   "name": "python",
   "nbconvert_exporter": "python",
   "pygments_lexer": "ipython3",
   "version": "3.6.7"
  }
 },
 "nbformat": 4,
 "nbformat_minor": 2
}
